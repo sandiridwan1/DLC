{
  "nbformat": 4,
  "nbformat_minor": 0,
  "metadata": {
    "colab": {
      "name": "ADL02.ipynb",
      "provenance": [],
      "collapsed_sections": [],
      "include_colab_link": true
    },
    "kernelspec": {
      "name": "python3",
      "display_name": "Python 3"
    },
    "language_info": {
      "name": "python"
    }
  },
  "cells": [
    {
      "cell_type": "markdown",
      "metadata": {
        "id": "view-in-github",
        "colab_type": "text"
      },
      "source": [
        "<a href=\"https://colab.research.google.com/github/sandiridwan1/DLC/blob/main/ADL2.ipynb\" target=\"_parent\"><img src=\"https://colab.research.google.com/assets/colab-badge.svg\" alt=\"Open In Colab\"/></a>"
      ]
    },
    {
      "cell_type": "code",
      "execution_count": null,
      "metadata": {
        "id": "e8iwn9d9XamU"
      },
      "outputs": [],
      "source": [
        "import torch"
      ]
    },
    {
      "cell_type": "code",
      "source": [
        "x = torch.arange(12, dtype=torch.float32)\n",
        "x"
      ],
      "metadata": {
        "colab": {
          "base_uri": "https://localhost:8080/"
        },
        "id": "g9zIfPFAXtX6",
        "outputId": "a7cd23a4-c88e-4779-d858-c2e5e1a7f815"
      },
      "execution_count": null,
      "outputs": [
        {
          "output_type": "execute_result",
          "data": {
            "text/plain": [
              "tensor([ 0.,  1.,  2.,  3.,  4.,  5.,  6.,  7.,  8.,  9., 10., 11.])"
            ]
          },
          "metadata": {},
          "execution_count": 2
        }
      ]
    },
    {
      "cell_type": "code",
      "source": [
        "x.shape"
      ],
      "metadata": {
        "colab": {
          "base_uri": "https://localhost:8080/"
        },
        "id": "GcoHA1UMX4zy",
        "outputId": "f834139c-7bbf-44c6-dd68-35648481405c"
      },
      "execution_count": null,
      "outputs": [
        {
          "output_type": "execute_result",
          "data": {
            "text/plain": [
              "torch.Size([12])"
            ]
          },
          "metadata": {},
          "execution_count": 3
        }
      ]
    },
    {
      "cell_type": "code",
      "source": [
        "x.numel()"
      ],
      "metadata": {
        "colab": {
          "base_uri": "https://localhost:8080/"
        },
        "id": "eEwsrZPvX86T",
        "outputId": "18cd2d3c-cc6b-4edf-bc01-029e82a5e85e"
      },
      "execution_count": null,
      "outputs": [
        {
          "output_type": "execute_result",
          "data": {
            "text/plain": [
              "12"
            ]
          },
          "metadata": {},
          "execution_count": 4
        }
      ]
    },
    {
      "cell_type": "code",
      "source": [
        "X = x.reshape(3, 4)\n",
        "X"
      ],
      "metadata": {
        "colab": {
          "base_uri": "https://localhost:8080/"
        },
        "id": "fy-j0si-YHqA",
        "outputId": "04959871-dc47-405a-8b9a-27183eda3eda"
      },
      "execution_count": null,
      "outputs": [
        {
          "output_type": "execute_result",
          "data": {
            "text/plain": [
              "tensor([[ 0.,  1.,  2.,  3.],\n",
              "        [ 4.,  5.,  6.,  7.],\n",
              "        [ 8.,  9., 10., 11.]])"
            ]
          },
          "metadata": {},
          "execution_count": 5
        }
      ]
    },
    {
      "cell_type": "code",
      "source": [
        "torch.zeros((2, 3, 4))"
      ],
      "metadata": {
        "colab": {
          "base_uri": "https://localhost:8080/"
        },
        "id": "KuMzJ_7-YJkn",
        "outputId": "7971639e-4fb0-4f2a-9aa2-cc0ecb9b11d7"
      },
      "execution_count": null,
      "outputs": [
        {
          "output_type": "execute_result",
          "data": {
            "text/plain": [
              "tensor([[[0., 0., 0., 0.],\n",
              "         [0., 0., 0., 0.],\n",
              "         [0., 0., 0., 0.]],\n",
              "\n",
              "        [[0., 0., 0., 0.],\n",
              "         [0., 0., 0., 0.],\n",
              "         [0., 0., 0., 0.]]])"
            ]
          },
          "metadata": {},
          "execution_count": 6
        }
      ]
    },
    {
      "cell_type": "code",
      "source": [
        "torch.ones((2, 3, 4))"
      ],
      "metadata": {
        "colab": {
          "base_uri": "https://localhost:8080/"
        },
        "id": "ZSzraGpxYX7u",
        "outputId": "39380f20-2419-4554-9eea-44c526ebf6fc"
      },
      "execution_count": null,
      "outputs": [
        {
          "output_type": "execute_result",
          "data": {
            "text/plain": [
              "tensor([[[1., 1., 1., 1.],\n",
              "         [1., 1., 1., 1.],\n",
              "         [1., 1., 1., 1.]],\n",
              "\n",
              "        [[1., 1., 1., 1.],\n",
              "         [1., 1., 1., 1.],\n",
              "         [1., 1., 1., 1.]]])"
            ]
          },
          "metadata": {},
          "execution_count": 7
        }
      ]
    },
    {
      "cell_type": "code",
      "source": [
        "torch.randn(3, 4)"
      ],
      "metadata": {
        "colab": {
          "base_uri": "https://localhost:8080/"
        },
        "id": "OPldDapBYp_u",
        "outputId": "fa84e09a-cb23-4873-e8a4-c0bcfa5b495e"
      },
      "execution_count": null,
      "outputs": [
        {
          "output_type": "execute_result",
          "data": {
            "text/plain": [
              "tensor([[-0.2226,  0.0361,  1.0749,  1.1541],\n",
              "        [-1.6013,  1.5462, -1.7161, -0.3801],\n",
              "        [ 0.2257, -0.1702,  0.0609, -0.1765]])"
            ]
          },
          "metadata": {},
          "execution_count": 8
        }
      ]
    },
    {
      "cell_type": "code",
      "source": [
        "torch.tensor([[2, 1, 4, 3], [1, 2, 3, 4], [4, 3, 2, 1]])"
      ],
      "metadata": {
        "colab": {
          "base_uri": "https://localhost:8080/"
        },
        "id": "y_OvCU5RYweS",
        "outputId": "e9113dbb-5df6-41d3-a1cc-60f6dcc04058"
      },
      "execution_count": null,
      "outputs": [
        {
          "output_type": "execute_result",
          "data": {
            "text/plain": [
              "tensor([[2, 1, 4, 3],\n",
              "        [1, 2, 3, 4],\n",
              "        [4, 3, 2, 1]])"
            ]
          },
          "metadata": {},
          "execution_count": 9
        }
      ]
    },
    {
      "cell_type": "code",
      "source": [
        "x = torch.tensor([1.0, 2, 4, 8])\n",
        "y = torch.tensor([2, 2, 2, 2])\n",
        "x + y, x - y, x * y, x / y, x ** y  # The ** operator is exponentiation"
      ],
      "metadata": {
        "colab": {
          "base_uri": "https://localhost:8080/"
        },
        "id": "uqhb58PAZEKT",
        "outputId": "97e81765-f59c-46ee-f9b9-98de49ba54c9"
      },
      "execution_count": null,
      "outputs": [
        {
          "output_type": "execute_result",
          "data": {
            "text/plain": [
              "(tensor([ 3.,  4.,  6., 10.]),\n",
              " tensor([-1.,  0.,  2.,  6.]),\n",
              " tensor([ 2.,  4.,  8., 16.]),\n",
              " tensor([0.5000, 1.0000, 2.0000, 4.0000]),\n",
              " tensor([ 1.,  4., 16., 64.]))"
            ]
          },
          "metadata": {},
          "execution_count": 10
        }
      ]
    },
    {
      "cell_type": "code",
      "source": [
        "torch.exp(x)"
      ],
      "metadata": {
        "colab": {
          "base_uri": "https://localhost:8080/"
        },
        "id": "-uWb1F9WZKfW",
        "outputId": "450fa9c1-780b-4c75-b09a-7c3daf2edc30"
      },
      "execution_count": null,
      "outputs": [
        {
          "output_type": "execute_result",
          "data": {
            "text/plain": [
              "tensor([2.7183e+00, 7.3891e+00, 5.4598e+01, 2.9810e+03])"
            ]
          },
          "metadata": {},
          "execution_count": 11
        }
      ]
    },
    {
      "cell_type": "code",
      "source": [
        "X = torch.arange(12, dtype=torch.float32).reshape((3,4))\n",
        "Y = torch.tensor([[2.0, 1, 4, 3], [1, 2, 3, 4], [4, 3, 2, 1]])\n",
        "torch.cat((X, Y), dim=0), torch.cat((X, Y), dim=1)"
      ],
      "metadata": {
        "colab": {
          "base_uri": "https://localhost:8080/"
        },
        "id": "i-wAli_UZS9j",
        "outputId": "ddca69ae-3073-4669-c573-1f9135dee5bb"
      },
      "execution_count": null,
      "outputs": [
        {
          "output_type": "execute_result",
          "data": {
            "text/plain": [
              "(tensor([[ 0.,  1.,  2.,  3.],\n",
              "         [ 4.,  5.,  6.,  7.],\n",
              "         [ 8.,  9., 10., 11.],\n",
              "         [ 2.,  1.,  4.,  3.],\n",
              "         [ 1.,  2.,  3.,  4.],\n",
              "         [ 4.,  3.,  2.,  1.]]),\n",
              " tensor([[ 0.,  1.,  2.,  3.,  2.,  1.,  4.,  3.],\n",
              "         [ 4.,  5.,  6.,  7.,  1.,  2.,  3.,  4.],\n",
              "         [ 8.,  9., 10., 11.,  4.,  3.,  2.,  1.]]))"
            ]
          },
          "metadata": {},
          "execution_count": 12
        }
      ]
    },
    {
      "cell_type": "code",
      "source": [
        "X == Y"
      ],
      "metadata": {
        "colab": {
          "base_uri": "https://localhost:8080/"
        },
        "id": "C-TPVIuiZZii",
        "outputId": "53f1f68a-d73f-4430-849a-5518d182c64c"
      },
      "execution_count": null,
      "outputs": [
        {
          "output_type": "execute_result",
          "data": {
            "text/plain": [
              "tensor([[False,  True, False,  True],\n",
              "        [False, False, False, False],\n",
              "        [False, False, False, False]])"
            ]
          },
          "metadata": {},
          "execution_count": 13
        }
      ]
    },
    {
      "cell_type": "code",
      "source": [
        "X.sum()"
      ],
      "metadata": {
        "colab": {
          "base_uri": "https://localhost:8080/"
        },
        "id": "kvsZfxmNZpJe",
        "outputId": "e54967ba-ecfe-4662-889f-b747a87f01ca"
      },
      "execution_count": null,
      "outputs": [
        {
          "output_type": "execute_result",
          "data": {
            "text/plain": [
              "tensor(66.)"
            ]
          },
          "metadata": {},
          "execution_count": 14
        }
      ]
    },
    {
      "cell_type": "code",
      "source": [
        "a = torch.arange(3).reshape((3, 1))\n",
        "b = torch.arange(2).reshape((1, 2))\n",
        "a, b"
      ],
      "metadata": {
        "colab": {
          "base_uri": "https://localhost:8080/"
        },
        "id": "_UNr9N-eaAW5",
        "outputId": "b1f35b6f-34a7-46b6-b9fe-fc6c72482b18"
      },
      "execution_count": null,
      "outputs": [
        {
          "output_type": "execute_result",
          "data": {
            "text/plain": [
              "(tensor([[0],\n",
              "         [1],\n",
              "         [2]]), tensor([[0, 1]]))"
            ]
          },
          "metadata": {},
          "execution_count": 15
        }
      ]
    },
    {
      "cell_type": "code",
      "source": [
        "a + b"
      ],
      "metadata": {
        "colab": {
          "base_uri": "https://localhost:8080/"
        },
        "id": "gUc7KODdaRlR",
        "outputId": "8b3e8c75-e928-4ebf-e4f2-5c72ffed7cc7"
      },
      "execution_count": null,
      "outputs": [
        {
          "output_type": "execute_result",
          "data": {
            "text/plain": [
              "tensor([[0, 1],\n",
              "        [1, 2],\n",
              "        [2, 3]])"
            ]
          },
          "metadata": {},
          "execution_count": 16
        }
      ]
    },
    {
      "cell_type": "code",
      "source": [
        "X[-1], X[1:3]"
      ],
      "metadata": {
        "colab": {
          "base_uri": "https://localhost:8080/"
        },
        "id": "uEUHnic8bLfD",
        "outputId": "196ace3d-3016-42ad-b7b7-c0932ffe9948"
      },
      "execution_count": null,
      "outputs": [
        {
          "output_type": "execute_result",
          "data": {
            "text/plain": [
              "(tensor([ 8.,  9., 10., 11.]), tensor([[ 4.,  5.,  6.,  7.],\n",
              "         [ 8.,  9., 10., 11.]]))"
            ]
          },
          "metadata": {},
          "execution_count": 17
        }
      ]
    },
    {
      "cell_type": "code",
      "source": [
        "X[1, 2] = 9\n",
        "X"
      ],
      "metadata": {
        "colab": {
          "base_uri": "https://localhost:8080/"
        },
        "id": "q2N4sDTsbRBo",
        "outputId": "861babe0-cacd-4c28-9703-dab3b49c0b24"
      },
      "execution_count": null,
      "outputs": [
        {
          "output_type": "execute_result",
          "data": {
            "text/plain": [
              "tensor([[ 0.,  1.,  2.,  3.],\n",
              "        [ 4.,  5.,  9.,  7.],\n",
              "        [ 8.,  9., 10., 11.]])"
            ]
          },
          "metadata": {},
          "execution_count": 18
        }
      ]
    },
    {
      "cell_type": "code",
      "source": [
        "X[0:2, :] = 12\n",
        "X"
      ],
      "metadata": {
        "colab": {
          "base_uri": "https://localhost:8080/"
        },
        "id": "MyNsrbiXbWvH",
        "outputId": "df22278c-5dde-4464-cfc4-8542195e5810"
      },
      "execution_count": null,
      "outputs": [
        {
          "output_type": "execute_result",
          "data": {
            "text/plain": [
              "tensor([[12., 12., 12., 12.],\n",
              "        [12., 12., 12., 12.],\n",
              "        [ 8.,  9., 10., 11.]])"
            ]
          },
          "metadata": {},
          "execution_count": 19
        }
      ]
    },
    {
      "cell_type": "code",
      "source": [
        "before = id(Y)\n",
        "Y = Y + X\n",
        "id(Y) == before"
      ],
      "metadata": {
        "colab": {
          "base_uri": "https://localhost:8080/"
        },
        "id": "0Vl4U9JubeP8",
        "outputId": "7d4b322e-54b5-42d8-8ede-e6cd4bb9614a"
      },
      "execution_count": null,
      "outputs": [
        {
          "output_type": "execute_result",
          "data": {
            "text/plain": [
              "False"
            ]
          },
          "metadata": {},
          "execution_count": 20
        }
      ]
    },
    {
      "cell_type": "code",
      "source": [
        "Z = torch.zeros_like(Y)\n",
        "print('id(Z):', id(Z))\n",
        "Z[:] = X + Y\n",
        "print('id(Z):', id(Z))"
      ],
      "metadata": {
        "colab": {
          "base_uri": "https://localhost:8080/"
        },
        "id": "z3afbtcSbjhM",
        "outputId": "743cfec1-e336-4803-b2f2-d0ab7270b684"
      },
      "execution_count": null,
      "outputs": [
        {
          "output_type": "stream",
          "name": "stdout",
          "text": [
            "id(Z): 140228020817168\n",
            "id(Z): 140228020817168\n"
          ]
        }
      ]
    },
    {
      "cell_type": "code",
      "source": [
        "before = id(X)\n",
        "X += Y\n",
        "id(X) == before"
      ],
      "metadata": {
        "colab": {
          "base_uri": "https://localhost:8080/"
        },
        "id": "UGSlvaUcbrg8",
        "outputId": "99da2bab-9cd3-4dce-de6e-da2cc15a281f"
      },
      "execution_count": null,
      "outputs": [
        {
          "output_type": "execute_result",
          "data": {
            "text/plain": [
              "True"
            ]
          },
          "metadata": {},
          "execution_count": 22
        }
      ]
    },
    {
      "cell_type": "code",
      "source": [
        "A = X.numpy()\n",
        "B = torch.from_numpy(A)\n",
        "type(A), type(B)"
      ],
      "metadata": {
        "colab": {
          "base_uri": "https://localhost:8080/"
        },
        "id": "y-YAAZtMbvP1",
        "outputId": "88d81bb6-9ddc-431b-e618-d9a9eb49c09c"
      },
      "execution_count": null,
      "outputs": [
        {
          "output_type": "execute_result",
          "data": {
            "text/plain": [
              "(numpy.ndarray, torch.Tensor)"
            ]
          },
          "metadata": {},
          "execution_count": 23
        }
      ]
    },
    {
      "cell_type": "code",
      "source": [
        "a = torch.tensor([3.5])\n",
        "a, a.item(), float(a), int(a)"
      ],
      "metadata": {
        "colab": {
          "base_uri": "https://localhost:8080/"
        },
        "id": "RPZLRGfLb0hu",
        "outputId": "eb762cb3-ad12-4d17-85f8-05414822cc93"
      },
      "execution_count": null,
      "outputs": [
        {
          "output_type": "execute_result",
          "data": {
            "text/plain": [
              "(tensor([3.5000]), 3.5, 3.5, 3)"
            ]
          },
          "metadata": {},
          "execution_count": 24
        }
      ]
    },
    {
      "cell_type": "code",
      "source": [
        "import os\n",
        "\n",
        "os.makedirs(os.path.join('..', 'data'), exist_ok=True)\n",
        "data_file = os.path.join('..', 'data', 'house_tiny.csv')\n",
        "with open(data_file, 'w') as f:\n",
        "    f.write('NumRooms,Alley,Price\\n')  # Column names\n",
        "    f.write('NA,Pave,127500\\n')  # Each row represents a data example\n",
        "    f.write('2,NA,106000\\n')\n",
        "    f.write('4,NA,178100\\n')\n",
        "    f.write('NA,NA,140000\\n')"
      ],
      "metadata": {
        "id": "mWNl-ZfhemyE"
      },
      "execution_count": null,
      "outputs": []
    },
    {
      "cell_type": "code",
      "source": [
        "# If pandas is not installed, just uncomment the following line:\n",
        "# !pip install pandas\n",
        "import pandas as pd\n",
        "\n",
        "data = pd.read_csv(data_file)\n",
        "print(data)"
      ],
      "metadata": {
        "colab": {
          "base_uri": "https://localhost:8080/"
        },
        "id": "Ou1CNiYmeqag",
        "outputId": "c6144d13-75cb-47d9-f33f-1f7fcd06847a"
      },
      "execution_count": null,
      "outputs": [
        {
          "output_type": "stream",
          "name": "stdout",
          "text": [
            "   NumRooms Alley   Price\n",
            "0       NaN  Pave  127500\n",
            "1       2.0   NaN  106000\n",
            "2       4.0   NaN  178100\n",
            "3       NaN   NaN  140000\n"
          ]
        }
      ]
    },
    {
      "cell_type": "code",
      "source": [
        "inputs, outputs = data.iloc[:, 0:2], data.iloc[:, 2]\n",
        "inputs = inputs.fillna(inputs.mean())\n",
        "print(inputs)"
      ],
      "metadata": {
        "colab": {
          "base_uri": "https://localhost:8080/"
        },
        "id": "MzznBXnqeuue",
        "outputId": "620f9354-dac4-4230-e3fd-24a293970009"
      },
      "execution_count": null,
      "outputs": [
        {
          "output_type": "stream",
          "name": "stdout",
          "text": [
            "   NumRooms Alley\n",
            "0       3.0  Pave\n",
            "1       2.0   NaN\n",
            "2       4.0   NaN\n",
            "3       3.0   NaN\n"
          ]
        },
        {
          "output_type": "stream",
          "name": "stderr",
          "text": [
            "/usr/local/lib/python3.7/dist-packages/ipykernel_launcher.py:2: FutureWarning: Dropping of nuisance columns in DataFrame reductions (with 'numeric_only=None') is deprecated; in a future version this will raise TypeError.  Select only valid columns before calling the reduction.\n",
            "  \n"
          ]
        }
      ]
    },
    {
      "cell_type": "code",
      "source": [
        "inputs = pd.get_dummies(inputs, dummy_na=True)\n",
        "print(inputs)"
      ],
      "metadata": {
        "colab": {
          "base_uri": "https://localhost:8080/"
        },
        "id": "p8ypTKdIfDYI",
        "outputId": "16986737-bb21-4966-a316-7a2354e0906f"
      },
      "execution_count": null,
      "outputs": [
        {
          "output_type": "stream",
          "name": "stdout",
          "text": [
            "   NumRooms  Alley_Pave  Alley_nan\n",
            "0       3.0           1          0\n",
            "1       2.0           0          1\n",
            "2       4.0           0          1\n",
            "3       3.0           0          1\n"
          ]
        }
      ]
    },
    {
      "cell_type": "code",
      "source": [
        "import torch\n",
        "\n",
        "X, y = torch.tensor(inputs.values), torch.tensor(outputs.values)\n",
        "X, y"
      ],
      "metadata": {
        "colab": {
          "base_uri": "https://localhost:8080/"
        },
        "id": "sY4BZ3aRfHeG",
        "outputId": "42061fd9-8a7d-4fa8-c904-2ef1f06c87bb"
      },
      "execution_count": null,
      "outputs": [
        {
          "output_type": "execute_result",
          "data": {
            "text/plain": [
              "(tensor([[3., 1., 0.],\n",
              "         [2., 0., 1.],\n",
              "         [4., 0., 1.],\n",
              "         [3., 0., 1.]], dtype=torch.float64),\n",
              " tensor([127500, 106000, 178100, 140000]))"
            ]
          },
          "metadata": {},
          "execution_count": 29
        }
      ]
    },
    {
      "cell_type": "code",
      "source": [
        "import torch\n",
        "\n",
        "x = torch.tensor(3.0)\n",
        "y = torch.tensor(2.0)\n",
        "\n",
        "x + y, x * y, x / y, x**y"
      ],
      "metadata": {
        "colab": {
          "base_uri": "https://localhost:8080/"
        },
        "id": "RDvVu62jfkxr",
        "outputId": "fea5fc25-5951-495f-ae3a-843d25b4f624"
      },
      "execution_count": null,
      "outputs": [
        {
          "output_type": "execute_result",
          "data": {
            "text/plain": [
              "(tensor(5.), tensor(6.), tensor(1.5000), tensor(9.))"
            ]
          },
          "metadata": {},
          "execution_count": 30
        }
      ]
    },
    {
      "cell_type": "code",
      "source": [
        "x = torch.arange(4)\n",
        "x"
      ],
      "metadata": {
        "colab": {
          "base_uri": "https://localhost:8080/"
        },
        "id": "S7hSNaZhfvJU",
        "outputId": "4ab9bfdc-81b8-4e54-ba35-74dab2bce644"
      },
      "execution_count": null,
      "outputs": [
        {
          "output_type": "execute_result",
          "data": {
            "text/plain": [
              "tensor([0, 1, 2, 3])"
            ]
          },
          "metadata": {},
          "execution_count": 31
        }
      ]
    },
    {
      "cell_type": "code",
      "source": [
        "x[3]"
      ],
      "metadata": {
        "colab": {
          "base_uri": "https://localhost:8080/"
        },
        "id": "YLBUa2Jmf9Ye",
        "outputId": "96550925-fb2b-4212-deaa-76888614dfd1"
      },
      "execution_count": null,
      "outputs": [
        {
          "output_type": "execute_result",
          "data": {
            "text/plain": [
              "tensor(3)"
            ]
          },
          "metadata": {},
          "execution_count": 32
        }
      ]
    },
    {
      "cell_type": "code",
      "source": [
        "len(x)"
      ],
      "metadata": {
        "colab": {
          "base_uri": "https://localhost:8080/"
        },
        "id": "6D9Mh89hf_Cd",
        "outputId": "578b013a-04a6-42de-b3e7-a3d585cd76cc"
      },
      "execution_count": null,
      "outputs": [
        {
          "output_type": "execute_result",
          "data": {
            "text/plain": [
              "4"
            ]
          },
          "metadata": {},
          "execution_count": 33
        }
      ]
    },
    {
      "cell_type": "code",
      "source": [
        "x.shape"
      ],
      "metadata": {
        "colab": {
          "base_uri": "https://localhost:8080/"
        },
        "id": "e6NdHlargMBQ",
        "outputId": "aba34f74-d1c3-46d6-9d26-742c9305cba0"
      },
      "execution_count": null,
      "outputs": [
        {
          "output_type": "execute_result",
          "data": {
            "text/plain": [
              "torch.Size([4])"
            ]
          },
          "metadata": {},
          "execution_count": 34
        }
      ]
    },
    {
      "cell_type": "code",
      "source": [
        "A = torch.arange(20).reshape(5, 4)\n",
        "A"
      ],
      "metadata": {
        "colab": {
          "base_uri": "https://localhost:8080/"
        },
        "id": "6PXmWx6sgXNq",
        "outputId": "9d3d9bb4-b586-4684-8ad6-ddfee3d77da0"
      },
      "execution_count": null,
      "outputs": [
        {
          "output_type": "execute_result",
          "data": {
            "text/plain": [
              "tensor([[ 0,  1,  2,  3],\n",
              "        [ 4,  5,  6,  7],\n",
              "        [ 8,  9, 10, 11],\n",
              "        [12, 13, 14, 15],\n",
              "        [16, 17, 18, 19]])"
            ]
          },
          "metadata": {},
          "execution_count": 35
        }
      ]
    },
    {
      "cell_type": "code",
      "source": [
        "A.T"
      ],
      "metadata": {
        "colab": {
          "base_uri": "https://localhost:8080/"
        },
        "id": "EJ20gpsMgd63",
        "outputId": "8947a25b-bef7-40dc-85c4-5a35d329a510"
      },
      "execution_count": null,
      "outputs": [
        {
          "output_type": "execute_result",
          "data": {
            "text/plain": [
              "tensor([[ 0,  4,  8, 12, 16],\n",
              "        [ 1,  5,  9, 13, 17],\n",
              "        [ 2,  6, 10, 14, 18],\n",
              "        [ 3,  7, 11, 15, 19]])"
            ]
          },
          "metadata": {},
          "execution_count": 36
        }
      ]
    },
    {
      "cell_type": "code",
      "source": [
        "B = torch.tensor([[1, 2, 3], [2, 0, 4], [3, 4, 5]])\n",
        "B"
      ],
      "metadata": {
        "colab": {
          "base_uri": "https://localhost:8080/"
        },
        "id": "VEm-8ELVgf4W",
        "outputId": "16978b2a-c653-46b6-ff31-797e9870243a"
      },
      "execution_count": null,
      "outputs": [
        {
          "output_type": "execute_result",
          "data": {
            "text/plain": [
              "tensor([[1, 2, 3],\n",
              "        [2, 0, 4],\n",
              "        [3, 4, 5]])"
            ]
          },
          "metadata": {},
          "execution_count": 37
        }
      ]
    },
    {
      "cell_type": "code",
      "source": [
        "B == B.T"
      ],
      "metadata": {
        "colab": {
          "base_uri": "https://localhost:8080/"
        },
        "id": "tPgGg5H2gt8F",
        "outputId": "fc341e32-079d-4c47-957f-dc6648bfd99a"
      },
      "execution_count": null,
      "outputs": [
        {
          "output_type": "execute_result",
          "data": {
            "text/plain": [
              "tensor([[True, True, True],\n",
              "        [True, True, True],\n",
              "        [True, True, True]])"
            ]
          },
          "metadata": {},
          "execution_count": 38
        }
      ]
    },
    {
      "cell_type": "code",
      "source": [
        "X = torch.arange(24).reshape(2, 3, 4)\n",
        "X"
      ],
      "metadata": {
        "colab": {
          "base_uri": "https://localhost:8080/"
        },
        "id": "Q-W_uzT0gzJV",
        "outputId": "8b7f97a3-9e99-4010-8c38-87204b646965"
      },
      "execution_count": null,
      "outputs": [
        {
          "output_type": "execute_result",
          "data": {
            "text/plain": [
              "tensor([[[ 0,  1,  2,  3],\n",
              "         [ 4,  5,  6,  7],\n",
              "         [ 8,  9, 10, 11]],\n",
              "\n",
              "        [[12, 13, 14, 15],\n",
              "         [16, 17, 18, 19],\n",
              "         [20, 21, 22, 23]]])"
            ]
          },
          "metadata": {},
          "execution_count": 39
        }
      ]
    },
    {
      "cell_type": "code",
      "source": [
        "A = torch.arange(20, dtype=torch.float32).reshape(5, 4)\n",
        "B = A.clone()  # Assign a copy of `A` to `B` by allocating new memory\n",
        "A, A + B"
      ],
      "metadata": {
        "colab": {
          "base_uri": "https://localhost:8080/"
        },
        "id": "O1P4XoBUg4TJ",
        "outputId": "45a81fc5-fa1d-4c7f-bd87-efee05f800e3"
      },
      "execution_count": null,
      "outputs": [
        {
          "output_type": "execute_result",
          "data": {
            "text/plain": [
              "(tensor([[ 0.,  1.,  2.,  3.],\n",
              "         [ 4.,  5.,  6.,  7.],\n",
              "         [ 8.,  9., 10., 11.],\n",
              "         [12., 13., 14., 15.],\n",
              "         [16., 17., 18., 19.]]), tensor([[ 0.,  2.,  4.,  6.],\n",
              "         [ 8., 10., 12., 14.],\n",
              "         [16., 18., 20., 22.],\n",
              "         [24., 26., 28., 30.],\n",
              "         [32., 34., 36., 38.]]))"
            ]
          },
          "metadata": {},
          "execution_count": 40
        }
      ]
    },
    {
      "cell_type": "code",
      "source": [
        "A * B"
      ],
      "metadata": {
        "colab": {
          "base_uri": "https://localhost:8080/"
        },
        "id": "6wd0rgCrhDNj",
        "outputId": "945ceb24-43be-4792-89bb-b9f72ab47a5e"
      },
      "execution_count": null,
      "outputs": [
        {
          "output_type": "execute_result",
          "data": {
            "text/plain": [
              "tensor([[  0.,   1.,   4.,   9.],\n",
              "        [ 16.,  25.,  36.,  49.],\n",
              "        [ 64.,  81., 100., 121.],\n",
              "        [144., 169., 196., 225.],\n",
              "        [256., 289., 324., 361.]])"
            ]
          },
          "metadata": {},
          "execution_count": 41
        }
      ]
    },
    {
      "cell_type": "code",
      "source": [
        "a = 2\n",
        "X = torch.arange(24).reshape(2, 3, 4)\n",
        "a + X, (a * X).shape"
      ],
      "metadata": {
        "colab": {
          "base_uri": "https://localhost:8080/"
        },
        "id": "bRzrqK9shHux",
        "outputId": "e115c93b-5091-444e-d76a-0558adbe1f66"
      },
      "execution_count": null,
      "outputs": [
        {
          "output_type": "execute_result",
          "data": {
            "text/plain": [
              "(tensor([[[ 2,  3,  4,  5],\n",
              "          [ 6,  7,  8,  9],\n",
              "          [10, 11, 12, 13]],\n",
              " \n",
              "         [[14, 15, 16, 17],\n",
              "          [18, 19, 20, 21],\n",
              "          [22, 23, 24, 25]]]), torch.Size([2, 3, 4]))"
            ]
          },
          "metadata": {},
          "execution_count": 42
        }
      ]
    },
    {
      "cell_type": "code",
      "source": [
        "x = torch.arange(4, dtype=torch.float32)\n",
        "x, x.sum()"
      ],
      "metadata": {
        "colab": {
          "base_uri": "https://localhost:8080/"
        },
        "id": "s32lINMkhTTW",
        "outputId": "89256995-d1a5-4d69-94b7-1e3d3e546f20"
      },
      "execution_count": null,
      "outputs": [
        {
          "output_type": "execute_result",
          "data": {
            "text/plain": [
              "(tensor([0., 1., 2., 3.]), tensor(6.))"
            ]
          },
          "metadata": {},
          "execution_count": 44
        }
      ]
    },
    {
      "cell_type": "code",
      "source": [
        "A.shape, A.sum()"
      ],
      "metadata": {
        "colab": {
          "base_uri": "https://localhost:8080/"
        },
        "id": "085Y6Amihbtt",
        "outputId": "a9656334-0047-4cd8-bff5-b292b14bde96"
      },
      "execution_count": null,
      "outputs": [
        {
          "output_type": "execute_result",
          "data": {
            "text/plain": [
              "(torch.Size([5, 4]), tensor(190.))"
            ]
          },
          "metadata": {},
          "execution_count": 45
        }
      ]
    },
    {
      "cell_type": "code",
      "source": [
        "A_sum_axis0 = A.sum(axis=0)\n",
        "A_sum_axis0, A_sum_axis0.shape"
      ],
      "metadata": {
        "colab": {
          "base_uri": "https://localhost:8080/"
        },
        "id": "3FmVwS7Xhhv5",
        "outputId": "2105c9d8-66f5-42e3-9650-e7c74e3ec5a2"
      },
      "execution_count": null,
      "outputs": [
        {
          "output_type": "execute_result",
          "data": {
            "text/plain": [
              "(tensor([40., 45., 50., 55.]), torch.Size([4]))"
            ]
          },
          "metadata": {},
          "execution_count": 46
        }
      ]
    },
    {
      "cell_type": "code",
      "source": [
        "A_sum_axis1 = A.sum(axis=1)\n",
        "A_sum_axis1, A_sum_axis1.shape"
      ],
      "metadata": {
        "colab": {
          "base_uri": "https://localhost:8080/"
        },
        "id": "-DStiVjZhjET",
        "outputId": "2b7abada-ed81-4be9-e43e-8e25460a54d3"
      },
      "execution_count": null,
      "outputs": [
        {
          "output_type": "execute_result",
          "data": {
            "text/plain": [
              "(tensor([ 6., 22., 38., 54., 70.]), torch.Size([5]))"
            ]
          },
          "metadata": {},
          "execution_count": 47
        }
      ]
    },
    {
      "cell_type": "code",
      "source": [
        "A.sum(axis=[0, 1])  # Same as `A.sum()`"
      ],
      "metadata": {
        "colab": {
          "base_uri": "https://localhost:8080/"
        },
        "id": "Cie9CoNChp-q",
        "outputId": "719b9f50-d8de-4a70-9b25-4bc38ac71333"
      },
      "execution_count": null,
      "outputs": [
        {
          "output_type": "execute_result",
          "data": {
            "text/plain": [
              "tensor(190.)"
            ]
          },
          "metadata": {},
          "execution_count": 48
        }
      ]
    },
    {
      "cell_type": "code",
      "source": [
        "A.mean(), A.sum() / A.numel()"
      ],
      "metadata": {
        "colab": {
          "base_uri": "https://localhost:8080/"
        },
        "id": "8n-8CLb_hv7d",
        "outputId": "b4d37dcc-994d-4d6d-bb09-63a8178b1f93"
      },
      "execution_count": null,
      "outputs": [
        {
          "output_type": "execute_result",
          "data": {
            "text/plain": [
              "(tensor(9.5000), tensor(9.5000))"
            ]
          },
          "metadata": {},
          "execution_count": 49
        }
      ]
    },
    {
      "cell_type": "code",
      "source": [
        "A.mean(axis=0), A.sum(axis=0) / A.shape[0]"
      ],
      "metadata": {
        "colab": {
          "base_uri": "https://localhost:8080/"
        },
        "id": "lS9b_s_0hzzD",
        "outputId": "1c21c239-da9d-466a-9cf4-31e5747e2e56"
      },
      "execution_count": null,
      "outputs": [
        {
          "output_type": "execute_result",
          "data": {
            "text/plain": [
              "(tensor([ 8.,  9., 10., 11.]), tensor([ 8.,  9., 10., 11.]))"
            ]
          },
          "metadata": {},
          "execution_count": 50
        }
      ]
    },
    {
      "cell_type": "code",
      "source": [
        "sum_A = A.sum(axis=1, keepdims=True)\n",
        "sum_A"
      ],
      "metadata": {
        "colab": {
          "base_uri": "https://localhost:8080/"
        },
        "id": "4zmjBV6oh3-9",
        "outputId": "ab3affee-0df4-456d-a128-9210c5165fcc"
      },
      "execution_count": null,
      "outputs": [
        {
          "output_type": "execute_result",
          "data": {
            "text/plain": [
              "tensor([[ 6.],\n",
              "        [22.],\n",
              "        [38.],\n",
              "        [54.],\n",
              "        [70.]])"
            ]
          },
          "metadata": {},
          "execution_count": 51
        }
      ]
    },
    {
      "cell_type": "code",
      "source": [
        "A / sum_A"
      ],
      "metadata": {
        "colab": {
          "base_uri": "https://localhost:8080/"
        },
        "id": "v7awoswxh8Qo",
        "outputId": "e9e582c3-3a77-4110-9c5e-900edde45a43"
      },
      "execution_count": null,
      "outputs": [
        {
          "output_type": "execute_result",
          "data": {
            "text/plain": [
              "tensor([[0.0000, 0.1667, 0.3333, 0.5000],\n",
              "        [0.1818, 0.2273, 0.2727, 0.3182],\n",
              "        [0.2105, 0.2368, 0.2632, 0.2895],\n",
              "        [0.2222, 0.2407, 0.2593, 0.2778],\n",
              "        [0.2286, 0.2429, 0.2571, 0.2714]])"
            ]
          },
          "metadata": {},
          "execution_count": 52
        }
      ]
    },
    {
      "cell_type": "code",
      "source": [
        "A.cumsum(axis=0)"
      ],
      "metadata": {
        "colab": {
          "base_uri": "https://localhost:8080/"
        },
        "id": "6tEWwGUZh_-P",
        "outputId": "a317e37c-5b89-4ea4-b77a-06b50562b9cc"
      },
      "execution_count": null,
      "outputs": [
        {
          "output_type": "execute_result",
          "data": {
            "text/plain": [
              "tensor([[ 0.,  1.,  2.,  3.],\n",
              "        [ 4.,  6.,  8., 10.],\n",
              "        [12., 15., 18., 21.],\n",
              "        [24., 28., 32., 36.],\n",
              "        [40., 45., 50., 55.]])"
            ]
          },
          "metadata": {},
          "execution_count": 53
        }
      ]
    },
    {
      "cell_type": "code",
      "source": [
        "y = torch.ones(4, dtype = torch.float32)\n",
        "x, y, torch.dot(x, y)"
      ],
      "metadata": {
        "colab": {
          "base_uri": "https://localhost:8080/"
        },
        "id": "c7Ge5LqGiDud",
        "outputId": "9e6f480e-d4a3-4415-f4e8-d6d8e26c9aec"
      },
      "execution_count": null,
      "outputs": [
        {
          "output_type": "execute_result",
          "data": {
            "text/plain": [
              "(tensor([0., 1., 2., 3.]), tensor([1., 1., 1., 1.]), tensor(6.))"
            ]
          },
          "metadata": {},
          "execution_count": 54
        }
      ]
    },
    {
      "cell_type": "code",
      "source": [
        "torch.sum(x * y)"
      ],
      "metadata": {
        "colab": {
          "base_uri": "https://localhost:8080/"
        },
        "id": "zt4q8tPoiLpb",
        "outputId": "cf0d7374-7008-4ce5-dcde-2ad14bdbb45d"
      },
      "execution_count": null,
      "outputs": [
        {
          "output_type": "execute_result",
          "data": {
            "text/plain": [
              "tensor(6.)"
            ]
          },
          "metadata": {},
          "execution_count": 55
        }
      ]
    },
    {
      "cell_type": "code",
      "source": [
        "A.shape, x.shape, torch.mv(A, x)"
      ],
      "metadata": {
        "colab": {
          "base_uri": "https://localhost:8080/"
        },
        "id": "roLkQJRBiRE9",
        "outputId": "b9ba66e3-fcdc-40f3-de89-1cd22b36d390"
      },
      "execution_count": null,
      "outputs": [
        {
          "output_type": "execute_result",
          "data": {
            "text/plain": [
              "(torch.Size([5, 4]), torch.Size([4]), tensor([ 14.,  38.,  62.,  86., 110.]))"
            ]
          },
          "metadata": {},
          "execution_count": 56
        }
      ]
    },
    {
      "cell_type": "code",
      "source": [
        "B = torch.ones(4, 3)\n",
        "torch.mm(A, B)"
      ],
      "metadata": {
        "colab": {
          "base_uri": "https://localhost:8080/"
        },
        "id": "gaB-Ts__iYCQ",
        "outputId": "28b3c555-ae44-4bdf-8494-e28f03c1919f"
      },
      "execution_count": null,
      "outputs": [
        {
          "output_type": "execute_result",
          "data": {
            "text/plain": [
              "tensor([[ 6.,  6.,  6.],\n",
              "        [22., 22., 22.],\n",
              "        [38., 38., 38.],\n",
              "        [54., 54., 54.],\n",
              "        [70., 70., 70.]])"
            ]
          },
          "metadata": {},
          "execution_count": 57
        }
      ]
    },
    {
      "cell_type": "code",
      "source": [
        "u = torch.tensor([3.0, -4.0])\n",
        "torch.norm(u)"
      ],
      "metadata": {
        "colab": {
          "base_uri": "https://localhost:8080/"
        },
        "id": "um2JbunGiiku",
        "outputId": "2af59863-e5d5-46bc-d315-e750f23dc786"
      },
      "execution_count": null,
      "outputs": [
        {
          "output_type": "execute_result",
          "data": {
            "text/plain": [
              "tensor(5.)"
            ]
          },
          "metadata": {},
          "execution_count": 58
        }
      ]
    },
    {
      "cell_type": "code",
      "source": [
        "torch.abs(u).sum()"
      ],
      "metadata": {
        "colab": {
          "base_uri": "https://localhost:8080/"
        },
        "id": "DX1N9ehkirMM",
        "outputId": "0160bb9d-cf71-4e85-812c-78bfd9f7fcea"
      },
      "execution_count": null,
      "outputs": [
        {
          "output_type": "execute_result",
          "data": {
            "text/plain": [
              "tensor(7.)"
            ]
          },
          "metadata": {},
          "execution_count": 59
        }
      ]
    },
    {
      "cell_type": "code",
      "source": [
        "torch.norm(torch.ones((4, 9)))"
      ],
      "metadata": {
        "colab": {
          "base_uri": "https://localhost:8080/"
        },
        "id": "HZAOfnYWiwBK",
        "outputId": "5bfb1195-17f7-414e-e5f9-d512bb70f562"
      },
      "execution_count": null,
      "outputs": [
        {
          "output_type": "execute_result",
          "data": {
            "text/plain": [
              "tensor(6.)"
            ]
          },
          "metadata": {},
          "execution_count": 60
        }
      ]
    },
    {
      "cell_type": "code",
      "source": [
        "!pip install d2l"
      ],
      "metadata": {
        "colab": {
          "base_uri": "https://localhost:8080/",
          "height": 1000
        },
        "id": "PNSEm4MAE2fd",
        "outputId": "acd259bf-562d-4abb-c153-01c212b69cb9"
      },
      "execution_count": null,
      "outputs": [
        {
          "output_type": "stream",
          "name": "stdout",
          "text": [
            "Collecting d2l\n",
            "  Downloading d2l-0.17.3-py3-none-any.whl (82 kB)\n",
            "\u001b[?25l\r\u001b[K     |████                            | 10 kB 19.1 MB/s eta 0:00:01\r\u001b[K     |████████                        | 20 kB 10.0 MB/s eta 0:00:01\r\u001b[K     |████████████                    | 30 kB 8.0 MB/s eta 0:00:01\r\u001b[K     |████████████████                | 40 kB 7.4 MB/s eta 0:00:01\r\u001b[K     |███████████████████▉            | 51 kB 3.6 MB/s eta 0:00:01\r\u001b[K     |███████████████████████▉        | 61 kB 4.2 MB/s eta 0:00:01\r\u001b[K     |███████████████████████████▉    | 71 kB 4.4 MB/s eta 0:00:01\r\u001b[K     |███████████████████████████████▉| 81 kB 5.0 MB/s eta 0:00:01\r\u001b[K     |████████████████████████████████| 82 kB 573 kB/s \n",
            "\u001b[?25hRequirement already satisfied: jupyter==1.0.0 in /usr/local/lib/python3.7/dist-packages (from d2l) (1.0.0)\n",
            "Collecting matplotlib==3.3.3\n",
            "  Downloading matplotlib-3.3.3-cp37-cp37m-manylinux1_x86_64.whl (11.6 MB)\n",
            "\u001b[K     |████████████████████████████████| 11.6 MB 21.6 MB/s \n",
            "\u001b[?25hCollecting pandas==1.2.2\n",
            "  Downloading pandas-1.2.2-cp37-cp37m-manylinux1_x86_64.whl (9.9 MB)\n",
            "\u001b[K     |████████████████████████████████| 9.9 MB 32.4 MB/s \n",
            "\u001b[?25hCollecting numpy==1.18.5\n",
            "  Downloading numpy-1.18.5-cp37-cp37m-manylinux1_x86_64.whl (20.1 MB)\n",
            "\u001b[K     |████████████████████████████████| 20.1 MB 1.2 MB/s \n",
            "\u001b[?25hCollecting requests==2.25.1\n",
            "  Downloading requests-2.25.1-py2.py3-none-any.whl (61 kB)\n",
            "\u001b[K     |████████████████████████████████| 61 kB 7.3 MB/s \n",
            "\u001b[?25hRequirement already satisfied: ipykernel in /usr/local/lib/python3.7/dist-packages (from jupyter==1.0.0->d2l) (4.10.1)\n",
            "Requirement already satisfied: jupyter-console in /usr/local/lib/python3.7/dist-packages (from jupyter==1.0.0->d2l) (5.2.0)\n",
            "Requirement already satisfied: notebook in /usr/local/lib/python3.7/dist-packages (from jupyter==1.0.0->d2l) (5.3.1)\n",
            "Requirement already satisfied: qtconsole in /usr/local/lib/python3.7/dist-packages (from jupyter==1.0.0->d2l) (5.2.2)\n",
            "Requirement already satisfied: ipywidgets in /usr/local/lib/python3.7/dist-packages (from jupyter==1.0.0->d2l) (7.6.5)\n",
            "Requirement already satisfied: nbconvert in /usr/local/lib/python3.7/dist-packages (from jupyter==1.0.0->d2l) (5.6.1)\n",
            "Requirement already satisfied: pyparsing!=2.0.4,!=2.1.2,!=2.1.6,>=2.0.3 in /usr/local/lib/python3.7/dist-packages (from matplotlib==3.3.3->d2l) (3.0.7)\n",
            "Requirement already satisfied: cycler>=0.10 in /usr/local/lib/python3.7/dist-packages (from matplotlib==3.3.3->d2l) (0.11.0)\n",
            "Requirement already satisfied: kiwisolver>=1.0.1 in /usr/local/lib/python3.7/dist-packages (from matplotlib==3.3.3->d2l) (1.3.2)\n",
            "Requirement already satisfied: pillow>=6.2.0 in /usr/local/lib/python3.7/dist-packages (from matplotlib==3.3.3->d2l) (7.1.2)\n",
            "Requirement already satisfied: python-dateutil>=2.1 in /usr/local/lib/python3.7/dist-packages (from matplotlib==3.3.3->d2l) (2.8.2)\n",
            "Requirement already satisfied: pytz>=2017.3 in /usr/local/lib/python3.7/dist-packages (from pandas==1.2.2->d2l) (2018.9)\n",
            "Requirement already satisfied: certifi>=2017.4.17 in /usr/local/lib/python3.7/dist-packages (from requests==2.25.1->d2l) (2021.10.8)\n",
            "Requirement already satisfied: chardet<5,>=3.0.2 in /usr/local/lib/python3.7/dist-packages (from requests==2.25.1->d2l) (3.0.4)\n",
            "Requirement already satisfied: urllib3<1.27,>=1.21.1 in /usr/local/lib/python3.7/dist-packages (from requests==2.25.1->d2l) (1.24.3)\n",
            "Requirement already satisfied: idna<3,>=2.5 in /usr/local/lib/python3.7/dist-packages (from requests==2.25.1->d2l) (2.10)\n",
            "Requirement already satisfied: six>=1.5 in /usr/local/lib/python3.7/dist-packages (from python-dateutil>=2.1->matplotlib==3.3.3->d2l) (1.15.0)\n",
            "Requirement already satisfied: jupyter-client in /usr/local/lib/python3.7/dist-packages (from ipykernel->jupyter==1.0.0->d2l) (5.3.5)\n",
            "Requirement already satisfied: traitlets>=4.1.0 in /usr/local/lib/python3.7/dist-packages (from ipykernel->jupyter==1.0.0->d2l) (5.1.1)\n",
            "Requirement already satisfied: tornado>=4.0 in /usr/local/lib/python3.7/dist-packages (from ipykernel->jupyter==1.0.0->d2l) (5.1.1)\n",
            "Requirement already satisfied: ipython>=4.0.0 in /usr/local/lib/python3.7/dist-packages (from ipykernel->jupyter==1.0.0->d2l) (5.5.0)\n",
            "Requirement already satisfied: pickleshare in /usr/local/lib/python3.7/dist-packages (from ipython>=4.0.0->ipykernel->jupyter==1.0.0->d2l) (0.7.5)\n",
            "Requirement already satisfied: prompt-toolkit<2.0.0,>=1.0.4 in /usr/local/lib/python3.7/dist-packages (from ipython>=4.0.0->ipykernel->jupyter==1.0.0->d2l) (1.0.18)\n",
            "Requirement already satisfied: decorator in /usr/local/lib/python3.7/dist-packages (from ipython>=4.0.0->ipykernel->jupyter==1.0.0->d2l) (4.4.2)\n",
            "Requirement already satisfied: setuptools>=18.5 in /usr/local/lib/python3.7/dist-packages (from ipython>=4.0.0->ipykernel->jupyter==1.0.0->d2l) (57.4.0)\n",
            "Requirement already satisfied: pygments in /usr/local/lib/python3.7/dist-packages (from ipython>=4.0.0->ipykernel->jupyter==1.0.0->d2l) (2.6.1)\n",
            "Requirement already satisfied: pexpect in /usr/local/lib/python3.7/dist-packages (from ipython>=4.0.0->ipykernel->jupyter==1.0.0->d2l) (4.8.0)\n",
            "Requirement already satisfied: simplegeneric>0.8 in /usr/local/lib/python3.7/dist-packages (from ipython>=4.0.0->ipykernel->jupyter==1.0.0->d2l) (0.8.1)\n",
            "Requirement already satisfied: wcwidth in /usr/local/lib/python3.7/dist-packages (from prompt-toolkit<2.0.0,>=1.0.4->ipython>=4.0.0->ipykernel->jupyter==1.0.0->d2l) (0.2.5)\n",
            "Requirement already satisfied: widgetsnbextension~=3.5.0 in /usr/local/lib/python3.7/dist-packages (from ipywidgets->jupyter==1.0.0->d2l) (3.5.2)\n",
            "Requirement already satisfied: ipython-genutils~=0.2.0 in /usr/local/lib/python3.7/dist-packages (from ipywidgets->jupyter==1.0.0->d2l) (0.2.0)\n",
            "Requirement already satisfied: nbformat>=4.2.0 in /usr/local/lib/python3.7/dist-packages (from ipywidgets->jupyter==1.0.0->d2l) (5.1.3)\n",
            "Requirement already satisfied: jupyterlab-widgets>=1.0.0 in /usr/local/lib/python3.7/dist-packages (from ipywidgets->jupyter==1.0.0->d2l) (1.0.2)\n",
            "Requirement already satisfied: jsonschema!=2.5.0,>=2.4 in /usr/local/lib/python3.7/dist-packages (from nbformat>=4.2.0->ipywidgets->jupyter==1.0.0->d2l) (4.3.3)\n",
            "Requirement already satisfied: jupyter-core in /usr/local/lib/python3.7/dist-packages (from nbformat>=4.2.0->ipywidgets->jupyter==1.0.0->d2l) (4.9.2)\n",
            "Requirement already satisfied: attrs>=17.4.0 in /usr/local/lib/python3.7/dist-packages (from jsonschema!=2.5.0,>=2.4->nbformat>=4.2.0->ipywidgets->jupyter==1.0.0->d2l) (21.4.0)\n",
            "Requirement already satisfied: importlib-metadata in /usr/local/lib/python3.7/dist-packages (from jsonschema!=2.5.0,>=2.4->nbformat>=4.2.0->ipywidgets->jupyter==1.0.0->d2l) (4.11.1)\n",
            "Requirement already satisfied: pyrsistent!=0.17.0,!=0.17.1,!=0.17.2,>=0.14.0 in /usr/local/lib/python3.7/dist-packages (from jsonschema!=2.5.0,>=2.4->nbformat>=4.2.0->ipywidgets->jupyter==1.0.0->d2l) (0.18.1)\n",
            "Requirement already satisfied: typing-extensions in /usr/local/lib/python3.7/dist-packages (from jsonschema!=2.5.0,>=2.4->nbformat>=4.2.0->ipywidgets->jupyter==1.0.0->d2l) (3.10.0.2)\n",
            "Requirement already satisfied: importlib-resources>=1.4.0 in /usr/local/lib/python3.7/dist-packages (from jsonschema!=2.5.0,>=2.4->nbformat>=4.2.0->ipywidgets->jupyter==1.0.0->d2l) (5.4.0)\n",
            "Requirement already satisfied: zipp>=3.1.0 in /usr/local/lib/python3.7/dist-packages (from importlib-resources>=1.4.0->jsonschema!=2.5.0,>=2.4->nbformat>=4.2.0->ipywidgets->jupyter==1.0.0->d2l) (3.7.0)\n",
            "Requirement already satisfied: Send2Trash in /usr/local/lib/python3.7/dist-packages (from notebook->jupyter==1.0.0->d2l) (1.8.0)\n",
            "Requirement already satisfied: jinja2 in /usr/local/lib/python3.7/dist-packages (from notebook->jupyter==1.0.0->d2l) (2.11.3)\n",
            "Requirement already satisfied: terminado>=0.8.1 in /usr/local/lib/python3.7/dist-packages (from notebook->jupyter==1.0.0->d2l) (0.13.1)\n",
            "Requirement already satisfied: pyzmq>=13 in /usr/local/lib/python3.7/dist-packages (from jupyter-client->ipykernel->jupyter==1.0.0->d2l) (22.3.0)\n",
            "Requirement already satisfied: ptyprocess in /usr/local/lib/python3.7/dist-packages (from terminado>=0.8.1->notebook->jupyter==1.0.0->d2l) (0.7.0)\n",
            "Requirement already satisfied: MarkupSafe>=0.23 in /usr/local/lib/python3.7/dist-packages (from jinja2->notebook->jupyter==1.0.0->d2l) (2.0.1)\n",
            "Requirement already satisfied: pandocfilters>=1.4.1 in /usr/local/lib/python3.7/dist-packages (from nbconvert->jupyter==1.0.0->d2l) (1.5.0)\n",
            "Requirement already satisfied: bleach in /usr/local/lib/python3.7/dist-packages (from nbconvert->jupyter==1.0.0->d2l) (4.1.0)\n",
            "Requirement already satisfied: mistune<2,>=0.8.1 in /usr/local/lib/python3.7/dist-packages (from nbconvert->jupyter==1.0.0->d2l) (0.8.4)\n",
            "Requirement already satisfied: defusedxml in /usr/local/lib/python3.7/dist-packages (from nbconvert->jupyter==1.0.0->d2l) (0.7.1)\n",
            "Requirement already satisfied: testpath in /usr/local/lib/python3.7/dist-packages (from nbconvert->jupyter==1.0.0->d2l) (0.5.0)\n",
            "Requirement already satisfied: entrypoints>=0.2.2 in /usr/local/lib/python3.7/dist-packages (from nbconvert->jupyter==1.0.0->d2l) (0.4)\n",
            "Requirement already satisfied: packaging in /usr/local/lib/python3.7/dist-packages (from bleach->nbconvert->jupyter==1.0.0->d2l) (21.3)\n",
            "Requirement already satisfied: webencodings in /usr/local/lib/python3.7/dist-packages (from bleach->nbconvert->jupyter==1.0.0->d2l) (0.5.1)\n",
            "Requirement already satisfied: qtpy in /usr/local/lib/python3.7/dist-packages (from qtconsole->jupyter==1.0.0->d2l) (2.0.1)\n",
            "Installing collected packages: numpy, requests, pandas, matplotlib, d2l\n",
            "  Attempting uninstall: numpy\n",
            "    Found existing installation: numpy 1.21.5\n",
            "    Uninstalling numpy-1.21.5:\n",
            "      Successfully uninstalled numpy-1.21.5\n",
            "  Attempting uninstall: requests\n",
            "    Found existing installation: requests 2.23.0\n",
            "    Uninstalling requests-2.23.0:\n",
            "      Successfully uninstalled requests-2.23.0\n",
            "  Attempting uninstall: pandas\n",
            "    Found existing installation: pandas 1.3.5\n",
            "    Uninstalling pandas-1.3.5:\n",
            "      Successfully uninstalled pandas-1.3.5\n",
            "  Attempting uninstall: matplotlib\n",
            "    Found existing installation: matplotlib 3.2.2\n",
            "    Uninstalling matplotlib-3.2.2:\n",
            "      Successfully uninstalled matplotlib-3.2.2\n",
            "\u001b[31mERROR: pip's dependency resolver does not currently take into account all the packages that are installed. This behaviour is the source of the following dependency conflicts.\n",
            "tensorflow 2.8.0 requires tf-estimator-nightly==2.8.0.dev2021122109, which is not installed.\n",
            "tensorflow 2.8.0 requires numpy>=1.20, but you have numpy 1.18.5 which is incompatible.\n",
            "tables 3.7.0 requires numpy>=1.19.0, but you have numpy 1.18.5 which is incompatible.\n",
            "google-colab 1.0.0 requires requests~=2.23.0, but you have requests 2.25.1 which is incompatible.\n",
            "datascience 0.10.6 requires folium==0.2.1, but you have folium 0.8.3 which is incompatible.\n",
            "albumentations 0.1.12 requires imgaug<0.2.7,>=0.2.5, but you have imgaug 0.2.9 which is incompatible.\u001b[0m\n",
            "Successfully installed d2l-0.17.3 matplotlib-3.3.3 numpy-1.18.5 pandas-1.2.2 requests-2.25.1\n"
          ]
        },
        {
          "output_type": "display_data",
          "data": {
            "application/vnd.colab-display-data+json": {
              "pip_warning": {
                "packages": [
                  "matplotlib",
                  "mpl_toolkits",
                  "numpy",
                  "pandas"
                ]
              }
            }
          },
          "metadata": {}
        }
      ]
    },
    {
      "cell_type": "code",
      "source": [
        "!pip install matplotlib==3.0.2"
      ],
      "metadata": {
        "colab": {
          "base_uri": "https://localhost:8080/",
          "height": 482
        },
        "id": "hyhkB_gHJSxe",
        "outputId": "151f1046-f1ef-4286-e574-5f2e365b82d8"
      },
      "execution_count": null,
      "outputs": [
        {
          "output_type": "stream",
          "name": "stdout",
          "text": [
            "Collecting matplotlib==3.0.2\n",
            "  Downloading matplotlib-3.0.2-cp37-cp37m-manylinux1_x86_64.whl (12.9 MB)\n",
            "\u001b[K     |████████████████████████████████| 12.9 MB 4.1 MB/s \n",
            "\u001b[?25hRequirement already satisfied: python-dateutil>=2.1 in /usr/local/lib/python3.7/dist-packages (from matplotlib==3.0.2) (2.8.2)\n",
            "Requirement already satisfied: cycler>=0.10 in /usr/local/lib/python3.7/dist-packages (from matplotlib==3.0.2) (0.11.0)\n",
            "Requirement already satisfied: kiwisolver>=1.0.1 in /usr/local/lib/python3.7/dist-packages (from matplotlib==3.0.2) (1.3.2)\n",
            "Requirement already satisfied: numpy>=1.10.0 in /usr/local/lib/python3.7/dist-packages (from matplotlib==3.0.2) (1.18.5)\n",
            "Requirement already satisfied: pyparsing!=2.0.4,!=2.1.2,!=2.1.6,>=2.0.1 in /usr/local/lib/python3.7/dist-packages (from matplotlib==3.0.2) (3.0.7)\n",
            "Requirement already satisfied: six>=1.5 in /usr/local/lib/python3.7/dist-packages (from python-dateutil>=2.1->matplotlib==3.0.2) (1.15.0)\n",
            "Installing collected packages: matplotlib\n",
            "  Attempting uninstall: matplotlib\n",
            "    Found existing installation: matplotlib 3.3.3\n",
            "    Uninstalling matplotlib-3.3.3:\n",
            "      Successfully uninstalled matplotlib-3.3.3\n",
            "\u001b[31mERROR: pip's dependency resolver does not currently take into account all the packages that are installed. This behaviour is the source of the following dependency conflicts.\n",
            "plotnine 0.6.0 requires matplotlib>=3.1.1, but you have matplotlib 3.0.2 which is incompatible.\n",
            "mizani 0.6.0 requires matplotlib>=3.1.1, but you have matplotlib 3.0.2 which is incompatible.\n",
            "d2l 0.17.3 requires matplotlib==3.3.3, but you have matplotlib 3.0.2 which is incompatible.\n",
            "albumentations 0.1.12 requires imgaug<0.2.7,>=0.2.5, but you have imgaug 0.2.9 which is incompatible.\u001b[0m\n",
            "Successfully installed matplotlib-3.0.2\n"
          ]
        },
        {
          "output_type": "display_data",
          "data": {
            "application/vnd.colab-display-data+json": {
              "pip_warning": {
                "packages": [
                  "matplotlib",
                  "mpl_toolkits"
                ]
              }
            }
          },
          "metadata": {}
        }
      ]
    },
    {
      "cell_type": "code",
      "source": [
        "%matplotlib inline\n",
        "import numpy as np\n",
        "from IPython import display\n",
        "from d2l import torch as d2l\n",
        "\n",
        "\n",
        "def f(x):\n",
        "    return 3 * x ** 2 - 4 * x"
      ],
      "metadata": {
        "id": "zbXqzxS0jEdc"
      },
      "execution_count": null,
      "outputs": []
    },
    {
      "cell_type": "code",
      "source": [
        "def numerical_lim(f, x, h):\n",
        "    return (f(x + h) - f(x)) / h\n",
        "\n",
        "h = 0.1\n",
        "for i in range(5):\n",
        "    print(f'h={h:.5f}, numerical limit={numerical_lim(f, 1, h):.5f}')\n",
        "    h *= 0.1"
      ],
      "metadata": {
        "colab": {
          "base_uri": "https://localhost:8080/"
        },
        "id": "u9V4lrxUkxnv",
        "outputId": "e6e9c394-a8d7-4091-a9f3-38f4b22d4ad4"
      },
      "execution_count": null,
      "outputs": [
        {
          "output_type": "stream",
          "name": "stdout",
          "text": [
            "h=0.10000, numerical limit=2.30000\n",
            "h=0.01000, numerical limit=2.03000\n",
            "h=0.00100, numerical limit=2.00300\n",
            "h=0.00010, numerical limit=2.00030\n",
            "h=0.00001, numerical limit=2.00003\n"
          ]
        }
      ]
    },
    {
      "cell_type": "code",
      "source": [
        "def use_svg_display():  #save\n",
        "    \"\"\"Use the svg format to display a plot in Jupyter.\"\"\"\n",
        "    display.set_matplotlib_formats('svg')"
      ],
      "metadata": {
        "id": "8WpLCHxRGzDK"
      },
      "execution_count": null,
      "outputs": []
    },
    {
      "cell_type": "code",
      "source": [
        "def set_figsize(figsize=(3.5, 2.5)):  #save\n",
        "    \"\"\"Set the figure size for matplotlib.\"\"\"\n",
        "    use_svg_display()\n",
        "    d2l.plt.rcParams['figure.figsize'] = figsize"
      ],
      "metadata": {
        "id": "hezeF2D0HFpB"
      },
      "execution_count": null,
      "outputs": []
    },
    {
      "cell_type": "code",
      "source": [
        "#save\n",
        "def set_axes(axes, xlabel, ylabel, xlim, ylim, xscale, yscale, legend):\n",
        "    \"\"\"Set the axes for matplotlib.\"\"\"\n",
        "    axes.set_xlabel(xlabel)\n",
        "    axes.set_ylabel(ylabel)\n",
        "    axes.set_xscale(xscale)\n",
        "    axes.set_yscale(yscale)\n",
        "    axes.set_xlim(xlim)\n",
        "    axes.set_ylim(ylim)\n",
        "    if legend:\n",
        "        axes.legend(legend)\n",
        "    axes.grid()"
      ],
      "metadata": {
        "id": "lBI4PmWOHXKT"
      },
      "execution_count": null,
      "outputs": []
    },
    {
      "cell_type": "code",
      "source": [
        "#save\n",
        "def plot(X, Y=None, xlabel=None, ylabel=None, legend=None, xlim=None,\n",
        "         ylim=None, xscale='linear', yscale='linear',\n",
        "         fmts=('-', 'm--', 'g-.', 'r:'), figsize=(3.5, 2.5), axes=None):\n",
        "    \"\"\"Plot data points.\"\"\"\n",
        "    if legend is None:\n",
        "        legend = []\n",
        "\n",
        "    set_figsize(figsize)\n",
        "    axes = axes if axes else d2l.plt.gca()\n",
        "\n",
        "    # Return True if `X` (tensor or list) has 1 axis\n",
        "    def has_one_axis(X):\n",
        "        return (hasattr(X, \"ndim\") and X.ndim == 1 or isinstance(X, list)\n",
        "                and not hasattr(X[0], \"__len__\"))\n",
        "\n",
        "    if has_one_axis(X):\n",
        "        X = [X]\n",
        "    if Y is None:\n",
        "        X, Y = [[]] * len(X), X\n",
        "    elif has_one_axis(Y):\n",
        "        Y = [Y]\n",
        "    if len(X) != len(Y):\n",
        "        X = X * len(Y)\n",
        "    axes.cla()\n",
        "    for x, y, fmt in zip(X, Y, fmts):\n",
        "        if len(x):\n",
        "            axes.plot(x, y, fmt)\n",
        "        else:\n",
        "            axes.plot(y, fmt)\n",
        "    set_axes(axes, xlabel, ylabel, xlim, ylim, xscale, yscale, legend)"
      ],
      "metadata": {
        "id": "HxxoaTMDHmNu"
      },
      "execution_count": null,
      "outputs": []
    },
    {
      "cell_type": "code",
      "source": [
        "x = np.arange(0, 3, 0.1)\n",
        "plot(x, [f(x), 2 * x - 3], 'x', 'f(x)', legend=['f(x)', 'Tangent line (x=1)'])"
      ],
      "metadata": {
        "colab": {
          "base_uri": "https://localhost:8080/",
          "height": 261
        },
        "id": "bsv8TDQaHuMj",
        "outputId": "4cb864cc-cfb2-47c5-dec3-ab7009560762"
      },
      "execution_count": null,
      "outputs": [
        {
          "output_type": "display_data",
          "data": {
            "text/plain": [
              "<Figure size 252x180 with 1 Axes>"
            ],
            "image/svg+xml": "<?xml version=\"1.0\" encoding=\"utf-8\" standalone=\"no\"?>\n<!DOCTYPE svg PUBLIC \"-//W3C//DTD SVG 1.1//EN\"\n  \"http://www.w3.org/Graphics/SVG/1.1/DTD/svg11.dtd\">\n<!-- Created with matplotlib (https://matplotlib.org/) -->\n<svg height=\"180.65625pt\" version=\"1.1\" viewBox=\"0 0 243.529359 180.65625\" width=\"243.529359pt\" xmlns=\"http://www.w3.org/2000/svg\" xmlns:xlink=\"http://www.w3.org/1999/xlink\">\n <defs>\n  <style type=\"text/css\">\n*{stroke-linecap:butt;stroke-linejoin:round;}\n  </style>\n </defs>\n <g id=\"figure_1\">\n  <g id=\"patch_1\">\n   <path d=\"M 0 180.65625 \nL 243.529359 180.65625 \nL 243.529359 0 \nL 0 0 \nz\n\" style=\"fill:none;\"/>\n  </g>\n  <g id=\"axes_1\">\n   <g id=\"patch_2\">\n    <path d=\"M 40.603125 143.1 \nL 235.903125 143.1 \nL 235.903125 7.2 \nL 40.603125 7.2 \nz\n\" style=\"fill:#ffffff;\"/>\n   </g>\n   <g id=\"matplotlib.axis_1\">\n    <g id=\"xtick_1\">\n     <g id=\"line2d_1\">\n      <path clip-path=\"url(#p1fcde902d9)\" d=\"M 49.480398 143.1 \nL 49.480398 7.2 \n\" style=\"fill:none;stroke:#b0b0b0;stroke-linecap:square;stroke-width:0.8;\"/>\n     </g>\n     <g id=\"line2d_2\">\n      <defs>\n       <path d=\"M 0 0 \nL 0 3.5 \n\" id=\"m3c43d09bde\" style=\"stroke:#000000;stroke-width:0.8;\"/>\n      </defs>\n      <g>\n       <use style=\"stroke:#000000;stroke-width:0.8;\" x=\"49.480398\" xlink:href=\"#m3c43d09bde\" y=\"143.1\"/>\n      </g>\n     </g>\n     <g id=\"text_1\">\n      <!-- 0 -->\n      <defs>\n       <path d=\"M 31.78125 66.40625 \nQ 24.171875 66.40625 20.328125 58.90625 \nQ 16.5 51.421875 16.5 36.375 \nQ 16.5 21.390625 20.328125 13.890625 \nQ 24.171875 6.390625 31.78125 6.390625 \nQ 39.453125 6.390625 43.28125 13.890625 \nQ 47.125 21.390625 47.125 36.375 \nQ 47.125 51.421875 43.28125 58.90625 \nQ 39.453125 66.40625 31.78125 66.40625 \nz\nM 31.78125 74.21875 \nQ 44.046875 74.21875 50.515625 64.515625 \nQ 56.984375 54.828125 56.984375 36.375 \nQ 56.984375 17.96875 50.515625 8.265625 \nQ 44.046875 -1.421875 31.78125 -1.421875 \nQ 19.53125 -1.421875 13.0625 8.265625 \nQ 6.59375 17.96875 6.59375 36.375 \nQ 6.59375 54.828125 13.0625 64.515625 \nQ 19.53125 74.21875 31.78125 74.21875 \nz\n\" id=\"DejaVuSans-48\"/>\n      </defs>\n      <g transform=\"translate(46.299148 157.698438)scale(0.1 -0.1)\">\n       <use xlink:href=\"#DejaVuSans-48\"/>\n      </g>\n     </g>\n    </g>\n    <g id=\"xtick_2\">\n     <g id=\"line2d_3\">\n      <path clip-path=\"url(#p1fcde902d9)\" d=\"M 110.702968 143.1 \nL 110.702968 7.2 \n\" style=\"fill:none;stroke:#b0b0b0;stroke-linecap:square;stroke-width:0.8;\"/>\n     </g>\n     <g id=\"line2d_4\">\n      <g>\n       <use style=\"stroke:#000000;stroke-width:0.8;\" x=\"110.702968\" xlink:href=\"#m3c43d09bde\" y=\"143.1\"/>\n      </g>\n     </g>\n     <g id=\"text_2\">\n      <!-- 1 -->\n      <defs>\n       <path d=\"M 12.40625 8.296875 \nL 28.515625 8.296875 \nL 28.515625 63.921875 \nL 10.984375 60.40625 \nL 10.984375 69.390625 \nL 28.421875 72.90625 \nL 38.28125 72.90625 \nL 38.28125 8.296875 \nL 54.390625 8.296875 \nL 54.390625 0 \nL 12.40625 0 \nz\n\" id=\"DejaVuSans-49\"/>\n      </defs>\n      <g transform=\"translate(107.521718 157.698438)scale(0.1 -0.1)\">\n       <use xlink:href=\"#DejaVuSans-49\"/>\n      </g>\n     </g>\n    </g>\n    <g id=\"xtick_3\">\n     <g id=\"line2d_5\">\n      <path clip-path=\"url(#p1fcde902d9)\" d=\"M 171.925539 143.1 \nL 171.925539 7.2 \n\" style=\"fill:none;stroke:#b0b0b0;stroke-linecap:square;stroke-width:0.8;\"/>\n     </g>\n     <g id=\"line2d_6\">\n      <g>\n       <use style=\"stroke:#000000;stroke-width:0.8;\" x=\"171.925539\" xlink:href=\"#m3c43d09bde\" y=\"143.1\"/>\n      </g>\n     </g>\n     <g id=\"text_3\">\n      <!-- 2 -->\n      <defs>\n       <path d=\"M 19.1875 8.296875 \nL 53.609375 8.296875 \nL 53.609375 0 \nL 7.328125 0 \nL 7.328125 8.296875 \nQ 12.9375 14.109375 22.625 23.890625 \nQ 32.328125 33.6875 34.8125 36.53125 \nQ 39.546875 41.84375 41.421875 45.53125 \nQ 43.3125 49.21875 43.3125 52.78125 \nQ 43.3125 58.59375 39.234375 62.25 \nQ 35.15625 65.921875 28.609375 65.921875 \nQ 23.96875 65.921875 18.8125 64.3125 \nQ 13.671875 62.703125 7.8125 59.421875 \nL 7.8125 69.390625 \nQ 13.765625 71.78125 18.9375 73 \nQ 24.125 74.21875 28.421875 74.21875 \nQ 39.75 74.21875 46.484375 68.546875 \nQ 53.21875 62.890625 53.21875 53.421875 \nQ 53.21875 48.921875 51.53125 44.890625 \nQ 49.859375 40.875 45.40625 35.40625 \nQ 44.1875 33.984375 37.640625 27.21875 \nQ 31.109375 20.453125 19.1875 8.296875 \nz\n\" id=\"DejaVuSans-50\"/>\n      </defs>\n      <g transform=\"translate(168.744289 157.698438)scale(0.1 -0.1)\">\n       <use xlink:href=\"#DejaVuSans-50\"/>\n      </g>\n     </g>\n    </g>\n    <g id=\"xtick_4\">\n     <g id=\"line2d_7\">\n      <path clip-path=\"url(#p1fcde902d9)\" d=\"M 233.148109 143.1 \nL 233.148109 7.2 \n\" style=\"fill:none;stroke:#b0b0b0;stroke-linecap:square;stroke-width:0.8;\"/>\n     </g>\n     <g id=\"line2d_8\">\n      <g>\n       <use style=\"stroke:#000000;stroke-width:0.8;\" x=\"233.148109\" xlink:href=\"#m3c43d09bde\" y=\"143.1\"/>\n      </g>\n     </g>\n     <g id=\"text_4\">\n      <!-- 3 -->\n      <defs>\n       <path d=\"M 40.578125 39.3125 \nQ 47.65625 37.796875 51.625 33 \nQ 55.609375 28.21875 55.609375 21.1875 \nQ 55.609375 10.40625 48.1875 4.484375 \nQ 40.765625 -1.421875 27.09375 -1.421875 \nQ 22.515625 -1.421875 17.65625 -0.515625 \nQ 12.796875 0.390625 7.625 2.203125 \nL 7.625 11.71875 \nQ 11.71875 9.328125 16.59375 8.109375 \nQ 21.484375 6.890625 26.8125 6.890625 \nQ 36.078125 6.890625 40.9375 10.546875 \nQ 45.796875 14.203125 45.796875 21.1875 \nQ 45.796875 27.640625 41.28125 31.265625 \nQ 36.765625 34.90625 28.71875 34.90625 \nL 20.21875 34.90625 \nL 20.21875 43.015625 \nL 29.109375 43.015625 \nQ 36.375 43.015625 40.234375 45.921875 \nQ 44.09375 48.828125 44.09375 54.296875 \nQ 44.09375 59.90625 40.109375 62.90625 \nQ 36.140625 65.921875 28.71875 65.921875 \nQ 24.65625 65.921875 20.015625 65.03125 \nQ 15.375 64.15625 9.8125 62.3125 \nL 9.8125 71.09375 \nQ 15.4375 72.65625 20.34375 73.4375 \nQ 25.25 74.21875 29.59375 74.21875 \nQ 40.828125 74.21875 47.359375 69.109375 \nQ 53.90625 64.015625 53.90625 55.328125 \nQ 53.90625 49.265625 50.4375 45.09375 \nQ 46.96875 40.921875 40.578125 39.3125 \nz\n\" id=\"DejaVuSans-51\"/>\n      </defs>\n      <g transform=\"translate(229.966859 157.698438)scale(0.1 -0.1)\">\n       <use xlink:href=\"#DejaVuSans-51\"/>\n      </g>\n     </g>\n    </g>\n    <g id=\"text_5\">\n     <!-- x -->\n     <defs>\n      <path d=\"M 54.890625 54.6875 \nL 35.109375 28.078125 \nL 55.90625 0 \nL 45.3125 0 \nL 29.390625 21.484375 \nL 13.484375 0 \nL 2.875 0 \nL 24.125 28.609375 \nL 4.6875 54.6875 \nL 15.28125 54.6875 \nL 29.78125 35.203125 \nL 44.28125 54.6875 \nz\n\" id=\"DejaVuSans-120\"/>\n     </defs>\n     <g transform=\"translate(135.29375 171.376563)scale(0.1 -0.1)\">\n      <use xlink:href=\"#DejaVuSans-120\"/>\n     </g>\n    </g>\n   </g>\n   <g id=\"matplotlib.axis_2\">\n    <g id=\"ytick_1\">\n     <g id=\"line2d_9\">\n      <path clip-path=\"url(#p1fcde902d9)\" d=\"M 40.603125 114.635514 \nL 235.903125 114.635514 \n\" style=\"fill:none;stroke:#b0b0b0;stroke-linecap:square;stroke-width:0.8;\"/>\n     </g>\n     <g id=\"line2d_10\">\n      <defs>\n       <path d=\"M 0 0 \nL -3.5 0 \n\" id=\"m446ad8e27e\" style=\"stroke:#000000;stroke-width:0.8;\"/>\n      </defs>\n      <g>\n       <use style=\"stroke:#000000;stroke-width:0.8;\" x=\"40.603125\" xlink:href=\"#m446ad8e27e\" y=\"114.635514\"/>\n      </g>\n     </g>\n     <g id=\"text_6\">\n      <!-- 0 -->\n      <g transform=\"translate(27.240625 118.434732)scale(0.1 -0.1)\">\n       <use xlink:href=\"#DejaVuSans-48\"/>\n      </g>\n     </g>\n    </g>\n    <g id=\"ytick_2\">\n     <g id=\"line2d_11\">\n      <path clip-path=\"url(#p1fcde902d9)\" d=\"M 40.603125 77.490157 \nL 235.903125 77.490157 \n\" style=\"fill:none;stroke:#b0b0b0;stroke-linecap:square;stroke-width:0.8;\"/>\n     </g>\n     <g id=\"line2d_12\">\n      <g>\n       <use style=\"stroke:#000000;stroke-width:0.8;\" x=\"40.603125\" xlink:href=\"#m446ad8e27e\" y=\"77.490157\"/>\n      </g>\n     </g>\n     <g id=\"text_7\">\n      <!-- 5 -->\n      <defs>\n       <path d=\"M 10.796875 72.90625 \nL 49.515625 72.90625 \nL 49.515625 64.59375 \nL 19.828125 64.59375 \nL 19.828125 46.734375 \nQ 21.96875 47.46875 24.109375 47.828125 \nQ 26.265625 48.1875 28.421875 48.1875 \nQ 40.625 48.1875 47.75 41.5 \nQ 54.890625 34.8125 54.890625 23.390625 \nQ 54.890625 11.625 47.5625 5.09375 \nQ 40.234375 -1.421875 26.90625 -1.421875 \nQ 22.3125 -1.421875 17.546875 -0.640625 \nQ 12.796875 0.140625 7.71875 1.703125 \nL 7.71875 11.625 \nQ 12.109375 9.234375 16.796875 8.0625 \nQ 21.484375 6.890625 26.703125 6.890625 \nQ 35.15625 6.890625 40.078125 11.328125 \nQ 45.015625 15.765625 45.015625 23.390625 \nQ 45.015625 31 40.078125 35.4375 \nQ 35.15625 39.890625 26.703125 39.890625 \nQ 22.75 39.890625 18.8125 39.015625 \nQ 14.890625 38.140625 10.796875 36.28125 \nz\n\" id=\"DejaVuSans-53\"/>\n      </defs>\n      <g transform=\"translate(27.240625 81.289376)scale(0.1 -0.1)\">\n       <use xlink:href=\"#DejaVuSans-53\"/>\n      </g>\n     </g>\n    </g>\n    <g id=\"ytick_3\">\n     <g id=\"line2d_13\">\n      <path clip-path=\"url(#p1fcde902d9)\" d=\"M 40.603125 40.344801 \nL 235.903125 40.344801 \n\" style=\"fill:none;stroke:#b0b0b0;stroke-linecap:square;stroke-width:0.8;\"/>\n     </g>\n     <g id=\"line2d_14\">\n      <g>\n       <use style=\"stroke:#000000;stroke-width:0.8;\" x=\"40.603125\" xlink:href=\"#m446ad8e27e\" y=\"40.344801\"/>\n      </g>\n     </g>\n     <g id=\"text_8\">\n      <!-- 10 -->\n      <g transform=\"translate(20.878125 44.14402)scale(0.1 -0.1)\">\n       <use xlink:href=\"#DejaVuSans-49\"/>\n       <use x=\"63.623047\" xlink:href=\"#DejaVuSans-48\"/>\n      </g>\n     </g>\n    </g>\n    <g id=\"text_9\">\n     <!-- f(x) -->\n     <defs>\n      <path d=\"M 37.109375 75.984375 \nL 37.109375 68.5 \nL 28.515625 68.5 \nQ 23.6875 68.5 21.796875 66.546875 \nQ 19.921875 64.59375 19.921875 59.515625 \nL 19.921875 54.6875 \nL 34.71875 54.6875 \nL 34.71875 47.703125 \nL 19.921875 47.703125 \nL 19.921875 0 \nL 10.890625 0 \nL 10.890625 47.703125 \nL 2.296875 47.703125 \nL 2.296875 54.6875 \nL 10.890625 54.6875 \nL 10.890625 58.5 \nQ 10.890625 67.625 15.140625 71.796875 \nQ 19.390625 75.984375 28.609375 75.984375 \nz\n\" id=\"DejaVuSans-102\"/>\n      <path d=\"M 31 75.875 \nQ 24.46875 64.65625 21.28125 53.65625 \nQ 18.109375 42.671875 18.109375 31.390625 \nQ 18.109375 20.125 21.3125 9.0625 \nQ 24.515625 -2 31 -13.1875 \nL 23.1875 -13.1875 \nQ 15.875 -1.703125 12.234375 9.375 \nQ 8.59375 20.453125 8.59375 31.390625 \nQ 8.59375 42.28125 12.203125 53.3125 \nQ 15.828125 64.359375 23.1875 75.875 \nz\n\" id=\"DejaVuSans-40\"/>\n      <path d=\"M 8.015625 75.875 \nL 15.828125 75.875 \nQ 23.140625 64.359375 26.78125 53.3125 \nQ 30.421875 42.28125 30.421875 31.390625 \nQ 30.421875 20.453125 26.78125 9.375 \nQ 23.140625 -1.703125 15.828125 -13.1875 \nL 8.015625 -13.1875 \nQ 14.5 -2 17.703125 9.0625 \nQ 20.90625 20.125 20.90625 31.390625 \nQ 20.90625 42.671875 17.703125 53.65625 \nQ 14.5 64.65625 8.015625 75.875 \nz\n\" id=\"DejaVuSans-41\"/>\n     </defs>\n     <g transform=\"translate(14.798437 83.771094)rotate(-90)scale(0.1 -0.1)\">\n      <use xlink:href=\"#DejaVuSans-102\"/>\n      <use x=\"35.205078\" xlink:href=\"#DejaVuSans-40\"/>\n      <use x=\"74.21875\" xlink:href=\"#DejaVuSans-120\"/>\n      <use x=\"133.398438\" xlink:href=\"#DejaVuSans-41\"/>\n     </g>\n    </g>\n   </g>\n   <g id=\"line2d_15\">\n    <path clip-path=\"url(#p1fcde902d9)\" d=\"M 49.480398 114.635514 \nL 55.602655 117.38427 \nL 61.724912 119.687282 \nL 67.847169 121.54455 \nL 73.969426 122.956073 \nL 80.091683 123.921853 \nL 86.21394 124.441888 \nL 92.336197 124.516178 \nL 98.458454 124.144725 \nL 104.580711 123.327527 \nL 110.702968 122.064585 \nL 116.825225 120.355898 \nL 122.947482 118.201468 \nL 129.069739 115.601293 \nL 135.191996 112.555374 \nL 141.314254 109.06371 \nL 147.436511 105.126302 \nL 153.558768 100.74315 \nL 159.681025 95.914254 \nL 165.803282 90.639614 \nL 171.925539 84.919229 \nL 178.047796 78.7531 \nL 184.170053 72.141226 \nL 190.29231 65.083608 \nL 196.414567 57.580247 \nL 202.536824 49.63114 \nL 208.659081 41.23629 \nL 214.781338 32.395695 \nL 220.903595 23.109356 \nL 227.025852 13.377273 \n\" style=\"fill:none;stroke:#1f77b4;stroke-linecap:square;stroke-width:1.5;\"/>\n   </g>\n   <g id=\"line2d_16\">\n    <path clip-path=\"url(#p1fcde902d9)\" d=\"M 49.480398 136.922727 \nL 55.602655 135.436913 \nL 61.724912 133.951099 \nL 67.847169 132.465285 \nL 73.969426 130.97947 \nL 80.091683 129.493656 \nL 86.21394 128.007842 \nL 92.336197 126.522028 \nL 98.458454 125.036213 \nL 104.580711 123.550399 \nL 110.702968 122.064585 \nL 116.825225 120.578771 \nL 122.947482 119.092956 \nL 129.069739 117.607142 \nL 135.191996 116.121328 \nL 141.314254 114.635514 \nL 147.436511 113.149699 \nL 153.558768 111.663885 \nL 159.681025 110.178071 \nL 165.803282 108.692257 \nL 171.925539 107.206442 \nL 178.047796 105.720628 \nL 184.170053 104.234814 \nL 190.29231 102.749 \nL 196.414567 101.263185 \nL 202.536824 99.777371 \nL 208.659081 98.291557 \nL 214.781338 96.805743 \nL 220.903595 95.319928 \nL 227.025852 93.834114 \n\" style=\"fill:none;stroke:#bf00bf;stroke-dasharray:5.55,2.4;stroke-dashoffset:0;stroke-width:1.5;\"/>\n   </g>\n   <g id=\"patch_3\">\n    <path d=\"M 40.603125 143.1 \nL 40.603125 7.2 \n\" style=\"fill:none;stroke:#000000;stroke-linecap:square;stroke-linejoin:miter;stroke-width:0.8;\"/>\n   </g>\n   <g id=\"patch_4\">\n    <path d=\"M 235.903125 143.1 \nL 235.903125 7.2 \n\" style=\"fill:none;stroke:#000000;stroke-linecap:square;stroke-linejoin:miter;stroke-width:0.8;\"/>\n   </g>\n   <g id=\"patch_5\">\n    <path d=\"M 40.603125 143.1 \nL 235.903125 143.1 \n\" style=\"fill:none;stroke:#000000;stroke-linecap:square;stroke-linejoin:miter;stroke-width:0.8;\"/>\n   </g>\n   <g id=\"patch_6\">\n    <path d=\"M 40.603125 7.2 \nL 235.903125 7.2 \n\" style=\"fill:none;stroke:#000000;stroke-linecap:square;stroke-linejoin:miter;stroke-width:0.8;\"/>\n   </g>\n   <g id=\"legend_1\">\n    <g id=\"patch_7\">\n     <path d=\"M 47.603125 44.55625 \nL 172.153125 44.55625 \nQ 174.153125 44.55625 174.153125 42.55625 \nL 174.153125 14.2 \nQ 174.153125 12.2 172.153125 12.2 \nL 47.603125 12.2 \nQ 45.603125 12.2 45.603125 14.2 \nL 45.603125 42.55625 \nQ 45.603125 44.55625 47.603125 44.55625 \nz\n\" style=\"fill:#ffffff;opacity:0.8;stroke:#cccccc;stroke-linejoin:miter;\"/>\n    </g>\n    <g id=\"line2d_17\">\n     <path d=\"M 49.603125 20.298437 \nL 69.603125 20.298437 \n\" style=\"fill:none;stroke:#1f77b4;stroke-linecap:square;stroke-width:1.5;\"/>\n    </g>\n    <g id=\"line2d_18\"/>\n    <g id=\"text_10\">\n     <!-- f(x) -->\n     <g transform=\"translate(77.603125 23.798437)scale(0.1 -0.1)\">\n      <use xlink:href=\"#DejaVuSans-102\"/>\n      <use x=\"35.205078\" xlink:href=\"#DejaVuSans-40\"/>\n      <use x=\"74.21875\" xlink:href=\"#DejaVuSans-120\"/>\n      <use x=\"133.398438\" xlink:href=\"#DejaVuSans-41\"/>\n     </g>\n    </g>\n    <g id=\"line2d_19\">\n     <path d=\"M 49.603125 34.976562 \nL 69.603125 34.976562 \n\" style=\"fill:none;stroke:#bf00bf;stroke-dasharray:5.55,2.4;stroke-dashoffset:0;stroke-width:1.5;\"/>\n    </g>\n    <g id=\"line2d_20\"/>\n    <g id=\"text_11\">\n     <!-- Tangent line (x=1) -->\n     <defs>\n      <path d=\"M -0.296875 72.90625 \nL 61.375 72.90625 \nL 61.375 64.59375 \nL 35.5 64.59375 \nL 35.5 0 \nL 25.59375 0 \nL 25.59375 64.59375 \nL -0.296875 64.59375 \nz\n\" id=\"DejaVuSans-84\"/>\n      <path d=\"M 34.28125 27.484375 \nQ 23.390625 27.484375 19.1875 25 \nQ 14.984375 22.515625 14.984375 16.5 \nQ 14.984375 11.71875 18.140625 8.90625 \nQ 21.296875 6.109375 26.703125 6.109375 \nQ 34.1875 6.109375 38.703125 11.40625 \nQ 43.21875 16.703125 43.21875 25.484375 \nL 43.21875 27.484375 \nz\nM 52.203125 31.203125 \nL 52.203125 0 \nL 43.21875 0 \nL 43.21875 8.296875 \nQ 40.140625 3.328125 35.546875 0.953125 \nQ 30.953125 -1.421875 24.3125 -1.421875 \nQ 15.921875 -1.421875 10.953125 3.296875 \nQ 6 8.015625 6 15.921875 \nQ 6 25.140625 12.171875 29.828125 \nQ 18.359375 34.515625 30.609375 34.515625 \nL 43.21875 34.515625 \nL 43.21875 35.40625 \nQ 43.21875 41.609375 39.140625 45 \nQ 35.0625 48.390625 27.6875 48.390625 \nQ 23 48.390625 18.546875 47.265625 \nQ 14.109375 46.140625 10.015625 43.890625 \nL 10.015625 52.203125 \nQ 14.9375 54.109375 19.578125 55.046875 \nQ 24.21875 56 28.609375 56 \nQ 40.484375 56 46.34375 49.84375 \nQ 52.203125 43.703125 52.203125 31.203125 \nz\n\" id=\"DejaVuSans-97\"/>\n      <path d=\"M 54.890625 33.015625 \nL 54.890625 0 \nL 45.90625 0 \nL 45.90625 32.71875 \nQ 45.90625 40.484375 42.875 44.328125 \nQ 39.84375 48.1875 33.796875 48.1875 \nQ 26.515625 48.1875 22.3125 43.546875 \nQ 18.109375 38.921875 18.109375 30.90625 \nL 18.109375 0 \nL 9.078125 0 \nL 9.078125 54.6875 \nL 18.109375 54.6875 \nL 18.109375 46.1875 \nQ 21.34375 51.125 25.703125 53.5625 \nQ 30.078125 56 35.796875 56 \nQ 45.21875 56 50.046875 50.171875 \nQ 54.890625 44.34375 54.890625 33.015625 \nz\n\" id=\"DejaVuSans-110\"/>\n      <path d=\"M 45.40625 27.984375 \nQ 45.40625 37.75 41.375 43.109375 \nQ 37.359375 48.484375 30.078125 48.484375 \nQ 22.859375 48.484375 18.828125 43.109375 \nQ 14.796875 37.75 14.796875 27.984375 \nQ 14.796875 18.265625 18.828125 12.890625 \nQ 22.859375 7.515625 30.078125 7.515625 \nQ 37.359375 7.515625 41.375 12.890625 \nQ 45.40625 18.265625 45.40625 27.984375 \nz\nM 54.390625 6.78125 \nQ 54.390625 -7.171875 48.1875 -13.984375 \nQ 42 -20.796875 29.203125 -20.796875 \nQ 24.46875 -20.796875 20.265625 -20.09375 \nQ 16.0625 -19.390625 12.109375 -17.921875 \nL 12.109375 -9.1875 \nQ 16.0625 -11.328125 19.921875 -12.34375 \nQ 23.78125 -13.375 27.78125 -13.375 \nQ 36.625 -13.375 41.015625 -8.765625 \nQ 45.40625 -4.15625 45.40625 5.171875 \nL 45.40625 9.625 \nQ 42.625 4.78125 38.28125 2.390625 \nQ 33.9375 0 27.875 0 \nQ 17.828125 0 11.671875 7.65625 \nQ 5.515625 15.328125 5.515625 27.984375 \nQ 5.515625 40.671875 11.671875 48.328125 \nQ 17.828125 56 27.875 56 \nQ 33.9375 56 38.28125 53.609375 \nQ 42.625 51.21875 45.40625 46.390625 \nL 45.40625 54.6875 \nL 54.390625 54.6875 \nz\n\" id=\"DejaVuSans-103\"/>\n      <path d=\"M 56.203125 29.59375 \nL 56.203125 25.203125 \nL 14.890625 25.203125 \nQ 15.484375 15.921875 20.484375 11.0625 \nQ 25.484375 6.203125 34.421875 6.203125 \nQ 39.59375 6.203125 44.453125 7.46875 \nQ 49.3125 8.734375 54.109375 11.28125 \nL 54.109375 2.78125 \nQ 49.265625 0.734375 44.1875 -0.34375 \nQ 39.109375 -1.421875 33.890625 -1.421875 \nQ 20.796875 -1.421875 13.15625 6.1875 \nQ 5.515625 13.8125 5.515625 26.8125 \nQ 5.515625 40.234375 12.765625 48.109375 \nQ 20.015625 56 32.328125 56 \nQ 43.359375 56 49.78125 48.890625 \nQ 56.203125 41.796875 56.203125 29.59375 \nz\nM 47.21875 32.234375 \nQ 47.125 39.59375 43.09375 43.984375 \nQ 39.0625 48.390625 32.421875 48.390625 \nQ 24.90625 48.390625 20.390625 44.140625 \nQ 15.875 39.890625 15.1875 32.171875 \nz\n\" id=\"DejaVuSans-101\"/>\n      <path d=\"M 18.3125 70.21875 \nL 18.3125 54.6875 \nL 36.8125 54.6875 \nL 36.8125 47.703125 \nL 18.3125 47.703125 \nL 18.3125 18.015625 \nQ 18.3125 11.328125 20.140625 9.421875 \nQ 21.96875 7.515625 27.59375 7.515625 \nL 36.8125 7.515625 \nL 36.8125 0 \nL 27.59375 0 \nQ 17.1875 0 13.234375 3.875 \nQ 9.28125 7.765625 9.28125 18.015625 \nL 9.28125 47.703125 \nL 2.6875 47.703125 \nL 2.6875 54.6875 \nL 9.28125 54.6875 \nL 9.28125 70.21875 \nz\n\" id=\"DejaVuSans-116\"/>\n      <path id=\"DejaVuSans-32\"/>\n      <path d=\"M 9.421875 75.984375 \nL 18.40625 75.984375 \nL 18.40625 0 \nL 9.421875 0 \nz\n\" id=\"DejaVuSans-108\"/>\n      <path d=\"M 9.421875 54.6875 \nL 18.40625 54.6875 \nL 18.40625 0 \nL 9.421875 0 \nz\nM 9.421875 75.984375 \nL 18.40625 75.984375 \nL 18.40625 64.59375 \nL 9.421875 64.59375 \nz\n\" id=\"DejaVuSans-105\"/>\n      <path d=\"M 10.59375 45.40625 \nL 73.1875 45.40625 \nL 73.1875 37.203125 \nL 10.59375 37.203125 \nz\nM 10.59375 25.484375 \nL 73.1875 25.484375 \nL 73.1875 17.1875 \nL 10.59375 17.1875 \nz\n\" id=\"DejaVuSans-61\"/>\n     </defs>\n     <g transform=\"translate(77.603125 38.476562)scale(0.1 -0.1)\">\n      <use xlink:href=\"#DejaVuSans-84\"/>\n      <use x=\"44.583984\" xlink:href=\"#DejaVuSans-97\"/>\n      <use x=\"105.863281\" xlink:href=\"#DejaVuSans-110\"/>\n      <use x=\"169.242188\" xlink:href=\"#DejaVuSans-103\"/>\n      <use x=\"232.71875\" xlink:href=\"#DejaVuSans-101\"/>\n      <use x=\"294.242188\" xlink:href=\"#DejaVuSans-110\"/>\n      <use x=\"357.621094\" xlink:href=\"#DejaVuSans-116\"/>\n      <use x=\"396.830078\" xlink:href=\"#DejaVuSans-32\"/>\n      <use x=\"428.617188\" xlink:href=\"#DejaVuSans-108\"/>\n      <use x=\"456.400391\" xlink:href=\"#DejaVuSans-105\"/>\n      <use x=\"484.183594\" xlink:href=\"#DejaVuSans-110\"/>\n      <use x=\"547.5625\" xlink:href=\"#DejaVuSans-101\"/>\n      <use x=\"609.085938\" xlink:href=\"#DejaVuSans-32\"/>\n      <use x=\"640.873047\" xlink:href=\"#DejaVuSans-40\"/>\n      <use x=\"679.886719\" xlink:href=\"#DejaVuSans-120\"/>\n      <use x=\"739.066406\" xlink:href=\"#DejaVuSans-61\"/>\n      <use x=\"822.855469\" xlink:href=\"#DejaVuSans-49\"/>\n      <use x=\"886.478516\" xlink:href=\"#DejaVuSans-41\"/>\n     </g>\n    </g>\n   </g>\n  </g>\n </g>\n <defs>\n  <clipPath id=\"p1fcde902d9\">\n   <rect height=\"135.9\" width=\"195.3\" x=\"40.603125\" y=\"7.2\"/>\n  </clipPath>\n </defs>\n</svg>\n"
          },
          "metadata": {
            "needs_background": "light"
          }
        }
      ]
    },
    {
      "cell_type": "code",
      "source": [
        "import torch\n",
        "\n",
        "x = torch.arange(4.0)\n",
        "x"
      ],
      "metadata": {
        "colab": {
          "base_uri": "https://localhost:8080/"
        },
        "id": "rb4U8cejJ31D",
        "outputId": "5a6998ea-6c5b-4546-b012-1d2ef2a1f020"
      },
      "execution_count": null,
      "outputs": [
        {
          "output_type": "execute_result",
          "data": {
            "text/plain": [
              "tensor([0., 1., 2., 3.])"
            ]
          },
          "metadata": {},
          "execution_count": 13
        }
      ]
    },
    {
      "cell_type": "code",
      "source": [
        "x.requires_grad_(True)  # Same as `x = torch.arange(4.0, requires_grad=True)`\n",
        "x.grad  # The default value is None"
      ],
      "metadata": {
        "id": "RfY7u85dJ-kj"
      },
      "execution_count": null,
      "outputs": []
    },
    {
      "cell_type": "code",
      "source": [
        "y = 2 * torch.dot(x, x)\n",
        "y"
      ],
      "metadata": {
        "colab": {
          "base_uri": "https://localhost:8080/"
        },
        "id": "a9vyVehwKDFY",
        "outputId": "0a23bbfb-2aea-4c9b-d285-b2e3a42a487e"
      },
      "execution_count": null,
      "outputs": [
        {
          "output_type": "execute_result",
          "data": {
            "text/plain": [
              "tensor(28., grad_fn=<MulBackward0>)"
            ]
          },
          "metadata": {},
          "execution_count": 15
        }
      ]
    },
    {
      "cell_type": "code",
      "source": [
        "y.backward()\n",
        "x.grad"
      ],
      "metadata": {
        "colab": {
          "base_uri": "https://localhost:8080/"
        },
        "id": "hpx76Z4KKQG2",
        "outputId": "36138b0f-f593-4b5b-95cc-f740f841baca"
      },
      "execution_count": null,
      "outputs": [
        {
          "output_type": "execute_result",
          "data": {
            "text/plain": [
              "tensor([ 0.,  4.,  8., 12.])"
            ]
          },
          "metadata": {},
          "execution_count": 16
        }
      ]
    },
    {
      "cell_type": "code",
      "source": [
        "x.grad == 4 * x"
      ],
      "metadata": {
        "colab": {
          "base_uri": "https://localhost:8080/"
        },
        "id": "ru-uzmywKahd",
        "outputId": "6bbb3408-1240-4371-f7b8-09b7df1d65f0"
      },
      "execution_count": null,
      "outputs": [
        {
          "output_type": "execute_result",
          "data": {
            "text/plain": [
              "tensor([True, True, True, True])"
            ]
          },
          "metadata": {},
          "execution_count": 17
        }
      ]
    },
    {
      "cell_type": "code",
      "source": [
        "# PyTorch accumulates the gradient in default, we need to clear the previous\n",
        "# values\n",
        "x.grad.zero_()\n",
        "y = x.sum()\n",
        "y.backward()\n",
        "x.grad"
      ],
      "metadata": {
        "colab": {
          "base_uri": "https://localhost:8080/"
        },
        "id": "AGssgAVSKfEa",
        "outputId": "1d6d5ba5-b131-4468-93be-42d6fc57ab2c"
      },
      "execution_count": null,
      "outputs": [
        {
          "output_type": "execute_result",
          "data": {
            "text/plain": [
              "tensor([1., 1., 1., 1.])"
            ]
          },
          "metadata": {},
          "execution_count": 18
        }
      ]
    },
    {
      "cell_type": "code",
      "source": [
        "# Invoking `backward` on a non-scalar requires passing in a `gradient` argument\n",
        "# which specifies the gradient of the differentiated function w.r.t `self`.\n",
        "# In our case, we simply want to sum the partial derivatives, so passing\n",
        "# in a gradient of ones is appropriate\n",
        "x.grad.zero_()\n",
        "y = x * x\n",
        "# y.backward(torch.ones(len(x))) equivalent to the below\n",
        "y.sum().backward()\n",
        "x.grad"
      ],
      "metadata": {
        "colab": {
          "base_uri": "https://localhost:8080/"
        },
        "id": "jFZUN59BKlSR",
        "outputId": "4ef65aae-8c5c-40cc-ef65-f1fa95c33459"
      },
      "execution_count": null,
      "outputs": [
        {
          "output_type": "execute_result",
          "data": {
            "text/plain": [
              "tensor([0., 2., 4., 6.])"
            ]
          },
          "metadata": {},
          "execution_count": 19
        }
      ]
    },
    {
      "cell_type": "code",
      "source": [
        "x.grad.zero_()\n",
        "y = x * x\n",
        "u = y.detach()\n",
        "z = u * x\n",
        "\n",
        "z.sum().backward()\n",
        "x.grad == u"
      ],
      "metadata": {
        "colab": {
          "base_uri": "https://localhost:8080/"
        },
        "id": "6qaZVcPmKrky",
        "outputId": "a2b1c111-9bb7-4caa-be94-c7850ee9b469"
      },
      "execution_count": null,
      "outputs": [
        {
          "output_type": "execute_result",
          "data": {
            "text/plain": [
              "tensor([True, True, True, True])"
            ]
          },
          "metadata": {},
          "execution_count": 20
        }
      ]
    },
    {
      "cell_type": "code",
      "source": [
        "x.grad.zero_()\n",
        "y.sum().backward()\n",
        "x.grad == 2 * x"
      ],
      "metadata": {
        "colab": {
          "base_uri": "https://localhost:8080/"
        },
        "id": "56rv7dgOLGyn",
        "outputId": "e68dec80-9a85-43ad-a14f-208ee7b8a7a1"
      },
      "execution_count": null,
      "outputs": [
        {
          "output_type": "execute_result",
          "data": {
            "text/plain": [
              "tensor([True, True, True, True])"
            ]
          },
          "metadata": {},
          "execution_count": 21
        }
      ]
    },
    {
      "cell_type": "code",
      "source": [
        "def f(a):\n",
        "    b = a * 2\n",
        "    while b.norm() < 1000:\n",
        "        b = b * 2\n",
        "    if b.sum() > 0:\n",
        "        c = b\n",
        "    else:\n",
        "        c = 100 * b\n",
        "    return c"
      ],
      "metadata": {
        "id": "IrNYz5gdLOP1"
      },
      "execution_count": null,
      "outputs": []
    },
    {
      "cell_type": "code",
      "source": [
        "a = torch.randn(size=(), requires_grad=True)\n",
        "d = f(a)\n",
        "d.backward()"
      ],
      "metadata": {
        "id": "VxWUqKfTLYf9"
      },
      "execution_count": null,
      "outputs": []
    },
    {
      "cell_type": "code",
      "source": [
        "a.grad == d / a"
      ],
      "metadata": {
        "colab": {
          "base_uri": "https://localhost:8080/"
        },
        "id": "Zw64i0m6LcPd",
        "outputId": "5ab63a69-3f5b-4e52-a18f-f42ebff094e2"
      },
      "execution_count": null,
      "outputs": [
        {
          "output_type": "execute_result",
          "data": {
            "text/plain": [
              "tensor(True)"
            ]
          },
          "metadata": {},
          "execution_count": 24
        }
      ]
    },
    {
      "cell_type": "code",
      "source": [
        "%matplotlib inline\n",
        "import torch\n",
        "from torch.distributions import multinomial\n",
        "from d2l import torch as d2l"
      ],
      "metadata": {
        "id": "eT2g5uW8Lz7x"
      },
      "execution_count": null,
      "outputs": []
    },
    {
      "cell_type": "code",
      "source": [
        "fair_probs = torch.ones([6]) / 6\n",
        "multinomial.Multinomial(1, fair_probs).sample()"
      ],
      "metadata": {
        "colab": {
          "base_uri": "https://localhost:8080/"
        },
        "id": "2wzVrriNL11n",
        "outputId": "2182b6ee-ea42-42eb-aff1-35f4dc382af9"
      },
      "execution_count": null,
      "outputs": [
        {
          "output_type": "execute_result",
          "data": {
            "text/plain": [
              "tensor([1., 0., 0., 0., 0., 0.])"
            ]
          },
          "metadata": {},
          "execution_count": 26
        }
      ]
    },
    {
      "cell_type": "code",
      "source": [
        "multinomial.Multinomial(10, fair_probs).sample()"
      ],
      "metadata": {
        "colab": {
          "base_uri": "https://localhost:8080/"
        },
        "id": "mDYrysBmMCZp",
        "outputId": "775bede5-132d-494b-d225-1ef7a34e1afa"
      },
      "execution_count": null,
      "outputs": [
        {
          "output_type": "execute_result",
          "data": {
            "text/plain": [
              "tensor([2., 1., 1., 0., 2., 4.])"
            ]
          },
          "metadata": {},
          "execution_count": 27
        }
      ]
    },
    {
      "cell_type": "code",
      "source": [
        "# Store the results as 32-bit floats for division\n",
        "counts = multinomial.Multinomial(1000, fair_probs).sample()\n",
        "counts / 1000  # Relative frequency as the estimate"
      ],
      "metadata": {
        "colab": {
          "base_uri": "https://localhost:8080/"
        },
        "id": "q9x6fy2sMj3m",
        "outputId": "84cb97a3-dafb-4d27-e0b5-9a35a3e182ac"
      },
      "execution_count": null,
      "outputs": [
        {
          "output_type": "execute_result",
          "data": {
            "text/plain": [
              "tensor([0.1540, 0.1620, 0.1500, 0.2000, 0.1640, 0.1700])"
            ]
          },
          "metadata": {},
          "execution_count": 28
        }
      ]
    },
    {
      "cell_type": "code",
      "source": [
        "counts = multinomial.Multinomial(10, fair_probs).sample((500,))\n",
        "cum_counts = counts.cumsum(dim=0)\n",
        "estimates = cum_counts / cum_counts.sum(dim=1, keepdims=True)\n",
        "\n",
        "d2l.set_figsize((6, 4.5))\n",
        "for i in range(6):\n",
        "    d2l.plt.plot(estimates[:, i].numpy(),\n",
        "                 label=(\"P(die=\" + str(i + 1) + \")\"))\n",
        "d2l.plt.axhline(y=0.167, color='black', linestyle='dashed')\n",
        "d2l.plt.gca().set_xlabel('Groups of experiments')\n",
        "d2l.plt.gca().set_ylabel('Estimated probability')\n",
        "d2l.plt.legend();"
      ],
      "metadata": {
        "colab": {
          "base_uri": "https://localhost:8080/",
          "height": 406
        },
        "id": "W4x7aiUKMous",
        "outputId": "da3b8550-ef14-4038-bb65-51ac1f910875"
      },
      "execution_count": null,
      "outputs": [
        {
          "output_type": "display_data",
          "data": {
            "text/plain": [
              "<Figure size 432x324 with 1 Axes>"
            ],
            "image/svg+xml": "<?xml version=\"1.0\" encoding=\"utf-8\" standalone=\"no\"?>\n<!DOCTYPE svg PUBLIC \"-//W3C//DTD SVG 1.1//EN\"\n  \"http://www.w3.org/Graphics/SVG/1.1/DTD/svg11.dtd\">\n<!-- Created with matplotlib (https://matplotlib.org/) -->\n<svg height=\"289.37625pt\" version=\"1.1\" viewBox=\"0 0 392.14375 289.37625\" width=\"392.14375pt\" xmlns=\"http://www.w3.org/2000/svg\" xmlns:xlink=\"http://www.w3.org/1999/xlink\">\n <defs>\n  <style type=\"text/css\">\n*{stroke-linecap:butt;stroke-linejoin:round;}\n  </style>\n </defs>\n <g id=\"figure_1\">\n  <g id=\"patch_1\">\n   <path d=\"M 0 289.37625 \nL 392.14375 289.37625 \nL 392.14375 0 \nL 0 0 \nz\n\" style=\"fill:none;\"/>\n  </g>\n  <g id=\"axes_1\">\n   <g id=\"patch_2\">\n    <path d=\"M 50.14375 251.82 \nL 384.94375 251.82 \nL 384.94375 7.2 \nL 50.14375 7.2 \nz\n\" style=\"fill:#ffffff;\"/>\n   </g>\n   <g id=\"matplotlib.axis_1\">\n    <g id=\"xtick_1\">\n     <g id=\"line2d_1\">\n      <defs>\n       <path d=\"M 0 0 \nL 0 3.5 \n\" id=\"m1ac760d70e\" style=\"stroke:#000000;stroke-width:0.8;\"/>\n      </defs>\n      <g>\n       <use style=\"stroke:#000000;stroke-width:0.8;\" x=\"65.361932\" xlink:href=\"#m1ac760d70e\" y=\"251.82\"/>\n      </g>\n     </g>\n     <g id=\"text_1\">\n      <!-- 0 -->\n      <defs>\n       <path d=\"M 31.78125 66.40625 \nQ 24.171875 66.40625 20.328125 58.90625 \nQ 16.5 51.421875 16.5 36.375 \nQ 16.5 21.390625 20.328125 13.890625 \nQ 24.171875 6.390625 31.78125 6.390625 \nQ 39.453125 6.390625 43.28125 13.890625 \nQ 47.125 21.390625 47.125 36.375 \nQ 47.125 51.421875 43.28125 58.90625 \nQ 39.453125 66.40625 31.78125 66.40625 \nz\nM 31.78125 74.21875 \nQ 44.046875 74.21875 50.515625 64.515625 \nQ 56.984375 54.828125 56.984375 36.375 \nQ 56.984375 17.96875 50.515625 8.265625 \nQ 44.046875 -1.421875 31.78125 -1.421875 \nQ 19.53125 -1.421875 13.0625 8.265625 \nQ 6.59375 17.96875 6.59375 36.375 \nQ 6.59375 54.828125 13.0625 64.515625 \nQ 19.53125 74.21875 31.78125 74.21875 \nz\n\" id=\"DejaVuSans-48\"/>\n      </defs>\n      <g transform=\"translate(62.180682 266.418437)scale(0.1 -0.1)\">\n       <use xlink:href=\"#DejaVuSans-48\"/>\n      </g>\n     </g>\n    </g>\n    <g id=\"xtick_2\">\n     <g id=\"line2d_2\">\n      <g>\n       <use style=\"stroke:#000000;stroke-width:0.8;\" x=\"126.356649\" xlink:href=\"#m1ac760d70e\" y=\"251.82\"/>\n      </g>\n     </g>\n     <g id=\"text_2\">\n      <!-- 100 -->\n      <defs>\n       <path d=\"M 12.40625 8.296875 \nL 28.515625 8.296875 \nL 28.515625 63.921875 \nL 10.984375 60.40625 \nL 10.984375 69.390625 \nL 28.421875 72.90625 \nL 38.28125 72.90625 \nL 38.28125 8.296875 \nL 54.390625 8.296875 \nL 54.390625 0 \nL 12.40625 0 \nz\n\" id=\"DejaVuSans-49\"/>\n      </defs>\n      <g transform=\"translate(116.812899 266.418437)scale(0.1 -0.1)\">\n       <use xlink:href=\"#DejaVuSans-49\"/>\n       <use x=\"63.623047\" xlink:href=\"#DejaVuSans-48\"/>\n       <use x=\"127.246094\" xlink:href=\"#DejaVuSans-48\"/>\n      </g>\n     </g>\n    </g>\n    <g id=\"xtick_3\">\n     <g id=\"line2d_3\">\n      <g>\n       <use style=\"stroke:#000000;stroke-width:0.8;\" x=\"187.351365\" xlink:href=\"#m1ac760d70e\" y=\"251.82\"/>\n      </g>\n     </g>\n     <g id=\"text_3\">\n      <!-- 200 -->\n      <defs>\n       <path d=\"M 19.1875 8.296875 \nL 53.609375 8.296875 \nL 53.609375 0 \nL 7.328125 0 \nL 7.328125 8.296875 \nQ 12.9375 14.109375 22.625 23.890625 \nQ 32.328125 33.6875 34.8125 36.53125 \nQ 39.546875 41.84375 41.421875 45.53125 \nQ 43.3125 49.21875 43.3125 52.78125 \nQ 43.3125 58.59375 39.234375 62.25 \nQ 35.15625 65.921875 28.609375 65.921875 \nQ 23.96875 65.921875 18.8125 64.3125 \nQ 13.671875 62.703125 7.8125 59.421875 \nL 7.8125 69.390625 \nQ 13.765625 71.78125 18.9375 73 \nQ 24.125 74.21875 28.421875 74.21875 \nQ 39.75 74.21875 46.484375 68.546875 \nQ 53.21875 62.890625 53.21875 53.421875 \nQ 53.21875 48.921875 51.53125 44.890625 \nQ 49.859375 40.875 45.40625 35.40625 \nQ 44.1875 33.984375 37.640625 27.21875 \nQ 31.109375 20.453125 19.1875 8.296875 \nz\n\" id=\"DejaVuSans-50\"/>\n      </defs>\n      <g transform=\"translate(177.807615 266.418437)scale(0.1 -0.1)\">\n       <use xlink:href=\"#DejaVuSans-50\"/>\n       <use x=\"63.623047\" xlink:href=\"#DejaVuSans-48\"/>\n       <use x=\"127.246094\" xlink:href=\"#DejaVuSans-48\"/>\n      </g>\n     </g>\n    </g>\n    <g id=\"xtick_4\">\n     <g id=\"line2d_4\">\n      <g>\n       <use style=\"stroke:#000000;stroke-width:0.8;\" x=\"248.346082\" xlink:href=\"#m1ac760d70e\" y=\"251.82\"/>\n      </g>\n     </g>\n     <g id=\"text_4\">\n      <!-- 300 -->\n      <defs>\n       <path d=\"M 40.578125 39.3125 \nQ 47.65625 37.796875 51.625 33 \nQ 55.609375 28.21875 55.609375 21.1875 \nQ 55.609375 10.40625 48.1875 4.484375 \nQ 40.765625 -1.421875 27.09375 -1.421875 \nQ 22.515625 -1.421875 17.65625 -0.515625 \nQ 12.796875 0.390625 7.625 2.203125 \nL 7.625 11.71875 \nQ 11.71875 9.328125 16.59375 8.109375 \nQ 21.484375 6.890625 26.8125 6.890625 \nQ 36.078125 6.890625 40.9375 10.546875 \nQ 45.796875 14.203125 45.796875 21.1875 \nQ 45.796875 27.640625 41.28125 31.265625 \nQ 36.765625 34.90625 28.71875 34.90625 \nL 20.21875 34.90625 \nL 20.21875 43.015625 \nL 29.109375 43.015625 \nQ 36.375 43.015625 40.234375 45.921875 \nQ 44.09375 48.828125 44.09375 54.296875 \nQ 44.09375 59.90625 40.109375 62.90625 \nQ 36.140625 65.921875 28.71875 65.921875 \nQ 24.65625 65.921875 20.015625 65.03125 \nQ 15.375 64.15625 9.8125 62.3125 \nL 9.8125 71.09375 \nQ 15.4375 72.65625 20.34375 73.4375 \nQ 25.25 74.21875 29.59375 74.21875 \nQ 40.828125 74.21875 47.359375 69.109375 \nQ 53.90625 64.015625 53.90625 55.328125 \nQ 53.90625 49.265625 50.4375 45.09375 \nQ 46.96875 40.921875 40.578125 39.3125 \nz\n\" id=\"DejaVuSans-51\"/>\n      </defs>\n      <g transform=\"translate(238.802332 266.418437)scale(0.1 -0.1)\">\n       <use xlink:href=\"#DejaVuSans-51\"/>\n       <use x=\"63.623047\" xlink:href=\"#DejaVuSans-48\"/>\n       <use x=\"127.246094\" xlink:href=\"#DejaVuSans-48\"/>\n      </g>\n     </g>\n    </g>\n    <g id=\"xtick_5\">\n     <g id=\"line2d_5\">\n      <g>\n       <use style=\"stroke:#000000;stroke-width:0.8;\" x=\"309.340799\" xlink:href=\"#m1ac760d70e\" y=\"251.82\"/>\n      </g>\n     </g>\n     <g id=\"text_5\">\n      <!-- 400 -->\n      <defs>\n       <path d=\"M 37.796875 64.3125 \nL 12.890625 25.390625 \nL 37.796875 25.390625 \nz\nM 35.203125 72.90625 \nL 47.609375 72.90625 \nL 47.609375 25.390625 \nL 58.015625 25.390625 \nL 58.015625 17.1875 \nL 47.609375 17.1875 \nL 47.609375 0 \nL 37.796875 0 \nL 37.796875 17.1875 \nL 4.890625 17.1875 \nL 4.890625 26.703125 \nz\n\" id=\"DejaVuSans-52\"/>\n      </defs>\n      <g transform=\"translate(299.797049 266.418437)scale(0.1 -0.1)\">\n       <use xlink:href=\"#DejaVuSans-52\"/>\n       <use x=\"63.623047\" xlink:href=\"#DejaVuSans-48\"/>\n       <use x=\"127.246094\" xlink:href=\"#DejaVuSans-48\"/>\n      </g>\n     </g>\n    </g>\n    <g id=\"xtick_6\">\n     <g id=\"line2d_6\">\n      <g>\n       <use style=\"stroke:#000000;stroke-width:0.8;\" x=\"370.335515\" xlink:href=\"#m1ac760d70e\" y=\"251.82\"/>\n      </g>\n     </g>\n     <g id=\"text_6\">\n      <!-- 500 -->\n      <defs>\n       <path d=\"M 10.796875 72.90625 \nL 49.515625 72.90625 \nL 49.515625 64.59375 \nL 19.828125 64.59375 \nL 19.828125 46.734375 \nQ 21.96875 47.46875 24.109375 47.828125 \nQ 26.265625 48.1875 28.421875 48.1875 \nQ 40.625 48.1875 47.75 41.5 \nQ 54.890625 34.8125 54.890625 23.390625 \nQ 54.890625 11.625 47.5625 5.09375 \nQ 40.234375 -1.421875 26.90625 -1.421875 \nQ 22.3125 -1.421875 17.546875 -0.640625 \nQ 12.796875 0.140625 7.71875 1.703125 \nL 7.71875 11.625 \nQ 12.109375 9.234375 16.796875 8.0625 \nQ 21.484375 6.890625 26.703125 6.890625 \nQ 35.15625 6.890625 40.078125 11.328125 \nQ 45.015625 15.765625 45.015625 23.390625 \nQ 45.015625 31 40.078125 35.4375 \nQ 35.15625 39.890625 26.703125 39.890625 \nQ 22.75 39.890625 18.8125 39.015625 \nQ 14.890625 38.140625 10.796875 36.28125 \nz\n\" id=\"DejaVuSans-53\"/>\n      </defs>\n      <g transform=\"translate(360.791765 266.418437)scale(0.1 -0.1)\">\n       <use xlink:href=\"#DejaVuSans-53\"/>\n       <use x=\"63.623047\" xlink:href=\"#DejaVuSans-48\"/>\n       <use x=\"127.246094\" xlink:href=\"#DejaVuSans-48\"/>\n      </g>\n     </g>\n    </g>\n    <g id=\"text_7\">\n     <!-- Groups of experiments -->\n     <defs>\n      <path d=\"M 59.515625 10.40625 \nL 59.515625 29.984375 \nL 43.40625 29.984375 \nL 43.40625 38.09375 \nL 69.28125 38.09375 \nL 69.28125 6.78125 \nQ 63.578125 2.734375 56.6875 0.65625 \nQ 49.8125 -1.421875 42 -1.421875 \nQ 24.90625 -1.421875 15.25 8.5625 \nQ 5.609375 18.5625 5.609375 36.375 \nQ 5.609375 54.25 15.25 64.234375 \nQ 24.90625 74.21875 42 74.21875 \nQ 49.125 74.21875 55.546875 72.453125 \nQ 61.96875 70.703125 67.390625 67.28125 \nL 67.390625 56.78125 \nQ 61.921875 61.421875 55.765625 63.765625 \nQ 49.609375 66.109375 42.828125 66.109375 \nQ 29.4375 66.109375 22.71875 58.640625 \nQ 16.015625 51.171875 16.015625 36.375 \nQ 16.015625 21.625 22.71875 14.15625 \nQ 29.4375 6.6875 42.828125 6.6875 \nQ 48.046875 6.6875 52.140625 7.59375 \nQ 56.25 8.5 59.515625 10.40625 \nz\n\" id=\"DejaVuSans-71\"/>\n      <path d=\"M 41.109375 46.296875 \nQ 39.59375 47.171875 37.8125 47.578125 \nQ 36.03125 48 33.890625 48 \nQ 26.265625 48 22.1875 43.046875 \nQ 18.109375 38.09375 18.109375 28.8125 \nL 18.109375 0 \nL 9.078125 0 \nL 9.078125 54.6875 \nL 18.109375 54.6875 \nL 18.109375 46.1875 \nQ 20.953125 51.171875 25.484375 53.578125 \nQ 30.03125 56 36.53125 56 \nQ 37.453125 56 38.578125 55.875 \nQ 39.703125 55.765625 41.0625 55.515625 \nz\n\" id=\"DejaVuSans-114\"/>\n      <path d=\"M 30.609375 48.390625 \nQ 23.390625 48.390625 19.1875 42.75 \nQ 14.984375 37.109375 14.984375 27.296875 \nQ 14.984375 17.484375 19.15625 11.84375 \nQ 23.34375 6.203125 30.609375 6.203125 \nQ 37.796875 6.203125 41.984375 11.859375 \nQ 46.1875 17.53125 46.1875 27.296875 \nQ 46.1875 37.015625 41.984375 42.703125 \nQ 37.796875 48.390625 30.609375 48.390625 \nz\nM 30.609375 56 \nQ 42.328125 56 49.015625 48.375 \nQ 55.71875 40.765625 55.71875 27.296875 \nQ 55.71875 13.875 49.015625 6.21875 \nQ 42.328125 -1.421875 30.609375 -1.421875 \nQ 18.84375 -1.421875 12.171875 6.21875 \nQ 5.515625 13.875 5.515625 27.296875 \nQ 5.515625 40.765625 12.171875 48.375 \nQ 18.84375 56 30.609375 56 \nz\n\" id=\"DejaVuSans-111\"/>\n      <path d=\"M 8.5 21.578125 \nL 8.5 54.6875 \nL 17.484375 54.6875 \nL 17.484375 21.921875 \nQ 17.484375 14.15625 20.5 10.265625 \nQ 23.53125 6.390625 29.59375 6.390625 \nQ 36.859375 6.390625 41.078125 11.03125 \nQ 45.3125 15.671875 45.3125 23.6875 \nL 45.3125 54.6875 \nL 54.296875 54.6875 \nL 54.296875 0 \nL 45.3125 0 \nL 45.3125 8.40625 \nQ 42.046875 3.421875 37.71875 1 \nQ 33.40625 -1.421875 27.6875 -1.421875 \nQ 18.265625 -1.421875 13.375 4.4375 \nQ 8.5 10.296875 8.5 21.578125 \nz\nM 31.109375 56 \nz\n\" id=\"DejaVuSans-117\"/>\n      <path d=\"M 18.109375 8.203125 \nL 18.109375 -20.796875 \nL 9.078125 -20.796875 \nL 9.078125 54.6875 \nL 18.109375 54.6875 \nL 18.109375 46.390625 \nQ 20.953125 51.265625 25.265625 53.625 \nQ 29.59375 56 35.59375 56 \nQ 45.5625 56 51.78125 48.09375 \nQ 58.015625 40.1875 58.015625 27.296875 \nQ 58.015625 14.40625 51.78125 6.484375 \nQ 45.5625 -1.421875 35.59375 -1.421875 \nQ 29.59375 -1.421875 25.265625 0.953125 \nQ 20.953125 3.328125 18.109375 8.203125 \nz\nM 48.6875 27.296875 \nQ 48.6875 37.203125 44.609375 42.84375 \nQ 40.53125 48.484375 33.40625 48.484375 \nQ 26.265625 48.484375 22.1875 42.84375 \nQ 18.109375 37.203125 18.109375 27.296875 \nQ 18.109375 17.390625 22.1875 11.75 \nQ 26.265625 6.109375 33.40625 6.109375 \nQ 40.53125 6.109375 44.609375 11.75 \nQ 48.6875 17.390625 48.6875 27.296875 \nz\n\" id=\"DejaVuSans-112\"/>\n      <path d=\"M 44.28125 53.078125 \nL 44.28125 44.578125 \nQ 40.484375 46.53125 36.375 47.5 \nQ 32.28125 48.484375 27.875 48.484375 \nQ 21.1875 48.484375 17.84375 46.4375 \nQ 14.5 44.390625 14.5 40.28125 \nQ 14.5 37.15625 16.890625 35.375 \nQ 19.28125 33.59375 26.515625 31.984375 \nL 29.59375 31.296875 \nQ 39.15625 29.25 43.1875 25.515625 \nQ 47.21875 21.78125 47.21875 15.09375 \nQ 47.21875 7.46875 41.1875 3.015625 \nQ 35.15625 -1.421875 24.609375 -1.421875 \nQ 20.21875 -1.421875 15.453125 -0.5625 \nQ 10.6875 0.296875 5.421875 2 \nL 5.421875 11.28125 \nQ 10.40625 8.6875 15.234375 7.390625 \nQ 20.0625 6.109375 24.8125 6.109375 \nQ 31.15625 6.109375 34.5625 8.28125 \nQ 37.984375 10.453125 37.984375 14.40625 \nQ 37.984375 18.0625 35.515625 20.015625 \nQ 33.0625 21.96875 24.703125 23.78125 \nL 21.578125 24.515625 \nQ 13.234375 26.265625 9.515625 29.90625 \nQ 5.8125 33.546875 5.8125 39.890625 \nQ 5.8125 47.609375 11.28125 51.796875 \nQ 16.75 56 26.8125 56 \nQ 31.78125 56 36.171875 55.265625 \nQ 40.578125 54.546875 44.28125 53.078125 \nz\n\" id=\"DejaVuSans-115\"/>\n      <path id=\"DejaVuSans-32\"/>\n      <path d=\"M 37.109375 75.984375 \nL 37.109375 68.5 \nL 28.515625 68.5 \nQ 23.6875 68.5 21.796875 66.546875 \nQ 19.921875 64.59375 19.921875 59.515625 \nL 19.921875 54.6875 \nL 34.71875 54.6875 \nL 34.71875 47.703125 \nL 19.921875 47.703125 \nL 19.921875 0 \nL 10.890625 0 \nL 10.890625 47.703125 \nL 2.296875 47.703125 \nL 2.296875 54.6875 \nL 10.890625 54.6875 \nL 10.890625 58.5 \nQ 10.890625 67.625 15.140625 71.796875 \nQ 19.390625 75.984375 28.609375 75.984375 \nz\n\" id=\"DejaVuSans-102\"/>\n      <path d=\"M 56.203125 29.59375 \nL 56.203125 25.203125 \nL 14.890625 25.203125 \nQ 15.484375 15.921875 20.484375 11.0625 \nQ 25.484375 6.203125 34.421875 6.203125 \nQ 39.59375 6.203125 44.453125 7.46875 \nQ 49.3125 8.734375 54.109375 11.28125 \nL 54.109375 2.78125 \nQ 49.265625 0.734375 44.1875 -0.34375 \nQ 39.109375 -1.421875 33.890625 -1.421875 \nQ 20.796875 -1.421875 13.15625 6.1875 \nQ 5.515625 13.8125 5.515625 26.8125 \nQ 5.515625 40.234375 12.765625 48.109375 \nQ 20.015625 56 32.328125 56 \nQ 43.359375 56 49.78125 48.890625 \nQ 56.203125 41.796875 56.203125 29.59375 \nz\nM 47.21875 32.234375 \nQ 47.125 39.59375 43.09375 43.984375 \nQ 39.0625 48.390625 32.421875 48.390625 \nQ 24.90625 48.390625 20.390625 44.140625 \nQ 15.875 39.890625 15.1875 32.171875 \nz\n\" id=\"DejaVuSans-101\"/>\n      <path d=\"M 54.890625 54.6875 \nL 35.109375 28.078125 \nL 55.90625 0 \nL 45.3125 0 \nL 29.390625 21.484375 \nL 13.484375 0 \nL 2.875 0 \nL 24.125 28.609375 \nL 4.6875 54.6875 \nL 15.28125 54.6875 \nL 29.78125 35.203125 \nL 44.28125 54.6875 \nz\n\" id=\"DejaVuSans-120\"/>\n      <path d=\"M 9.421875 54.6875 \nL 18.40625 54.6875 \nL 18.40625 0 \nL 9.421875 0 \nz\nM 9.421875 75.984375 \nL 18.40625 75.984375 \nL 18.40625 64.59375 \nL 9.421875 64.59375 \nz\n\" id=\"DejaVuSans-105\"/>\n      <path d=\"M 52 44.1875 \nQ 55.375 50.25 60.0625 53.125 \nQ 64.75 56 71.09375 56 \nQ 79.640625 56 84.28125 50.015625 \nQ 88.921875 44.046875 88.921875 33.015625 \nL 88.921875 0 \nL 79.890625 0 \nL 79.890625 32.71875 \nQ 79.890625 40.578125 77.09375 44.375 \nQ 74.3125 48.1875 68.609375 48.1875 \nQ 61.625 48.1875 57.5625 43.546875 \nQ 53.515625 38.921875 53.515625 30.90625 \nL 53.515625 0 \nL 44.484375 0 \nL 44.484375 32.71875 \nQ 44.484375 40.625 41.703125 44.40625 \nQ 38.921875 48.1875 33.109375 48.1875 \nQ 26.21875 48.1875 22.15625 43.53125 \nQ 18.109375 38.875 18.109375 30.90625 \nL 18.109375 0 \nL 9.078125 0 \nL 9.078125 54.6875 \nL 18.109375 54.6875 \nL 18.109375 46.1875 \nQ 21.1875 51.21875 25.484375 53.609375 \nQ 29.78125 56 35.6875 56 \nQ 41.65625 56 45.828125 52.96875 \nQ 50 49.953125 52 44.1875 \nz\n\" id=\"DejaVuSans-109\"/>\n      <path d=\"M 54.890625 33.015625 \nL 54.890625 0 \nL 45.90625 0 \nL 45.90625 32.71875 \nQ 45.90625 40.484375 42.875 44.328125 \nQ 39.84375 48.1875 33.796875 48.1875 \nQ 26.515625 48.1875 22.3125 43.546875 \nQ 18.109375 38.921875 18.109375 30.90625 \nL 18.109375 0 \nL 9.078125 0 \nL 9.078125 54.6875 \nL 18.109375 54.6875 \nL 18.109375 46.1875 \nQ 21.34375 51.125 25.703125 53.5625 \nQ 30.078125 56 35.796875 56 \nQ 45.21875 56 50.046875 50.171875 \nQ 54.890625 44.34375 54.890625 33.015625 \nz\n\" id=\"DejaVuSans-110\"/>\n      <path d=\"M 18.3125 70.21875 \nL 18.3125 54.6875 \nL 36.8125 54.6875 \nL 36.8125 47.703125 \nL 18.3125 47.703125 \nL 18.3125 18.015625 \nQ 18.3125 11.328125 20.140625 9.421875 \nQ 21.96875 7.515625 27.59375 7.515625 \nL 36.8125 7.515625 \nL 36.8125 0 \nL 27.59375 0 \nQ 17.1875 0 13.234375 3.875 \nQ 9.28125 7.765625 9.28125 18.015625 \nL 9.28125 47.703125 \nL 2.6875 47.703125 \nL 2.6875 54.6875 \nL 9.28125 54.6875 \nL 9.28125 70.21875 \nz\n\" id=\"DejaVuSans-116\"/>\n     </defs>\n     <g transform=\"translate(160.397656 280.096562)scale(0.1 -0.1)\">\n      <use xlink:href=\"#DejaVuSans-71\"/>\n      <use x=\"77.490234\" xlink:href=\"#DejaVuSans-114\"/>\n      <use x=\"116.353516\" xlink:href=\"#DejaVuSans-111\"/>\n      <use x=\"177.535156\" xlink:href=\"#DejaVuSans-117\"/>\n      <use x=\"240.914062\" xlink:href=\"#DejaVuSans-112\"/>\n      <use x=\"304.390625\" xlink:href=\"#DejaVuSans-115\"/>\n      <use x=\"356.490234\" xlink:href=\"#DejaVuSans-32\"/>\n      <use x=\"388.277344\" xlink:href=\"#DejaVuSans-111\"/>\n      <use x=\"449.458984\" xlink:href=\"#DejaVuSans-102\"/>\n      <use x=\"484.664062\" xlink:href=\"#DejaVuSans-32\"/>\n      <use x=\"516.451172\" xlink:href=\"#DejaVuSans-101\"/>\n      <use x=\"576.224609\" xlink:href=\"#DejaVuSans-120\"/>\n      <use x=\"635.404297\" xlink:href=\"#DejaVuSans-112\"/>\n      <use x=\"698.880859\" xlink:href=\"#DejaVuSans-101\"/>\n      <use x=\"760.404297\" xlink:href=\"#DejaVuSans-114\"/>\n      <use x=\"801.517578\" xlink:href=\"#DejaVuSans-105\"/>\n      <use x=\"829.300781\" xlink:href=\"#DejaVuSans-109\"/>\n      <use x=\"926.712891\" xlink:href=\"#DejaVuSans-101\"/>\n      <use x=\"988.236328\" xlink:href=\"#DejaVuSans-110\"/>\n      <use x=\"1051.615234\" xlink:href=\"#DejaVuSans-116\"/>\n      <use x=\"1090.824219\" xlink:href=\"#DejaVuSans-115\"/>\n     </g>\n    </g>\n   </g>\n   <g id=\"matplotlib.axis_2\">\n    <g id=\"ytick_1\">\n     <g id=\"line2d_7\">\n      <defs>\n       <path d=\"M 0 0 \nL -3.5 0 \n\" id=\"m9601dff7d0\" style=\"stroke:#000000;stroke-width:0.8;\"/>\n      </defs>\n      <g>\n       <use style=\"stroke:#000000;stroke-width:0.8;\" x=\"50.14375\" xlink:href=\"#m9601dff7d0\" y=\"228.996606\"/>\n      </g>\n     </g>\n     <g id=\"text_8\">\n      <!-- 0.10 -->\n      <defs>\n       <path d=\"M 10.6875 12.40625 \nL 21 12.40625 \nL 21 0 \nL 10.6875 0 \nz\n\" id=\"DejaVuSans-46\"/>\n      </defs>\n      <g transform=\"translate(20.878125 232.795824)scale(0.1 -0.1)\">\n       <use xlink:href=\"#DejaVuSans-48\"/>\n       <use x=\"63.623047\" xlink:href=\"#DejaVuSans-46\"/>\n       <use x=\"95.410156\" xlink:href=\"#DejaVuSans-49\"/>\n       <use x=\"159.033203\" xlink:href=\"#DejaVuSans-48\"/>\n      </g>\n     </g>\n    </g>\n    <g id=\"ytick_2\">\n     <g id=\"line2d_8\">\n      <g>\n       <use style=\"stroke:#000000;stroke-width:0.8;\" x=\"50.14375\" xlink:href=\"#m9601dff7d0\" y=\"176.32723\"/>\n      </g>\n     </g>\n     <g id=\"text_9\">\n      <!-- 0.15 -->\n      <g transform=\"translate(20.878125 180.126449)scale(0.1 -0.1)\">\n       <use xlink:href=\"#DejaVuSans-48\"/>\n       <use x=\"63.623047\" xlink:href=\"#DejaVuSans-46\"/>\n       <use x=\"95.410156\" xlink:href=\"#DejaVuSans-49\"/>\n       <use x=\"159.033203\" xlink:href=\"#DejaVuSans-53\"/>\n      </g>\n     </g>\n    </g>\n    <g id=\"ytick_3\">\n     <g id=\"line2d_9\">\n      <g>\n       <use style=\"stroke:#000000;stroke-width:0.8;\" x=\"50.14375\" xlink:href=\"#m9601dff7d0\" y=\"123.657855\"/>\n      </g>\n     </g>\n     <g id=\"text_10\">\n      <!-- 0.20 -->\n      <g transform=\"translate(20.878125 127.457073)scale(0.1 -0.1)\">\n       <use xlink:href=\"#DejaVuSans-48\"/>\n       <use x=\"63.623047\" xlink:href=\"#DejaVuSans-46\"/>\n       <use x=\"95.410156\" xlink:href=\"#DejaVuSans-50\"/>\n       <use x=\"159.033203\" xlink:href=\"#DejaVuSans-48\"/>\n      </g>\n     </g>\n    </g>\n    <g id=\"ytick_4\">\n     <g id=\"line2d_10\">\n      <g>\n       <use style=\"stroke:#000000;stroke-width:0.8;\" x=\"50.14375\" xlink:href=\"#m9601dff7d0\" y=\"70.988479\"/>\n      </g>\n     </g>\n     <g id=\"text_11\">\n      <!-- 0.25 -->\n      <g transform=\"translate(20.878125 74.787698)scale(0.1 -0.1)\">\n       <use xlink:href=\"#DejaVuSans-48\"/>\n       <use x=\"63.623047\" xlink:href=\"#DejaVuSans-46\"/>\n       <use x=\"95.410156\" xlink:href=\"#DejaVuSans-50\"/>\n       <use x=\"159.033203\" xlink:href=\"#DejaVuSans-53\"/>\n      </g>\n     </g>\n    </g>\n    <g id=\"ytick_5\">\n     <g id=\"line2d_11\">\n      <g>\n       <use style=\"stroke:#000000;stroke-width:0.8;\" x=\"50.14375\" xlink:href=\"#m9601dff7d0\" y=\"18.319103\"/>\n      </g>\n     </g>\n     <g id=\"text_12\">\n      <!-- 0.30 -->\n      <g transform=\"translate(20.878125 22.118322)scale(0.1 -0.1)\">\n       <use xlink:href=\"#DejaVuSans-48\"/>\n       <use x=\"63.623047\" xlink:href=\"#DejaVuSans-46\"/>\n       <use x=\"95.410156\" xlink:href=\"#DejaVuSans-51\"/>\n       <use x=\"159.033203\" xlink:href=\"#DejaVuSans-48\"/>\n      </g>\n     </g>\n    </g>\n    <g id=\"text_13\">\n     <!-- Estimated probability -->\n     <defs>\n      <path d=\"M 9.8125 72.90625 \nL 55.90625 72.90625 \nL 55.90625 64.59375 \nL 19.671875 64.59375 \nL 19.671875 43.015625 \nL 54.390625 43.015625 \nL 54.390625 34.71875 \nL 19.671875 34.71875 \nL 19.671875 8.296875 \nL 56.78125 8.296875 \nL 56.78125 0 \nL 9.8125 0 \nz\n\" id=\"DejaVuSans-69\"/>\n      <path d=\"M 34.28125 27.484375 \nQ 23.390625 27.484375 19.1875 25 \nQ 14.984375 22.515625 14.984375 16.5 \nQ 14.984375 11.71875 18.140625 8.90625 \nQ 21.296875 6.109375 26.703125 6.109375 \nQ 34.1875 6.109375 38.703125 11.40625 \nQ 43.21875 16.703125 43.21875 25.484375 \nL 43.21875 27.484375 \nz\nM 52.203125 31.203125 \nL 52.203125 0 \nL 43.21875 0 \nL 43.21875 8.296875 \nQ 40.140625 3.328125 35.546875 0.953125 \nQ 30.953125 -1.421875 24.3125 -1.421875 \nQ 15.921875 -1.421875 10.953125 3.296875 \nQ 6 8.015625 6 15.921875 \nQ 6 25.140625 12.171875 29.828125 \nQ 18.359375 34.515625 30.609375 34.515625 \nL 43.21875 34.515625 \nL 43.21875 35.40625 \nQ 43.21875 41.609375 39.140625 45 \nQ 35.0625 48.390625 27.6875 48.390625 \nQ 23 48.390625 18.546875 47.265625 \nQ 14.109375 46.140625 10.015625 43.890625 \nL 10.015625 52.203125 \nQ 14.9375 54.109375 19.578125 55.046875 \nQ 24.21875 56 28.609375 56 \nQ 40.484375 56 46.34375 49.84375 \nQ 52.203125 43.703125 52.203125 31.203125 \nz\n\" id=\"DejaVuSans-97\"/>\n      <path d=\"M 45.40625 46.390625 \nL 45.40625 75.984375 \nL 54.390625 75.984375 \nL 54.390625 0 \nL 45.40625 0 \nL 45.40625 8.203125 \nQ 42.578125 3.328125 38.25 0.953125 \nQ 33.9375 -1.421875 27.875 -1.421875 \nQ 17.96875 -1.421875 11.734375 6.484375 \nQ 5.515625 14.40625 5.515625 27.296875 \nQ 5.515625 40.1875 11.734375 48.09375 \nQ 17.96875 56 27.875 56 \nQ 33.9375 56 38.25 53.625 \nQ 42.578125 51.265625 45.40625 46.390625 \nz\nM 14.796875 27.296875 \nQ 14.796875 17.390625 18.875 11.75 \nQ 22.953125 6.109375 30.078125 6.109375 \nQ 37.203125 6.109375 41.296875 11.75 \nQ 45.40625 17.390625 45.40625 27.296875 \nQ 45.40625 37.203125 41.296875 42.84375 \nQ 37.203125 48.484375 30.078125 48.484375 \nQ 22.953125 48.484375 18.875 42.84375 \nQ 14.796875 37.203125 14.796875 27.296875 \nz\n\" id=\"DejaVuSans-100\"/>\n      <path d=\"M 48.6875 27.296875 \nQ 48.6875 37.203125 44.609375 42.84375 \nQ 40.53125 48.484375 33.40625 48.484375 \nQ 26.265625 48.484375 22.1875 42.84375 \nQ 18.109375 37.203125 18.109375 27.296875 \nQ 18.109375 17.390625 22.1875 11.75 \nQ 26.265625 6.109375 33.40625 6.109375 \nQ 40.53125 6.109375 44.609375 11.75 \nQ 48.6875 17.390625 48.6875 27.296875 \nz\nM 18.109375 46.390625 \nQ 20.953125 51.265625 25.265625 53.625 \nQ 29.59375 56 35.59375 56 \nQ 45.5625 56 51.78125 48.09375 \nQ 58.015625 40.1875 58.015625 27.296875 \nQ 58.015625 14.40625 51.78125 6.484375 \nQ 45.5625 -1.421875 35.59375 -1.421875 \nQ 29.59375 -1.421875 25.265625 0.953125 \nQ 20.953125 3.328125 18.109375 8.203125 \nL 18.109375 0 \nL 9.078125 0 \nL 9.078125 75.984375 \nL 18.109375 75.984375 \nz\n\" id=\"DejaVuSans-98\"/>\n      <path d=\"M 9.421875 75.984375 \nL 18.40625 75.984375 \nL 18.40625 0 \nL 9.421875 0 \nz\n\" id=\"DejaVuSans-108\"/>\n      <path d=\"M 32.171875 -5.078125 \nQ 28.375 -14.84375 24.75 -17.8125 \nQ 21.140625 -20.796875 15.09375 -20.796875 \nL 7.90625 -20.796875 \nL 7.90625 -13.28125 \nL 13.1875 -13.28125 \nQ 16.890625 -13.28125 18.9375 -11.515625 \nQ 21 -9.765625 23.484375 -3.21875 \nL 25.09375 0.875 \nL 2.984375 54.6875 \nL 12.5 54.6875 \nL 29.59375 11.921875 \nL 46.6875 54.6875 \nL 56.203125 54.6875 \nz\n\" id=\"DejaVuSans-121\"/>\n     </defs>\n     <g transform=\"translate(14.798438 183.033437)rotate(-90)scale(0.1 -0.1)\">\n      <use xlink:href=\"#DejaVuSans-69\"/>\n      <use x=\"63.183594\" xlink:href=\"#DejaVuSans-115\"/>\n      <use x=\"115.283203\" xlink:href=\"#DejaVuSans-116\"/>\n      <use x=\"154.492188\" xlink:href=\"#DejaVuSans-105\"/>\n      <use x=\"182.275391\" xlink:href=\"#DejaVuSans-109\"/>\n      <use x=\"279.6875\" xlink:href=\"#DejaVuSans-97\"/>\n      <use x=\"340.966797\" xlink:href=\"#DejaVuSans-116\"/>\n      <use x=\"380.175781\" xlink:href=\"#DejaVuSans-101\"/>\n      <use x=\"441.699219\" xlink:href=\"#DejaVuSans-100\"/>\n      <use x=\"505.175781\" xlink:href=\"#DejaVuSans-32\"/>\n      <use x=\"536.962891\" xlink:href=\"#DejaVuSans-112\"/>\n      <use x=\"600.439453\" xlink:href=\"#DejaVuSans-114\"/>\n      <use x=\"639.302734\" xlink:href=\"#DejaVuSans-111\"/>\n      <use x=\"700.484375\" xlink:href=\"#DejaVuSans-98\"/>\n      <use x=\"763.960938\" xlink:href=\"#DejaVuSans-97\"/>\n      <use x=\"825.240234\" xlink:href=\"#DejaVuSans-98\"/>\n      <use x=\"888.716797\" xlink:href=\"#DejaVuSans-105\"/>\n      <use x=\"916.5\" xlink:href=\"#DejaVuSans-108\"/>\n      <use x=\"944.283203\" xlink:href=\"#DejaVuSans-105\"/>\n      <use x=\"972.066406\" xlink:href=\"#DejaVuSans-116\"/>\n      <use x=\"1011.275391\" xlink:href=\"#DejaVuSans-121\"/>\n     </g>\n    </g>\n   </g>\n   <g id=\"line2d_12\">\n    <path clip-path=\"url(#pd6c94cd9f6)\" d=\"M 65.361932 228.996604 \nL 65.971879 176.327224 \nL 66.581826 158.770766 \nL 67.191773 149.992545 \nL 67.80172 165.793359 \nL 68.411668 123.657851 \nL 69.021615 153.754636 \nL 69.631562 163.159893 \nL 70.241509 158.770766 \nL 70.851456 123.657851 \nL 72.071351 141.214309 \nL 73.291245 153.754636 \nL 74.511139 163.159893 \nL 75.121086 167.032629 \nL 75.731034 164.622919 \nL 76.340981 168.01102 \nL 76.950928 160.526411 \nL 77.560875 148.738505 \nL 78.170822 152.386606 \nL 78.780769 141.977639 \nL 79.390717 145.603435 \nL 80.000664 153.152699 \nL 80.610611 152.018283 \nL 81.220558 158.770766 \nL 82.440452 156.34919 \nL 83.0504 158.770766 \nL 84.270294 156.576211 \nL 85.490188 160.836232 \nL 86.100135 165.793359 \nL 86.710083 164.622919 \nL 87.32003 166.362756 \nL 87.929977 162.466868 \nL 88.539924 161.47176 \nL 89.759819 169.904135 \nL 90.369766 168.803028 \nL 91.58966 157.174726 \nL 92.199607 161.111631 \nL 92.809554 160.297427 \nL 93.419502 157.276598 \nL 94.029449 156.576211 \nL 94.639396 158.054181 \nL 95.85929 156.705301 \nL 96.469237 158.095526 \nL 97.079185 153.470714 \nL 97.689132 154.869337 \nL 98.299079 154.301854 \nL 99.518973 149.530529 \nL 100.12892 149.084444 \nL 100.738868 146.868087 \nL 101.958762 146.107095 \nL 102.568709 144.045993 \nL 103.178656 145.394418 \nL 103.788603 143.408864 \nL 104.398551 143.105007 \nL 105.618445 145.668937 \nL 107.448286 144.725597 \nL 108.058234 145.912519 \nL 108.668181 145.603435 \nL 109.278128 148.188791 \nL 110.498022 147.534631 \nL 111.717917 149.65053 \nL 112.327864 152.018283 \nL 112.937811 152.992702 \nL 114.157705 149.66742 \nL 114.767652 150.634854 \nL 115.3776 147.771541 \nL 115.987547 149.992545 \nL 116.597494 150.92201 \nL 117.207441 149.380107 \nL 118.427335 151.189576 \nL 119.037283 153.247397 \nL 119.64723 151.74819 \nL 120.257177 151.439498 \nL 120.867124 152.282521 \nL 121.477071 154.240072 \nL 123.306913 153.284378 \nL 123.91686 154.064912 \nL 125.136754 153.450638 \nL 125.746701 151.045935 \nL 126.356649 150.774759 \nL 126.966596 152.57437 \nL 127.576543 153.316337 \nL 128.18649 153.031159 \nL 128.796437 153.754636 \nL 129.406384 153.470714 \nL 130.626279 154.869337 \nL 131.236226 156.51581 \nL 131.846173 157.174726 \nL 132.45612 156.872769 \nL 133.066067 155.635696 \nL 133.676015 155.352701 \nL 134.285962 154.150648 \nL 135.505856 155.441105 \nL 136.72575 158.473204 \nL 137.335698 158.180633 \nL 137.945645 158.770766 \nL 138.555592 160.221722 \nL 139.775486 161.340002 \nL 140.385433 161.036114 \nL 140.995381 161.5798 \nL 141.605328 160.44281 \nL 142.825222 161.513968 \nL 144.655064 158.234693 \nL 146.484905 162.177248 \nL 147.094852 162.672212 \nL 147.704799 161.610785 \nL 148.314747 161.333754 \nL 148.924694 161.824072 \nL 149.534641 160.791653 \nL 150.144588 160.526411 \nL 150.754535 161.759104 \nL 151.364482 160.748958 \nL 151.97443 161.962862 \nL 153.194324 162.887461 \nL 155.024165 162.092266 \nL 155.634113 162.541286 \nL 156.24406 160.877546 \nL 158.683848 162.646877 \nL 159.293796 161.036114 \nL 159.903743 160.121263 \nL 160.51369 159.889015 \nL 161.733584 158.108272 \nL 162.343531 159.209677 \nL 162.953479 159.643142 \nL 163.563426 160.721489 \nL 164.173373 159.847858 \nL 165.393267 160.686015 \nL 166.003214 160.462965 \nL 166.613162 159.611795 \nL 167.223109 159.397787 \nL 167.833056 159.809621 \nL 168.443003 158.357676 \nL 169.662897 157.954193 \nL 172.102686 159.568786 \nL 173.32258 161.532459 \nL 173.932528 161.909352 \nL 174.542475 162.867275 \nL 175.152422 162.068674 \nL 178.812105 160.836232 \nL 180.031999 161.557511 \nL 180.641946 162.466868 \nL 181.251894 162.263674 \nL 181.861841 162.611246 \nL 182.471788 163.501013 \nL 183.691682 164.172753 \nL 184.301629 163.966043 \nL 184.911577 164.296161 \nL 185.521524 163.558903 \nL 186.131471 163.887733 \nL 187.351365 163.487435 \nL 187.961312 163.811729 \nL 189.791154 163.224123 \nL 190.401101 163.543394 \nL 191.011048 162.84183 \nL 191.620995 161.640578 \nL 192.230943 161.458841 \nL 192.84089 160.777228 \nL 194.670731 160.254418 \nL 196.500573 158.283086 \nL 197.11052 157.152672 \nL 197.720467 157.482225 \nL 198.330414 158.289772 \nL 198.940361 157.653538 \nL 200.770203 158.613313 \nL 201.38015 157.986999 \nL 203.819939 159.232783 \nL 204.429886 159.997416 \nL 205.64978 159.682792 \nL 206.869675 158.469374 \nL 207.479622 158.770766 \nL 208.089569 158.62135 \nL 209.309463 157.437363 \nL 209.91941 157.295434 \nL 210.529358 157.595445 \nL 211.139305 158.331855 \nL 211.749252 157.750889 \nL 212.969146 157.470295 \nL 213.579093 157.763431 \nL 214.189041 157.624233 \nL 214.798988 156.201531 \nL 215.408935 156.069773 \nL 217.238776 156.944895 \nL 217.848724 155.972924 \nL 218.458671 155.844698 \nL 220.288512 157.944586 \nL 220.898459 157.810647 \nL 222.728301 158.635194 \nL 223.338248 157.690378 \nL 223.948195 157.559986 \nL 224.558142 157.832638 \nL 225.16809 157.7027 \nL 225.778037 156.775716 \nL 226.387984 157.048258 \nL 227.607878 156.798131 \nL 228.217825 156.281427 \nL 230.047667 155.920278 \nL 230.657614 156.576211 \nL 231.267561 156.841485 \nL 232.487456 158.13235 \nL 233.097403 158.389117 \nL 233.70735 157.883448 \nL 234.317297 158.518159 \nL 234.927244 158.770766 \nL 235.537191 158.645365 \nL 236.147139 159.270596 \nL 236.757086 159.517851 \nL 237.367033 159.018915 \nL 237.97698 159.636235 \nL 238.586927 159.509987 \nL 239.196874 159.01631 \nL 239.806822 159.260158 \nL 240.416769 159.868044 \nL 241.026716 159.742753 \nL 241.636663 160.3448 \nL 242.856557 160.81501 \nL 243.466505 160.688196 \nL 244.686399 159.722991 \nL 245.296346 159.601137 \nL 245.906293 159.125449 \nL 247.126188 159.592818 \nL 247.736135 158.770766 \nL 248.956029 159.235844 \nL 250.175923 159.001775 \nL 250.785871 158.540527 \nL 251.395818 158.426522 \nL 252.005765 158.6564 \nL 252.615712 159.226787 \nL 253.835606 158.317697 \nL 254.445554 158.20625 \nL 256.885342 159.105185 \nL 257.495289 159.659702 \nL 258.105237 159.213837 \nL 258.715184 158.439519 \nL 259.325131 158.33049 \nL 259.935078 157.892944 \nL 260.545025 157.786301 \nL 261.154972 157.026031 \nL 261.76492 156.596601 \nL 262.374867 157.145169 \nL 262.984814 157.042136 \nL 264.204708 156.193683 \nL 264.814655 156.415634 \nL 265.424603 155.675707 \nL 266.03455 155.578686 \nL 266.644497 155.164011 \nL 267.864391 154.974787 \nL 268.474338 155.196409 \nL 269.084286 155.10226 \nL 269.694233 154.695166 \nL 270.30418 154.915642 \nL 270.914127 154.823173 \nL 271.524074 155.352701 \nL 272.134021 155.569299 \nL 272.743969 156.093538 \nL 273.353916 156.306715 \nL 274.57381 156.116894 \nL 275.183757 156.328141 \nL 275.793704 156.8426 \nL 277.013599 156.651885 \nL 277.623546 156.255512 \nL 278.233493 156.162383 \nL 278.84344 156.369894 \nL 279.453387 156.276954 \nL 280.673282 156.687799 \nL 281.283229 156.001304 \nL 281.893176 155.614553 \nL 282.503123 155.525035 \nL 284.942912 154.004747 \nL 285.552859 153.920926 \nL 286.162806 154.127746 \nL 286.772753 154.044036 \nL 288.602595 154.656725 \nL 289.822489 153.917771 \nL 290.432436 153.835976 \nL 291.042384 154.322511 \nL 291.652331 154.52324 \nL 292.262278 154.440487 \nL 292.872225 154.639835 \nL 293.482172 154.557223 \nL 294.092119 154.194881 \nL 294.702067 154.113886 \nL 295.312014 154.311994 \nL 295.921961 154.231109 \nL 296.531908 154.705071 \nL 297.141855 154.623573 \nL 297.751802 154.818275 \nL 298.36175 154.461882 \nL 298.971697 154.655971 \nL 300.191591 154.495363 \nL 300.801538 154.960064 \nL 301.411485 154.064912 \nL 302.021433 153.715959 \nL 302.63138 153.908981 \nL 303.241327 154.370433 \nL 304.461221 154.750214 \nL 305.071168 154.671291 \nL 306.291063 155.046678 \nL 306.90101 154.967614 \nL 307.510957 154.094924 \nL 308.120904 154.282657 \nL 308.730851 154.732791 \nL 309.340799 154.655296 \nL 309.950746 154.054113 \nL 310.560693 154.501453 \nL 311.17064 154.42512 \nL 311.780587 154.869337 \nL 312.390534 154.533003 \nL 313.000482 154.974787 \nL 313.610429 154.639835 \nL 314.220376 154.821634 \nL 314.830323 155.259478 \nL 315.44027 155.438891 \nL 316.050217 155.361758 \nL 316.660165 154.774874 \nL 317.270112 154.445275 \nL 317.880059 154.371076 \nL 318.490006 154.550474 \nL 319.7099 153.898637 \nL 320.319848 153.826464 \nL 320.929795 154.005453 \nL 322.149689 153.861624 \nL 322.759636 153.292164 \nL 325.199425 153.014552 \nL 327.029266 154.27958 \nL 328.249161 154.137823 \nL 328.859108 153.824141 \nL 330.079002 154.169766 \nL 330.688949 154.09979 \nL 331.908844 154.441774 \nL 333.128738 154.301854 \nL 333.738685 154.710094 \nL 334.348632 154.401512 \nL 334.95858 154.569906 \nL 335.568527 154.500276 \nL 336.178474 154.194253 \nL 336.788421 154.361972 \nL 337.398368 154.764593 \nL 338.008315 154.695166 \nL 338.618263 154.860641 \nL 339.22821 154.791308 \nL 339.838157 154.955841 \nL 340.448104 154.653554 \nL 341.058051 154.817663 \nL 342.277946 154.680694 \nL 342.887893 154.843673 \nL 343.49784 155.236435 \nL 344.107787 155.16748 \nL 344.717734 154.639835 \nL 347.157523 155.282238 \nL 347.76747 155.668126 \nL 348.377417 155.372745 \nL 348.987365 154.852588 \nL 349.597312 155.01136 \nL 350.207259 154.719276 \nL 352.0371 155.86333 \nL 353.866942 156.326194 \nL 354.476889 156.700953 \nL 355.086836 156.410234 \nL 355.696783 156.783251 \nL 356.306731 156.493568 \nL 356.916678 156.864858 \nL 357.526625 157.015122 \nL 358.136572 157.383775 \nL 358.746519 157.313799 \nL 359.356466 157.680301 \nL 360.576361 156.671239 \nL 361.186308 157.036799 \nL 362.406202 156.900003 \nL 363.016149 157.262847 \nL 363.626097 157.409251 \nL 364.236044 157.340515 \nL 365.455938 157.631202 \nL 366.065885 157.562435 \nL 366.675832 157.70675 \nL 367.28578 157.425716 \nL 367.895727 157.357781 \nL 368.505674 157.078584 \nL 369.115621 157.4338 \nL 369.725568 157.366257 \nL 369.725568 157.366257 \n\" style=\"fill:none;stroke:#1f77b4;stroke-linecap:square;stroke-width:1.5;\"/>\n   </g>\n   <g id=\"line2d_13\">\n    <path clip-path=\"url(#pd6c94cd9f6)\" d=\"M 65.361932 123.657851 \nL 65.971879 176.327224 \nL 66.581826 193.883681 \nL 67.191773 202.661918 \nL 67.80172 207.928858 \nL 68.411668 228.996604 \nL 69.631562 228.996604 \nL 70.241509 240.700909 \nL 70.851456 228.996604 \nL 71.461403 190.691601 \nL 72.681298 180.378714 \nL 73.901192 186.861105 \nL 75.121086 191.818216 \nL 75.731034 182.179376 \nL 76.950928 176.327224 \nL 78.170822 171.539103 \nL 78.780769 174.037264 \nL 80.000664 170.006902 \nL 80.610611 168.224243 \nL 81.830505 157.516742 \nL 82.440452 159.981563 \nL 83.660347 157.638093 \nL 84.270294 153.284378 \nL 84.880241 155.578686 \nL 86.100135 165.793359 \nL 86.710083 164.622919 \nL 87.32003 166.362756 \nL 87.929977 170.783088 \nL 88.539924 166.873747 \nL 89.149871 165.793359 \nL 90.369766 168.803028 \nL 90.979713 172.652627 \nL 91.58966 171.539103 \nL 92.199607 168.134223 \nL 94.029449 171.938113 \nL 94.639396 170.9528 \nL 95.85929 173.229025 \nL 96.469237 172.275734 \nL 97.689132 166.573642 \nL 98.299079 165.793359 \nL 98.909026 168.803028 \nL 99.518973 168.01102 \nL 100.12892 170.878681 \nL 101.348815 169.304647 \nL 102.568709 171.230192 \nL 103.178656 170.475071 \nL 103.788603 173.035391 \nL 104.398551 170.655144 \nL 105.008498 171.539103 \nL 105.618445 169.252236 \nL 106.228392 171.679934 \nL 106.838339 169.457313 \nL 107.448286 170.30787 \nL 108.668181 166.085961 \nL 109.278128 165.504759 \nL 110.498022 161.5798 \nL 111.107969 162.466868 \nL 111.717917 157.858741 \nL 112.327864 157.42027 \nL 112.937811 152.992702 \nL 113.547758 153.942745 \nL 115.3776 152.848104 \nL 115.987547 155.008676 \nL 116.597494 152.16128 \nL 117.207441 153.05472 \nL 117.817388 150.295241 \nL 118.427335 151.189576 \nL 119.037283 149.696647 \nL 119.64723 150.577765 \nL 120.257177 152.597067 \nL 121.477071 149.709377 \nL 122.087018 147.190983 \nL 122.696966 145.834428 \nL 123.306913 147.79799 \nL 125.746701 151.045935 \nL 126.966596 150.508904 \nL 127.576543 148.202808 \nL 128.18649 147.966793 \nL 128.796437 148.738505 \nL 129.406384 147.508135 \nL 130.626279 147.066461 \nL 131.846173 144.725597 \nL 132.45612 145.484799 \nL 133.066067 147.17097 \nL 133.676015 147.89509 \nL 134.285962 149.530529 \nL 134.895909 150.221545 \nL 135.505856 146.360173 \nL 136.115803 146.16613 \nL 136.72575 146.868087 \nL 137.335698 148.443438 \nL 137.945645 149.114723 \nL 138.555592 150.645465 \nL 139.165539 151.287696 \nL 139.775486 150.206648 \nL 140.385433 149.992545 \nL 140.995381 148.939156 \nL 141.605328 148.738505 \nL 142.215275 149.37047 \nL 142.825222 149.169583 \nL 144.045116 152.018283 \nL 144.655064 152.605904 \nL 145.265011 153.982646 \nL 146.484905 151.957819 \nL 147.094852 151.74819 \nL 147.704799 152.31619 \nL 149.534641 151.697662 \nL 150.144588 152.249809 \nL 151.364482 150.363458 \nL 151.97443 150.176699 \nL 152.584377 149.261017 \nL 153.194324 150.537394 \nL 153.804271 151.074786 \nL 154.414218 152.321464 \nL 155.024165 152.839534 \nL 156.24406 152.450444 \nL 156.854007 152.957369 \nL 157.463954 154.150648 \nL 158.073901 154.639835 \nL 158.683848 154.438651 \nL 160.51369 155.86333 \nL 161.123637 155.659493 \nL 161.733584 156.12074 \nL 162.343531 155.259478 \nL 162.953479 155.717476 \nL 163.563426 154.869337 \nL 164.173373 154.677853 \nL 164.78332 153.846399 \nL 165.393267 154.301854 \nL 166.003214 155.386402 \nL 167.223109 155.008676 \nL 168.443003 155.879121 \nL 169.05295 156.922716 \nL 169.662897 156.116894 \nL 171.492739 157.366257 \nL 172.712633 155.795096 \nL 173.932528 155.436019 \nL 174.542475 155.844698 \nL 175.152422 156.830827 \nL 176.372316 157.619524 \nL 176.982263 157.434962 \nL 177.592211 156.68298 \nL 178.812105 157.456388 \nL 179.422052 156.716288 \nL 180.031999 157.098723 \nL 180.641946 155.813901 \nL 181.251894 155.094019 \nL 181.861841 154.930303 \nL 183.081735 155.693868 \nL 184.301629 155.366969 \nL 184.911577 156.275431 \nL 185.521524 156.642718 \nL 186.131471 156.476961 \nL 186.741418 155.786181 \nL 187.351365 156.150407 \nL 187.961312 157.032514 \nL 188.57126 156.868107 \nL 189.181207 156.188942 \nL 189.791154 156.544096 \nL 190.401101 157.407163 \nL 192.230943 156.922716 \nL 195.280678 158.606689 \nL 195.890626 159.424032 \nL 196.500573 159.746128 \nL 197.11052 159.579821 \nL 197.720467 159.898244 \nL 198.330414 160.694773 \nL 198.940361 161.005223 \nL 199.550309 161.789524 \nL 200.160256 161.143259 \nL 200.770203 160.030426 \nL 201.38015 160.338317 \nL 201.990097 159.707121 \nL 202.600044 158.149303 \nL 203.209992 158.925457 \nL 203.819939 159.232783 \nL 204.429886 159.077433 \nL 205.039833 159.381431 \nL 205.64978 158.314762 \nL 206.259727 158.619419 \nL 206.869675 158.469374 \nL 207.479622 159.220932 \nL 208.699516 158.919555 \nL 209.309463 159.215234 \nL 209.91941 159.951032 \nL 211.139305 159.648588 \nL 212.359199 160.221722 \nL 213.579093 159.922009 \nL 214.189041 159.344041 \nL 214.798988 160.055384 \nL 215.408935 159.48156 \nL 216.628829 159.193824 \nL 217.238776 158.208966 \nL 217.848724 157.651639 \nL 218.458671 157.516742 \nL 219.068618 157.799266 \nL 219.678565 156.005982 \nL 220.288512 155.466031 \nL 220.898459 155.341776 \nL 222.118354 156.729317 \nL 222.728301 156.194923 \nL 223.338248 156.880084 \nL 223.948195 157.156377 \nL 224.558142 156.224417 \nL 225.16809 156.100586 \nL 225.778037 156.775716 \nL 226.387984 157.048258 \nL 226.997931 156.526719 \nL 227.607878 157.192668 \nL 228.217825 156.674472 \nL 228.827773 156.55174 \nL 229.43772 157.210201 \nL 230.047667 157.475098 \nL 230.657614 157.350765 \nL 231.267561 157.613198 \nL 231.877508 158.258175 \nL 233.097403 158.770766 \nL 233.70735 159.404583 \nL 234.317297 158.518159 \nL 236.147139 159.270596 \nL 236.757086 159.144316 \nL 237.97698 159.636235 \nL 238.586927 159.509987 \nL 239.806822 160.728286 \nL 240.416769 160.233808 \nL 241.026716 160.471739 \nL 241.636663 160.3448 \nL 242.24661 159.856742 \nL 242.856557 160.454269 \nL 243.466505 160.328679 \nL 244.686399 160.794228 \nL 245.296346 160.312888 \nL 245.906293 160.544148 \nL 246.51624 160.420379 \nL 247.126188 160.649724 \nL 247.736135 161.228681 \nL 248.346082 161.453819 \nL 248.956029 160.63106 \nL 249.565976 160.161384 \nL 250.175923 160.734329 \nL 251.395818 160.491988 \nL 252.005765 160.715132 \nL 252.615712 160.252817 \nL 253.835606 160.696312 \nL 254.445554 160.577221 \nL 255.665448 161.014405 \nL 256.275395 160.89544 \nL 256.885342 160.44281 \nL 257.495289 160.326403 \nL 258.105237 160.875332 \nL 258.715184 160.758298 \nL 259.935078 161.184777 \nL 260.545025 160.739713 \nL 261.154972 161.278832 \nL 262.374867 161.046615 \nL 262.984814 161.5798 \nL 263.594761 161.463488 \nL 264.204708 161.025722 \nL 266.03455 160.686015 \nL 266.644497 160.892395 \nL 267.254444 160.462965 \nL 269.084286 161.07669 \nL 269.694233 160.965322 \nL 270.30418 161.479781 \nL 270.914127 161.367879 \nL 271.524074 160.635173 \nL 272.134021 160.216605 \nL 272.743969 160.109381 \nL 273.353916 160.310816 \nL 273.963863 160.203953 \nL 274.57381 160.403929 \nL 275.183757 159.381431 \nL 275.793704 159.278178 \nL 276.403652 159.78267 \nL 277.623546 160.179309 \nL 278.233493 160.074958 \nL 278.84344 160.271324 \nL 279.453387 160.765817 \nL 280.673282 159.961047 \nL 281.283229 160.452228 \nL 281.893176 160.644779 \nL 283.11307 159.849663 \nL 283.723018 159.748843 \nL 284.942912 160.716089 \nL 285.552859 160.32273 \nL 286.162806 160.221722 \nL 286.772753 160.410663 \nL 287.382701 160.309969 \nL 287.992648 160.785453 \nL 289.212542 160.583672 \nL 290.432436 160.953471 \nL 291.042384 161.420808 \nL 291.652331 160.752945 \nL 292.262278 160.371092 \nL 292.872225 160.554586 \nL 293.482172 160.456199 \nL 295.921961 161.179566 \nL 297.751802 160.884907 \nL 298.36175 161.337773 \nL 298.971697 161.513968 \nL 299.581644 161.415644 \nL 300.191591 161.863612 \nL 302.63138 162.552163 \nL 303.241327 162.452694 \nL 304.461221 162.791334 \nL 305.071168 162.424659 \nL 305.681116 162.593195 \nL 306.291063 162.494871 \nL 306.90101 162.927723 \nL 307.510957 162.829053 \nL 308.120904 162.994889 \nL 308.730851 162.896533 \nL 309.340799 163.06138 \nL 309.950746 163.487435 \nL 311.17064 162.768778 \nL 311.780587 162.672212 \nL 313.610429 163.159893 \nL 314.830323 161.939506 \nL 315.44027 162.102657 \nL 316.050217 162.00934 \nL 316.660165 162.171534 \nL 317.880059 161.478274 \nL 318.490006 161.640578 \nL 319.099953 161.54949 \nL 319.7099 161.710852 \nL 320.319848 161.368617 \nL 320.929795 161.278832 \nL 321.539742 161.439691 \nL 322.149689 161.100533 \nL 325.199425 161.895571 \nL 325.809372 160.82176 \nL 326.419319 160.73513 \nL 327.029266 160.893886 \nL 327.639214 161.296302 \nL 328.249161 161.453002 \nL 328.859108 161.852279 \nL 329.469055 162.006986 \nL 331.298897 161.020574 \nL 333.128738 160.765817 \nL 333.738685 160.203953 \nL 334.348632 160.121263 \nL 334.95858 160.514528 \nL 335.568527 160.668764 \nL 336.178474 161.059031 \nL 336.788421 160.738991 \nL 337.398368 161.127343 \nL 338.618263 160.491219 \nL 339.838157 160.327879 \nL 340.448104 160.479807 \nL 341.058051 159.933452 \nL 341.667998 160.085569 \nL 342.277946 159.542479 \nL 342.887893 159.232783 \nL 343.49784 159.154943 \nL 344.107787 159.307436 \nL 344.717734 158.770766 \nL 345.327681 158.694433 \nL 345.937629 159.075439 \nL 346.547576 159.226787 \nL 347.157523 159.149967 \nL 347.76747 158.84644 \nL 348.377417 158.997301 \nL 349.597312 158.845954 \nL 350.817206 158.246701 \nL 351.427153 158.62135 \nL 352.647048 158.473204 \nL 353.256995 158.622307 \nL 353.866942 158.104065 \nL 354.476889 158.031546 \nL 355.086836 158.180633 \nL 356.306731 157.595445 \nL 357.526625 157.454033 \nL 358.136572 157.602775 \nL 358.746519 157.532344 \nL 359.356466 157.680301 \nL 359.966414 158.045296 \nL 360.576361 157.974394 \nL 361.186308 158.120531 \nL 361.796255 158.04977 \nL 364.236044 158.627738 \nL 364.845991 158.984869 \nL 365.455938 158.485887 \nL 366.065885 158.628617 \nL 366.675832 158.557966 \nL 367.28578 158.699974 \nL 368.505674 158.559253 \nL 369.115621 158.700398 \nL 369.725568 158.630312 \nL 369.725568 158.630312 \n\" style=\"fill:none;stroke:#ff7f0e;stroke-linecap:square;stroke-width:1.5;\"/>\n   </g>\n   <g id=\"line2d_14\">\n    <path clip-path=\"url(#pd6c94cd9f6)\" d=\"M 65.361932 228.996604 \nL 65.971879 228.996604 \nL 66.581826 158.770766 \nL 67.191773 202.661918 \nL 67.80172 186.861105 \nL 68.411668 193.883681 \nL 69.021615 183.85142 \nL 69.631562 189.494571 \nL 70.241509 193.883681 \nL 70.851456 186.861105 \nL 71.461403 200.267858 \nL 72.681298 172.275734 \nL 73.291245 176.327224 \nL 73.901192 172.815935 \nL 74.511139 176.327224 \nL 75.731034 170.475071 \nL 76.340981 168.01102 \nL 76.950928 171.060291 \nL 78.170822 157.174726 \nL 78.780769 164.877362 \nL 79.390717 167.549003 \nL 80.000664 161.5798 \nL 80.610611 160.121263 \nL 81.220558 154.869337 \nL 81.830505 161.278832 \nL 82.440452 159.981563 \nL 83.0504 148.236901 \nL 83.660347 150.842051 \nL 84.880241 142.810349 \nL 86.100135 141.715928 \nL 86.710083 138.288241 \nL 88.539924 145.265799 \nL 89.149871 144.725597 \nL 89.759819 146.781001 \nL 90.369766 146.23044 \nL 92.199607 151.74819 \nL 92.809554 148.84755 \nL 93.419502 148.311602 \nL 94.029449 145.603435 \nL 94.639396 147.305334 \nL 95.249343 146.832377 \nL 95.85929 150.508904 \nL 97.689132 154.869337 \nL 98.299079 154.301854 \nL 98.909026 151.873591 \nL 99.518973 151.37858 \nL 100.738868 154.009691 \nL 101.958762 153.014552 \nL 102.568709 154.240072 \nL 103.178656 152.082592 \nL 103.788603 146.700713 \nL 104.398551 147.966793 \nL 105.618445 147.24115 \nL 106.838339 143.504284 \nL 107.448286 140.211086 \nL 108.058234 139.977943 \nL 109.278128 145.302796 \nL 110.498022 144.725597 \nL 111.107969 141.676325 \nL 111.717917 142.810349 \nL 112.327864 142.564806 \nL 113.547758 147.359079 \nL 114.767652 146.781001 \nL 115.3776 147.771541 \nL 115.987547 146.23044 \nL 117.207441 145.705495 \nL 117.817388 147.873664 \nL 119.037283 149.696647 \nL 119.64723 149.407326 \nL 120.257177 147.966793 \nL 121.477071 147.44403 \nL 122.087018 148.311602 \nL 122.696966 150.269749 \nL 123.306913 148.895268 \nL 123.91686 148.635079 \nL 124.526807 150.529985 \nL 126.966596 153.607102 \nL 127.576543 155.361758 \nL 128.18649 156.069773 \nL 128.796437 154.757874 \nL 129.406384 154.464472 \nL 130.016332 155.161028 \nL 131.236226 154.582997 \nL 131.846173 155.259478 \nL 132.45612 154.02578 \nL 133.676015 153.488294 \nL 134.285962 154.150648 \nL 134.895909 153.885499 \nL 135.505856 155.441105 \nL 136.115803 156.069773 \nL 136.72575 154.902394 \nL 137.335698 155.525035 \nL 138.555592 154.998316 \nL 139.165539 153.87798 \nL 139.775486 153.632296 \nL 141.605328 155.426679 \nL 142.215275 155.176537 \nL 142.825222 155.753249 \nL 143.435169 157.137619 \nL 144.045116 157.690378 \nL 144.655064 157.430582 \nL 145.265011 156.376706 \nL 145.874958 157.71474 \nL 147.094852 158.770766 \nL 147.704799 157.738034 \nL 148.314747 157.489272 \nL 149.534641 158.518159 \nL 150.754535 156.529529 \nL 151.364482 156.298034 \nL 151.97443 155.333143 \nL 152.584377 156.576211 \nL 153.194324 157.075664 \nL 153.804271 156.846775 \nL 155.024165 157.821775 \nL 155.634113 156.885515 \nL 156.24406 158.068512 \nL 157.463954 157.615741 \nL 159.293796 158.997301 \nL 159.903743 160.121263 \nL 160.51369 160.55997 \nL 161.123637 158.993 \nL 161.733584 159.433277 \nL 164.173373 155.97035 \nL 164.78332 157.057943 \nL 165.393267 157.493934 \nL 166.003214 156.655542 \nL 166.613162 157.088708 \nL 167.223109 155.635696 \nL 167.833056 155.446473 \nL 169.05295 157.538733 \nL 169.662897 157.954193 \nL 171.492739 157.366257 \nL 173.932528 158.966928 \nL 174.542475 157.600342 \nL 175.762369 157.227342 \nL 176.372316 156.468281 \nL 176.982263 156.862456 \nL 177.592211 157.821775 \nL 178.202158 157.638093 \nL 178.812105 156.89308 \nL 179.422052 157.836923 \nL 180.031999 156.54138 \nL 180.641946 156.922716 \nL 181.251894 156.748561 \nL 181.861841 157.124858 \nL 182.471788 156.951456 \nL 183.081735 155.693868 \nL 183.691682 156.609975 \nL 184.911577 154.136583 \nL 186.131471 153.830262 \nL 186.741418 154.732791 \nL 187.351365 154.054113 \nL 187.961312 153.903629 \nL 188.57126 154.273553 \nL 189.181207 154.123477 \nL 189.791154 154.488707 \nL 190.401101 154.339039 \nL 191.620995 155.056912 \nL 192.230943 154.402658 \nL 193.450837 155.109716 \nL 194.060784 155.955109 \nL 194.670731 154.814382 \nL 195.280678 155.161028 \nL 195.890626 154.524559 \nL 196.500573 154.381656 \nL 197.11052 154.725508 \nL 198.330414 154.441774 \nL 198.940361 155.259478 \nL 199.550309 154.639835 \nL 200.770203 154.361972 \nL 201.38015 154.695166 \nL 202.600044 156.284896 \nL 203.209992 155.213079 \nL 205.64978 156.490711 \nL 208.089569 155.931862 \nL 209.309463 156.548428 \nL 209.91941 155.967635 \nL 211.139305 155.698389 \nL 212.359199 156.304156 \nL 212.969146 155.736328 \nL 213.579093 155.604852 \nL 214.189041 156.334372 \nL 214.798988 156.629737 \nL 215.408935 156.496252 \nL 216.018882 155.939082 \nL 217.848724 156.812289 \nL 219.068618 155.717476 \nL 219.678565 156.420688 \nL 220.288512 155.052941 \nL 220.898459 155.341776 \nL 222.118354 154.27958 \nL 222.728301 154.161353 \nL 223.948195 155.542003 \nL 224.558142 155.420306 \nL 225.16809 155.700053 \nL 226.387984 155.45823 \nL 226.997931 156.130707 \nL 227.607878 155.614553 \nL 229.43772 156.429918 \nL 230.047667 155.53158 \nL 230.657614 155.02712 \nL 231.267561 155.298061 \nL 231.877508 154.798136 \nL 233.70735 154.460877 \nL 234.317297 155.107911 \nL 234.927244 154.617624 \nL 235.537191 154.883275 \nL 236.147139 153.647537 \nL 236.757086 154.288276 \nL 237.367033 154.552263 \nL 237.97698 154.072557 \nL 239.196874 154.596512 \nL 239.806822 153.754636 \nL 240.416769 154.015891 \nL 241.026716 153.910849 \nL 241.636663 153.080054 \nL 242.856557 152.87854 \nL 243.466505 152.419286 \nL 244.076452 152.321464 \nL 245.296346 152.839534 \nL 246.51624 152.643686 \nL 247.736135 151.74819 \nL 248.346082 152.004831 \nL 249.565976 151.122409 \nL 251.395818 150.853148 \nL 252.005765 151.107686 \nL 252.615712 150.67656 \nL 253.225659 150.930031 \nL 253.835606 150.842051 \nL 254.445554 150.415932 \nL 255.665448 150.918038 \nL 256.275395 151.502175 \nL 256.885342 151.413787 \nL 258.715184 152.145693 \nL 259.935078 151.967645 \nL 261.154972 152.446081 \nL 261.76492 152.356955 \nL 262.984814 152.828593 \nL 264.814655 152.561781 \nL 265.424603 152.794108 \nL 266.03455 152.386606 \nL 266.644497 152.299819 \nL 267.254444 152.530827 \nL 267.864391 152.444118 \nL 268.474338 152.673322 \nL 269.084286 152.272255 \nL 269.694233 151.56008 \nL 270.30418 151.789864 \nL 271.524074 151.623888 \nL 272.743969 152.077695 \nL 273.963863 151.911985 \nL 274.57381 152.136071 \nL 275.183757 151.74819 \nL 275.793704 151.667006 \nL 276.403652 150.979146 \nL 277.013599 150.900631 \nL 277.623546 150.520739 \nL 279.453387 150.291803 \nL 280.673282 150.736459 \nL 282.503123 150.508904 \nL 283.11307 150.728156 \nL 283.723018 151.239585 \nL 284.942912 150.50319 \nL 285.552859 150.429024 \nL 286.772753 150.860714 \nL 287.382701 150.497587 \nL 287.992648 150.712066 \nL 288.602595 150.638355 \nL 289.822489 151.633996 \nL 290.432436 151.843092 \nL 291.042384 151.483182 \nL 292.262278 151.898799 \nL 292.872225 152.386606 \nL 294.092119 151.673473 \nL 295.921961 152.285535 \nL 296.531908 151.932987 \nL 300.191591 153.13088 \nL 300.801538 152.782524 \nL 301.411485 152.707462 \nL 302.63138 151.478097 \nL 303.241327 151.945748 \nL 304.461221 151.801794 \nL 305.071168 151.463012 \nL 305.681116 151.392612 \nL 306.291063 151.588586 \nL 306.90101 150.987559 \nL 308.120904 151.37858 \nL 308.730851 151.309279 \nL 309.340799 151.765707 \nL 309.950746 151.695778 \nL 310.560693 151.364814 \nL 311.17064 151.817726 \nL 311.780587 151.74819 \nL 313.610429 152.31619 \nL 314.830323 153.20409 \nL 315.44027 153.132199 \nL 316.050217 153.57202 \nL 316.660165 153.244524 \nL 317.270112 153.681944 \nL 318.490006 153.537597 \nL 319.099953 153.718549 \nL 319.7099 153.646642 \nL 320.319848 153.826464 \nL 320.929795 153.503834 \nL 321.539742 153.432948 \nL 322.759636 154.288276 \nL 323.369583 154.464472 \nL 323.979531 154.144134 \nL 324.589478 154.319842 \nL 325.199425 154.24803 \nL 325.809372 154.668796 \nL 326.419319 154.105425 \nL 327.639214 153.964124 \nL 328.249161 154.137823 \nL 329.469055 153.997354 \nL 330.079002 153.443292 \nL 330.688949 153.37498 \nL 331.908844 153.720291 \nL 332.518791 153.411851 \nL 333.128738 153.823042 \nL 334.95858 154.332117 \nL 335.568527 153.788541 \nL 336.788421 153.653423 \nL 337.398368 154.057629 \nL 338.008315 153.989772 \nL 338.618263 154.156832 \nL 339.22821 153.854969 \nL 340.448104 154.187441 \nL 341.058051 154.585132 \nL 341.667998 154.517009 \nL 342.277946 154.680694 \nL 342.887893 154.150648 \nL 344.107787 154.017493 \nL 344.717734 154.180848 \nL 345.327681 154.572481 \nL 346.547576 153.982646 \nL 347.157523 153.917144 \nL 347.76747 154.078961 \nL 348.987365 153.948396 \nL 349.597312 154.109098 \nL 350.207259 154.494201 \nL 352.0371 153.626849 \nL 352.647048 154.009691 \nL 353.256995 153.722818 \nL 353.866942 153.881638 \nL 354.476889 154.261529 \nL 355.696783 154.574882 \nL 356.306731 154.510212 \nL 356.916678 154.88563 \nL 357.526625 155.040022 \nL 358.136572 154.755787 \nL 358.746519 154.691258 \nL 359.356466 154.408921 \nL 359.966414 154.345381 \nL 360.576361 154.499303 \nL 361.186308 154.219101 \nL 361.796255 154.372646 \nL 362.406202 153.87798 \nL 363.016149 154.031604 \nL 363.626097 153.969618 \nL 364.236044 154.122425 \nL 364.845991 153.846399 \nL 365.455938 154.212508 \nL 366.065885 154.363887 \nL 366.675832 153.876238 \nL 367.28578 153.602943 \nL 367.895727 153.966588 \nL 368.505674 153.905732 \nL 369.115621 154.056216 \nL 369.725568 154.416769 \nL 369.725568 154.416769 \n\" style=\"fill:none;stroke:#2ca02c;stroke-linecap:square;stroke-width:1.5;\"/>\n   </g>\n   <g id=\"line2d_15\">\n    <path clip-path=\"url(#pd6c94cd9f6)\" d=\"M 65.361932 18.319091 \nL 67.191773 18.319091 \nL 67.80172 39.386852 \nL 68.411668 53.432006 \nL 69.021615 48.415875 \nL 69.631562 70.988479 \nL 70.241509 65.136311 \nL 71.461403 94.929097 \nL 72.681298 115.554871 \nL 73.291245 108.609459 \nL 73.901192 109.612682 \nL 75.121086 98.872264 \nL 76.340981 101.481275 \nL 76.950928 102.590106 \nL 77.560875 108.609459 \nL 78.780769 128.237802 \nL 79.390717 128.046962 \nL 80.000664 132.084953 \nL 81.830505 131.182047 \nL 82.440452 127.290224 \nL 83.660347 133.85193 \nL 84.270294 136.825198 \nL 84.880241 142.810349 \nL 86.100135 147.735282 \nL 86.710083 152.918614 \nL 87.929977 145.834428 \nL 88.539924 147.966793 \nL 89.149871 147.359079 \nL 89.759819 141.642515 \nL 90.979713 145.705495 \nL 92.809554 144.267615 \nL 93.419502 141.587859 \nL 94.029449 145.603435 \nL 94.639396 143.005789 \nL 96.469237 141.889565 \nL 97.079185 143.533088 \nL 97.689132 147.066461 \nL 98.299079 146.640861 \nL 99.518973 153.22663 \nL 101.958762 151.287696 \nL 102.568709 149.14304 \nL 104.398551 157.690378 \nL 105.008498 157.174726 \nL 105.618445 155.10226 \nL 106.228392 157.738034 \nL 106.838339 158.770766 \nL 108.668181 166.085961 \nL 109.278128 165.504759 \nL 109.888075 166.362756 \nL 110.498022 168.602393 \nL 111.107969 166.62497 \nL 111.717917 168.803028 \nL 112.327864 169.57474 \nL 112.937811 171.660329 \nL 115.3776 174.423513 \nL 115.987547 170.057068 \nL 116.597494 170.75047 \nL 117.817388 174.511038 \nL 118.427335 173.933164 \nL 119.037283 175.735443 \nL 119.64723 175.1568 \nL 120.257177 176.906008 \nL 120.867124 176.327224 \nL 121.477071 176.893561 \nL 122.087018 176.327224 \nL 122.696966 174.663986 \nL 123.91686 175.784244 \nL 124.526807 175.252345 \nL 125.136754 175.795216 \nL 125.746701 175.27385 \nL 126.356649 175.805748 \nL 126.966596 173.229025 \nL 128.18649 170.249996 \nL 128.796437 170.809489 \nL 129.406384 170.364661 \nL 130.016332 170.912617 \nL 130.626279 172.425794 \nL 131.236226 170.045563 \nL 131.846173 171.539103 \nL 133.676015 173.064524 \nL 134.285962 170.783088 \nL 134.895909 171.28929 \nL 135.505856 170.878681 \nL 136.115803 168.674409 \nL 136.72575 168.292917 \nL 137.335698 167.032629 \nL 137.945645 167.549003 \nL 138.555592 166.315698 \nL 139.775486 167.3349 \nL 140.385433 166.133161 \nL 141.605328 167.130984 \nL 144.045116 162.552163 \nL 144.655064 162.25526 \nL 145.265011 159.568786 \nL 145.874958 158.506764 \nL 146.484905 159.032807 \nL 147.094852 158.770766 \nL 147.704799 160.061694 \nL 148.314747 159.795965 \nL 148.924694 158.007452 \nL 150.754535 159.517851 \nL 151.364482 160.748958 \nL 151.97443 160.489586 \nL 152.584377 158.770766 \nL 153.194324 156.34919 \nL 153.804271 157.568274 \nL 155.024165 157.110024 \nL 155.634113 157.592478 \nL 156.24406 158.770766 \nL 156.854007 159.235844 \nL 157.463954 158.308765 \nL 158.073901 158.082278 \nL 158.683848 158.542772 \nL 159.293796 158.317697 \nL 159.903743 158.770766 \nL 160.51369 157.87618 \nL 161.123637 158.993 \nL 161.733584 158.770766 \nL 162.343531 159.868044 \nL 162.953479 159.643142 \nL 164.78332 160.911796 \nL 165.393267 160.047599 \nL 166.613162 159.611795 \nL 167.223109 160.024807 \nL 168.443003 162.075518 \nL 170.272845 163.236006 \nL 170.882792 162.403139 \nL 171.492739 162.181737 \nL 172.102686 162.561377 \nL 172.712633 161.746436 \nL 173.32258 159.757084 \nL 173.932528 159.555413 \nL 174.542475 158.185562 \nL 175.762369 157.806126 \nL 176.372316 158.195153 \nL 176.982263 158.007452 \nL 177.592211 156.68298 \nL 178.202158 157.071756 \nL 178.812105 156.329773 \nL 180.031999 157.098723 \nL 180.641946 158.031546 \nL 182.471788 159.134632 \nL 183.081735 160.037725 \nL 183.691682 158.770766 \nL 184.301629 159.129059 \nL 184.911577 158.414294 \nL 186.131471 160.182339 \nL 186.741418 160.526411 \nL 187.351365 161.391142 \nL 187.961312 161.725827 \nL 188.57126 161.019381 \nL 189.181207 160.836232 \nL 189.791154 160.141025 \nL 190.401101 160.475286 \nL 191.011048 161.315185 \nL 191.620995 161.640578 \nL 192.230943 161.458841 \nL 192.84089 162.28207 \nL 193.450837 161.100533 \nL 194.670731 161.738054 \nL 195.280678 161.067884 \nL 196.500573 160.721489 \nL 197.11052 161.036114 \nL 197.720467 160.381452 \nL 200.160256 159.719773 \nL 201.38015 160.338317 \nL 201.990097 159.707121 \nL 203.209992 159.389499 \nL 203.819939 158.770766 \nL 204.429886 159.077433 \nL 205.64978 158.770766 \nL 206.869675 159.373567 \nL 207.479622 158.770766 \nL 208.089569 159.517851 \nL 211.749252 158.62507 \nL 212.359199 158.045296 \nL 212.969146 158.337286 \nL 213.579093 158.195153 \nL 214.798988 158.770766 \nL 215.408935 159.48156 \nL 216.628829 159.193824 \nL 217.238776 159.473037 \nL 218.458671 160.860829 \nL 219.068618 161.130137 \nL 219.678565 160.982604 \nL 220.288512 161.662428 \nL 220.898459 161.925441 \nL 221.508407 161.36667 \nL 222.118354 161.628805 \nL 222.728301 162.295617 \nL 223.338248 162.552163 \nL 223.948195 161.999546 \nL 224.558142 161.853205 \nL 225.16809 162.509029 \nL 225.778037 162.361872 \nL 226.997931 162.86288 \nL 227.607878 162.321516 \nL 228.217825 162.177248 \nL 228.827773 161.25086 \nL 229.43772 161.891913 \nL 231.877508 161.333754 \nL 232.487456 160.430661 \nL 234.317297 160.033833 \nL 234.927244 160.658561 \nL 235.537191 159.774005 \nL 236.147139 159.645465 \nL 236.757086 158.770766 \nL 237.367033 159.018915 \nL 237.97698 159.636235 \nL 238.586927 159.879597 \nL 239.196874 159.752956 \nL 239.806822 159.994214 \nL 240.416769 159.868044 \nL 241.026716 159.37826 \nL 242.24661 159.856742 \nL 242.856557 159.372013 \nL 244.076452 159.129059 \nL 244.686399 159.365907 \nL 245.906293 159.125449 \nL 247.736135 160.877546 \nL 248.346082 159.703998 \nL 250.785871 160.612758 \nL 251.395818 160.491988 \nL 252.615712 160.936832 \nL 253.225659 160.816187 \nL 253.835606 161.036114 \nL 254.445554 161.593346 \nL 255.665448 161.350958 \nL 256.275395 160.55997 \nL 256.885342 161.111631 \nL 257.495289 160.659754 \nL 258.105237 160.875332 \nL 258.715184 161.420808 \nL 259.325131 161.632635 \nL 260.545025 162.708675 \nL 261.76492 163.119128 \nL 262.374867 162.997322 \nL 262.984814 163.200406 \nL 263.594761 163.079102 \nL 264.204708 163.280694 \nL 264.814655 163.802201 \nL 266.644497 164.393088 \nL 267.254444 163.953094 \nL 267.864391 164.464759 \nL 269.084286 164.221131 \nL 269.694233 164.413917 \nL 270.914127 164.172753 \nL 273.353916 164.930935 \nL 273.963863 164.810604 \nL 275.183757 165.182694 \nL 275.793704 164.75824 \nL 277.013599 165.127426 \nL 277.623546 165.61225 \nL 278.233493 165.793359 \nL 278.84344 165.67331 \nL 281.283229 166.38682 \nL 281.893176 166.266787 \nL 282.503123 166.737562 \nL 283.11307 166.911482 \nL 283.723018 166.497575 \nL 284.942912 167.427416 \nL 285.552859 167.597506 \nL 286.162806 167.476453 \nL 287.382701 167.813555 \nL 287.992648 167.69291 \nL 288.602595 167.285895 \nL 289.212542 167.739828 \nL 289.822489 167.3349 \nL 290.432436 167.216845 \nL 291.042384 166.815512 \nL 291.652331 166.699498 \nL 292.872225 165.906014 \nL 294.702067 166.408057 \nL 295.312014 166.016299 \nL 296.531908 165.793359 \nL 297.141855 165.959241 \nL 297.751802 165.296998 \nL 298.36175 165.188283 \nL 298.971697 164.25717 \nL 300.191591 163.501013 \nL 301.411485 163.838618 \nL 302.021433 164.276917 \nL 303.851274 163.966043 \nL 304.461221 164.131518 \nL 305.071168 164.563507 \nL 305.681116 164.726627 \nL 306.291063 165.154943 \nL 306.90101 165.050418 \nL 307.510957 165.211074 \nL 308.120904 165.106942 \nL 308.730851 165.266656 \nL 310.560693 164.172753 \nL 311.780587 163.972683 \nL 312.390534 164.132837 \nL 313.000482 164.033398 \nL 313.610429 163.676251 \nL 314.220376 163.835965 \nL 314.830323 163.73797 \nL 317.270112 165.386249 \nL 317.880059 165.539527 \nL 318.490006 165.18563 \nL 319.099953 165.338657 \nL 319.7099 165.742957 \nL 320.319848 165.893912 \nL 322.149689 167.091366 \nL 322.759636 166.739666 \nL 325.199425 166.336088 \nL 326.419319 167.11929 \nL 327.029266 167.018219 \nL 327.639214 166.673221 \nL 328.249161 166.817474 \nL 328.859108 167.204366 \nL 329.469055 167.346735 \nL 330.688949 168.112734 \nL 331.298897 168.01102 \nL 332.518791 168.288851 \nL 333.128738 167.948013 \nL 333.738685 167.847586 \nL 334.348632 167.985921 \nL 334.95858 167.88587 \nL 335.568527 168.260754 \nL 336.178474 168.160515 \nL 336.788421 168.296919 \nL 337.398368 167.725748 \nL 338.618263 167.998666 \nL 339.22821 167.900122 \nL 339.838157 168.269167 \nL 341.058051 167.607128 \nL 341.667998 167.974383 \nL 342.887893 168.242012 \nL 343.49784 167.913967 \nL 344.107787 167.817338 \nL 344.717734 167.950619 \nL 345.327681 167.625336 \nL 345.937629 167.529963 \nL 347.157523 166.885425 \nL 347.76747 167.019287 \nL 348.377417 167.379102 \nL 348.987365 167.285283 \nL 349.597312 166.966294 \nL 350.207259 167.098837 \nL 350.817206 167.006211 \nL 351.427153 167.138111 \nL 352.647048 166.507511 \nL 353.256995 166.862335 \nL 353.866942 166.993418 \nL 356.306731 166.630778 \nL 356.916678 166.760982 \nL 357.526625 166.451725 \nL 358.746519 166.711239 \nL 359.966414 166.533332 \nL 360.576361 166.879319 \nL 361.796255 166.701821 \nL 362.406202 166.829466 \nL 363.626097 166.223307 \nL 364.236044 166.136614 \nL 364.845991 166.478488 \nL 365.455938 166.605302 \nL 366.675832 166.431775 \nL 367.895727 167.107439 \nL 368.505674 167.23171 \nL 369.115621 166.9333 \nL 369.725568 167.057414 \nL 369.725568 167.057414 \n\" style=\"fill:none;stroke:#d62728;stroke-linecap:square;stroke-width:1.5;\"/>\n   </g>\n   <g id=\"line2d_16\">\n    <path clip-path=\"url(#pd6c94cd9f6)\" d=\"M 65.361932 123.657851 \nL 65.971879 176.327224 \nL 66.581826 193.883681 \nL 67.191773 176.327224 \nL 67.80172 165.793359 \nL 68.411668 141.214309 \nL 69.021615 108.609459 \nL 69.631562 110.490504 \nL 70.241509 123.657851 \nL 70.851456 144.725597 \nL 71.461403 152.386606 \nL 72.071351 149.992545 \nL 72.681298 156.069773 \nL 73.291245 153.754636 \nL 74.511139 136.825198 \nL 75.121086 129.854248 \nL 75.731034 135.362156 \nL 76.340981 134.74614 \nL 77.560875 153.754636 \nL 78.170822 152.386606 \nL 79.390717 141.214309 \nL 80.000664 140.512054 \nL 81.220558 147.066461 \nL 81.830505 149.992545 \nL 82.440452 156.34919 \nL 84.270294 163.159893 \nL 84.880241 158.770766 \nL 85.490188 151.541637 \nL 86.100135 138.706244 \nL 86.710083 138.288241 \nL 87.32003 135.045821 \nL 87.929977 140.290291 \nL 89.149871 139.458665 \nL 89.759819 141.642515 \nL 90.369766 141.214309 \nL 90.979713 138.356286 \nL 91.58966 140.416289 \nL 92.199607 140.043885 \nL 92.809554 141.977639 \nL 93.419502 146.070349 \nL 94.029449 145.603435 \nL 95.85929 150.508904 \nL 97.079185 153.470714 \nL 97.689132 150.967907 \nL 98.299079 154.301854 \nL 98.909026 153.754636 \nL 99.518973 155.074681 \nL 100.12892 149.084444 \nL 101.348815 148.236901 \nL 101.958762 151.287696 \nL 103.788603 154.930303 \nL 104.398551 151.207988 \nL 105.008498 149.194525 \nL 105.618445 151.957819 \nL 106.228392 151.541637 \nL 106.838339 152.66417 \nL 107.448286 152.249809 \nL 108.058234 153.330746 \nL 108.668181 151.455588 \nL 109.278128 146.745794 \nL 109.888075 147.857292 \nL 110.498022 147.534631 \nL 111.107969 148.606511 \nL 111.717917 148.2825 \nL 112.327864 146.616296 \nL 112.937811 143.658881 \nL 113.547758 143.408864 \nL 114.157705 145.76599 \nL 116.597494 144.725597 \nL 117.207441 145.705495 \nL 117.817388 143.030495 \nL 118.427335 141.613319 \nL 119.037283 139.044413 \nL 119.64723 138.873445 \nL 120.257177 137.548675 \nL 120.867124 138.542684 \nL 121.477071 138.382625 \nL 122.087018 140.467225 \nL 122.696966 141.399122 \nL 123.306913 143.408864 \nL 123.91686 142.119286 \nL 124.526807 138.706244 \nL 125.136754 137.49022 \nL 125.746701 138.405275 \nL 126.356649 137.216313 \nL 126.966596 139.148843 \nL 128.18649 140.876689 \nL 128.796437 140.712705 \nL 129.406384 141.545572 \nL 130.626279 139.263602 \nL 131.846173 140.895101 \nL 133.066067 140.587304 \nL 133.676015 139.505284 \nL 134.285962 141.214309 \nL 134.895909 140.145662 \nL 135.505856 141.819715 \nL 136.115803 141.664474 \nL 138.555592 137.586943 \nL 139.165539 137.472766 \nL 140.385433 138.948962 \nL 140.995381 138.826637 \nL 141.605328 139.542265 \nL 142.215275 138.587749 \nL 142.825222 139.294069 \nL 143.435169 138.356286 \nL 144.045116 139.053517 \nL 144.655064 138.935996 \nL 145.874958 140.290291 \nL 147.094852 138.483303 \nL 150.754535 142.334943 \nL 152.584377 144.140393 \nL 154.414218 141.572602 \nL 155.634113 141.332144 \nL 156.24406 140.512054 \nL 157.463954 140.290291 \nL 158.073901 140.870065 \nL 158.683848 140.758304 \nL 159.293796 141.327576 \nL 159.903743 141.214309 \nL 161.123637 143.658881 \nL 162.343531 144.725597 \nL 162.953479 145.903305 \nL 163.563426 146.416226 \nL 164.173373 147.569101 \nL 164.78332 147.42331 \nL 167.223109 149.365525 \nL 167.833056 147.966793 \nL 170.272845 144.969163 \nL 170.882792 144.846682 \nL 171.492739 145.327534 \nL 172.102686 144.605894 \nL 172.712633 144.487557 \nL 173.32258 144.962319 \nL 173.932528 144.254822 \nL 174.542475 144.725597 \nL 175.152422 144.609206 \nL 175.762369 145.651655 \nL 176.982263 146.55759 \nL 177.592211 147.572601 \nL 178.202158 147.44403 \nL 179.422052 148.311602 \nL 180.031999 147.62382 \nL 180.641946 147.497681 \nL 181.251894 148.475884 \nL 181.861841 147.79799 \nL 182.471788 147.672903 \nL 183.081735 148.092099 \nL 183.691682 147.426591 \nL 184.911577 149.324149 \nL 185.521524 148.662502 \nL 186.741418 148.412469 \nL 187.961312 147.124414 \nL 188.57126 148.046626 \nL 189.791154 148.83639 \nL 191.011048 147.575348 \nL 191.620995 147.460354 \nL 192.230943 148.354501 \nL 192.84089 147.233663 \nL 193.450837 148.1204 \nL 194.060784 146.514377 \nL 195.280678 147.285242 \nL 195.890626 147.175349 \nL 196.500573 147.554142 \nL 197.11052 148.414886 \nL 197.720467 148.784528 \nL 198.330414 147.707797 \nL 198.940361 147.598485 \nL 199.550309 147.966793 \nL 200.770203 149.638271 \nL 201.38015 149.052015 \nL 201.990097 148.939156 \nL 202.600044 149.293399 \nL 205.039833 147.015573 \nL 205.64978 147.82648 \nL 206.259727 147.722316 \nL 206.869675 148.071128 \nL 208.089569 146.96685 \nL 208.699516 147.314438 \nL 209.309463 147.214623 \nL 209.91941 146.673039 \nL 211.749252 146.386543 \nL 212.969146 147.066461 \nL 213.579093 146.970523 \nL 214.189041 147.305334 \nL 214.798988 147.209207 \nL 215.408935 147.540329 \nL 216.628829 147.3485 \nL 217.238776 146.832377 \nL 218.458671 146.648458 \nL 219.068618 145.30851 \nL 219.678565 145.637983 \nL 221.508407 145.381405 \nL 222.118354 144.480635 \nL 223.338248 144.32045 \nL 224.558142 145.77095 \nL 225.16809 145.686879 \nL 225.778037 146.401455 \nL 226.387984 145.918122 \nL 227.607878 145.751376 \nL 228.217825 146.061998 \nL 228.827773 146.761898 \nL 229.43772 145.505896 \nL 230.047667 146.202672 \nL 230.657614 146.507063 \nL 231.877508 145.571398 \nL 232.487456 145.491706 \nL 233.70735 146.094632 \nL 234.317297 146.013919 \nL 234.927244 145.556235 \nL 235.537191 146.23044 \nL 236.147139 146.15012 \nL 236.757086 146.443899 \nL 237.367033 146.363375 \nL 237.97698 145.912519 \nL 239.196874 145.756886 \nL 239.806822 145.312858 \nL 241.026716 145.163001 \nL 242.24661 145.73918 \nL 242.856557 145.302796 \nL 243.466505 145.588445 \nL 244.686399 146.868087 \nL 245.906293 147.421144 \nL 246.51624 147.341405 \nL 247.736135 147.885766 \nL 248.346082 147.805274 \nL 249.565976 148.34119 \nL 252.005765 148.019581 \nL 253.835606 148.803238 \nL 254.445554 148.722384 \nL 255.055501 148.304429 \nL 256.885342 149.072923 \nL 257.495289 148.659142 \nL 259.325131 148.424022 \nL 259.935078 148.675812 \nL 260.545025 148.597878 \nL 261.154972 148.19328 \nL 261.76492 148.443438 \nL 262.374867 148.366948 \nL 262.984814 147.966793 \nL 263.594761 148.21535 \nL 264.204708 148.784528 \nL 264.814655 148.386773 \nL 266.03455 149.513733 \nL 266.644497 149.117376 \nL 267.254444 149.357975 \nL 267.864391 149.913466 \nL 268.474338 149.519463 \nL 269.694233 150.619566 \nL 270.30418 150.53956 \nL 271.524074 151.002424 \nL 272.134021 150.612188 \nL 273.353916 150.454562 \nL 273.963863 150.683545 \nL 274.57381 150.298757 \nL 275.183757 150.832193 \nL 276.403652 151.28272 \nL 277.013599 150.597936 \nL 277.623546 150.822571 \nL 280.063335 150.514759 \nL 280.673282 150.736459 \nL 281.283229 150.363458 \nL 281.893176 150.584327 \nL 282.503123 150.508904 \nL 283.11307 150.728156 \nL 283.723018 151.239585 \nL 284.332965 151.16297 \nL 284.942912 150.794992 \nL 285.552859 150.720025 \nL 286.772753 151.150114 \nL 287.382701 151.074786 \nL 287.992648 150.712066 \nL 288.602595 151.212399 \nL 289.212542 150.565035 \nL 289.822489 150.492109 \nL 290.432436 150.134899 \nL 291.042384 150.347464 \nL 292.262278 151.333985 \nL 292.872225 150.978329 \nL 293.482172 151.467282 \nL 294.092119 151.673473 \nL 294.702067 151.319748 \nL 295.312014 151.525249 \nL 295.921961 151.173785 \nL 296.531908 151.37858 \nL 297.141855 151.305825 \nL 298.36175 151.711522 \nL 298.971697 152.187101 \nL 300.191591 152.039285 \nL 300.801538 151.693754 \nL 301.411485 152.164482 \nL 303.241327 152.753987 \nL 304.461221 151.533757 \nL 305.071168 151.730358 \nL 306.291063 151.056577 \nL 306.90101 151.518233 \nL 307.510957 151.712903 \nL 308.730851 151.045935 \nL 309.340799 151.240323 \nL 309.950746 151.695778 \nL 310.560693 151.887592 \nL 311.17064 152.339202 \nL 311.780587 151.74819 \nL 312.390534 151.419548 \nL 313.000482 150.8337 \nL 313.610429 151.283458 \nL 314.220376 151.215915 \nL 314.830323 150.634854 \nL 315.44027 150.312915 \nL 316.050217 150.248213 \nL 316.660165 150.693952 \nL 319.099953 151.445055 \nL 319.7099 151.37858 \nL 320.319848 151.563832 \nL 320.929795 151.24657 \nL 321.539742 150.680626 \nL 322.149689 150.616583 \nL 322.759636 151.050911 \nL 323.369583 150.986303 \nL 323.979531 151.169861 \nL 324.589478 150.857999 \nL 325.809372 150.730902 \nL 327.029266 149.625086 \nL 327.639214 149.809239 \nL 328.249161 149.504865 \nL 328.859108 149.44517 \nL 329.469055 149.14304 \nL 331.298897 149.691232 \nL 331.908844 148.91029 \nL 332.518791 149.332672 \nL 333.738685 149.216234 \nL 334.348632 149.635053 \nL 334.95858 149.100848 \nL 336.178474 149.933369 \nL 337.398368 150.28711 \nL 338.008315 150.697939 \nL 338.618263 150.637711 \nL 339.22821 150.81185 \nL 339.838157 150.284504 \nL 340.448104 150.458643 \nL 341.058051 150.399482 \nL 341.667998 149.644503 \nL 342.277946 149.818909 \nL 342.887893 150.223554 \nL 343.49784 149.934923 \nL 344.107787 149.877551 \nL 344.717734 150.279418 \nL 345.327681 149.992545 \nL 345.937629 150.163922 \nL 347.157523 150.049415 \nL 347.76747 149.765524 \nL 348.377417 149.935912 \nL 348.987365 150.33161 \nL 349.597312 150.500067 \nL 350.207259 150.442711 \nL 350.817206 150.610195 \nL 351.427153 150.328737 \nL 352.0371 150.719397 \nL 353.256995 151.050377 \nL 355.086836 150.877745 \nL 355.696783 150.599835 \nL 356.306731 150.984231 \nL 358.746519 150.757446 \nL 359.356466 151.137525 \nL 360.576361 151.458601 \nL 361.186308 151.184647 \nL 362.406202 151.503557 \nL 363.626097 150.959933 \nL 364.236044 150.904335 \nL 364.845991 151.06306 \nL 366.065885 150.525637 \nL 366.675832 150.896973 \nL 367.28578 151.054427 \nL 367.895727 150.787348 \nL 368.505674 150.944393 \nL 369.115621 150.678617 \nL 369.725568 150.835254 \nL 369.725568 150.835254 \n\" style=\"fill:none;stroke:#9467bd;stroke-linecap:square;stroke-width:1.5;\"/>\n   </g>\n   <g id=\"line2d_17\">\n    <path clip-path=\"url(#pd6c94cd9f6)\" d=\"M 65.361932 228.996604 \nL 65.971879 176.327224 \nL 66.581826 228.996604 \nL 67.191773 202.661918 \nL 67.80172 186.861105 \nL 68.411668 211.440147 \nL 69.021615 228.996604 \nL 69.631562 189.494571 \nL 70.241509 170.475071 \nL 70.851456 186.861105 \nL 71.461403 181.11536 \nL 72.071351 185.10546 \nL 73.291245 176.327224 \nL 74.511139 182.910905 \nL 75.731034 199.735834 \nL 76.340981 201.275884 \nL 76.950928 197.394985 \nL 77.560875 203.915951 \nL 78.780769 196.936987 \nL 79.390717 198.272807 \nL 80.000664 195.288206 \nL 81.220558 197.785127 \nL 82.440452 192.672901 \nL 83.0504 197.394985 \nL 83.660347 191.618334 \nL 84.270294 196.078252 \nL 85.490188 191.818216 \nL 87.32003 194.832688 \nL 87.929977 190.187596 \nL 88.539924 191.182688 \nL 89.149871 189.494571 \nL 89.759819 185.319563 \nL 90.369766 183.85142 \nL 90.979713 184.901309 \nL 91.58966 188.297541 \nL 92.199607 186.861105 \nL 93.419502 188.654107 \nL 95.249343 184.754325 \nL 95.85929 179.425422 \nL 96.469237 176.327224 \nL 97.079185 179.308513 \nL 99.518973 175.403206 \nL 101.348815 183.349816 \nL 101.958762 180.644396 \nL 102.568709 181.424271 \nL 103.178656 178.835289 \nL 103.788603 179.619072 \nL 104.398551 181.99932 \nL 105.618445 183.402228 \nL 106.228392 180.974529 \nL 106.838339 183.19715 \nL 107.448286 183.85142 \nL 108.058234 181.519989 \nL 108.668181 180.71635 \nL 110.498022 182.647562 \nL 111.107969 184.643444 \nL 111.717917 185.219466 \nL 112.327864 184.430204 \nL 112.937811 186.327747 \nL 113.547758 184.227638 \nL 114.767652 182.750328 \nL 116.597494 188.10039 \nL 117.207441 186.126185 \nL 117.817388 186.618952 \nL 119.037283 185.204098 \nL 119.64723 186.861105 \nL 120.257177 186.166557 \nL 120.867124 186.632105 \nL 121.477071 185.954966 \nL 122.696966 186.861105 \nL 123.306913 184.008183 \nL 123.91686 183.386013 \nL 124.526807 184.926314 \nL 125.136754 184.30744 \nL 126.356649 185.192373 \nL 126.966596 183.556353 \nL 128.18649 184.430204 \nL 128.796437 183.85142 \nL 129.406384 185.271092 \nL 130.626279 184.130099 \nL 131.236226 185.508128 \nL 131.846173 183.030608 \nL 132.45612 183.444718 \nL 133.066067 182.910905 \nL 133.676015 183.318737 \nL 134.895909 182.281154 \nL 137.335698 183.85142 \nL 139.775486 181.893916 \nL 140.385433 182.273776 \nL 141.605328 181.343355 \nL 142.215275 182.548029 \nL 142.825222 182.087943 \nL 143.435169 182.451573 \nL 144.045116 181.99932 \nL 144.655064 183.162194 \nL 145.265011 183.50942 \nL 145.874958 182.267388 \nL 146.484905 181.829999 \nL 147.094852 182.179376 \nL 147.704799 181.749083 \nL 148.924694 182.43382 \nL 150.754535 181.18328 \nL 151.364482 181.519989 \nL 151.97443 181.11536 \nL 152.584377 181.447863 \nL 153.194324 182.502257 \nL 155.024165 181.309465 \nL 156.24406 181.945291 \nL 156.854007 180.861686 \nL 157.463954 180.485342 \nL 158.073901 178.736934 \nL 158.683848 177.695269 \nL 159.293796 178.02625 \nL 160.51369 175.991754 \nL 161.123637 176.327224 \nL 161.733584 175.995976 \nL 162.953479 174.037264 \nL 163.563426 173.726281 \nL 164.173373 174.065361 \nL 165.393267 172.177519 \nL 166.003214 171.885231 \nL 166.613162 172.227215 \nL 167.223109 173.192154 \nL 168.443003 172.609398 \nL 169.05295 171.091088 \nL 169.662897 172.040189 \nL 170.272845 171.760521 \nL 170.882792 172.089461 \nL 171.492739 171.210776 \nL 173.932528 172.50208 \nL 174.542475 173.401155 \nL 175.152422 173.708308 \nL 175.762369 172.854518 \nL 176.982263 172.319779 \nL 177.592211 172.626131 \nL 178.202158 172.362866 \nL 178.812105 173.229025 \nL 179.422052 171.844734 \nL 180.031999 172.704473 \nL 180.641946 171.891918 \nL 181.861841 171.389482 \nL 182.471788 170.05057 \nL 183.081735 169.268451 \nL 183.691682 170.114942 \nL 184.301629 170.415361 \nL 184.911577 170.178011 \nL 185.521524 170.475071 \nL 186.131471 169.71047 \nL 186.741418 169.480215 \nL 187.351365 169.776317 \nL 187.961312 169.026517 \nL 188.57126 168.803028 \nL 189.181207 169.614469 \nL 189.791154 169.390288 \nL 190.401101 168.656939 \nL 191.011048 168.948426 \nL 191.620995 169.743558 \nL 192.84089 170.30787 \nL 193.450837 170.086782 \nL 195.280678 170.912617 \nL 195.890626 171.672729 \nL 196.500573 171.938113 \nL 198.940361 171.060291 \nL 199.550309 170.36915 \nL 200.770203 169.950221 \nL 202.600044 170.73402 \nL 203.209992 171.454734 \nL 203.819939 171.707105 \nL 204.429886 171.037296 \nL 209.309463 172.993732 \nL 209.91941 173.671625 \nL 210.529358 173.90312 \nL 211.139305 173.693758 \nL 211.749252 173.923228 \nL 212.359199 173.715529 \nL 213.579093 174.168645 \nL 214.189041 173.532521 \nL 214.798988 173.757988 \nL 215.408935 173.555156 \nL 216.018882 174.203461 \nL 216.628829 174.000471 \nL 217.848724 175.278041 \nL 218.458671 175.491202 \nL 219.068618 176.119054 \nL 219.678565 176.327224 \nL 220.288512 176.946867 \nL 220.898459 176.738713 \nL 222.118354 177.143813 \nL 222.728301 176.937307 \nL 223.338248 176.327224 \nL 223.948195 175.31824 \nL 224.558142 175.523113 \nL 225.16809 174.925383 \nL 226.997931 174.34718 \nL 228.217825 175.541118 \nL 228.827773 175.739838 \nL 229.43772 175.546941 \nL 230.047667 175.74417 \nL 231.877508 175.173893 \nL 232.487456 175.3696 \nL 233.097403 174.800579 \nL 235.537191 174.069976 \nL 236.147139 174.640316 \nL 237.367033 174.280014 \nL 237.97698 173.730849 \nL 239.196874 173.380687 \nL 239.806822 173.574478 \nL 240.416769 173.401155 \nL 241.026716 173.958027 \nL 242.24661 173.612307 \nL 242.856557 173.801986 \nL 243.466505 174.34988 \nL 244.076452 174.177467 \nL 244.686399 173.292048 \nL 245.906293 173.667167 \nL 246.51624 173.145864 \nL 247.126188 172.275734 \nL 247.736135 172.113681 \nL 249.565976 173.71983 \nL 250.175923 173.208651 \nL 251.395818 174.261758 \nL 252.005765 173.410683 \nL 253.835606 172.929203 \nL 254.445554 173.109479 \nL 255.055501 172.95099 \nL 255.665448 172.120415 \nL 256.275395 171.966069 \nL 256.885342 171.47831 \nL 257.495289 171.660329 \nL 258.105237 171.176604 \nL 258.715184 171.358419 \nL 259.325131 171.208892 \nL 259.935078 170.731116 \nL 260.545025 170.584462 \nL 261.76492 170.946145 \nL 262.984814 170.006902 \nL 263.594761 170.510985 \nL 264.204708 170.689834 \nL 266.03455 170.262271 \nL 267.254444 171.250661 \nL 267.864391 170.158752 \nL 269.084286 169.881124 \nL 269.694233 170.370578 \nL 270.30418 169.606809 \nL 270.914127 169.782517 \nL 271.524074 169.646458 \nL 272.134021 169.821006 \nL 272.743969 169.067815 \nL 273.353916 168.627036 \nL 273.963863 168.803028 \nL 274.57381 168.671803 \nL 275.183757 169.151981 \nL 276.403652 168.889768 \nL 277.013599 169.365189 \nL 277.623546 169.234216 \nL 278.233493 169.404965 \nL 278.84344 169.274635 \nL 279.453387 168.845786 \nL 280.063335 168.717779 \nL 280.673282 168.292917 \nL 281.283229 168.760647 \nL 283.11307 169.265421 \nL 284.332965 169.012045 \nL 284.942912 169.178195 \nL 285.552859 169.634435 \nL 286.162806 169.217593 \nL 286.772753 168.513643 \nL 287.382701 168.679354 \nL 287.992648 168.268524 \nL 288.602595 168.146969 \nL 290.432436 168.640347 \nL 291.042384 168.235168 \nL 291.652331 168.11534 \nL 292.262278 168.278554 \nL 293.482172 168.040576 \nL 294.092119 168.202692 \nL 294.702067 168.084543 \nL 295.312014 167.688343 \nL 295.921961 167.850097 \nL 297.141855 167.618116 \nL 297.751802 167.778803 \nL 298.36175 167.388567 \nL 298.971697 167.274687 \nL 299.581644 167.708607 \nL 300.801538 167.480958 \nL 302.63138 167.95415 \nL 303.241327 167.032629 \nL 303.851274 167.459422 \nL 305.071168 167.771802 \nL 305.681116 167.66012 \nL 306.291063 167.282991 \nL 306.90101 167.173114 \nL 307.510957 167.593111 \nL 308.730851 167.373435 \nL 309.340799 167.001722 \nL 309.950746 167.155942 \nL 310.560693 167.57079 \nL 311.17064 167.201353 \nL 311.780587 167.614019 \nL 312.390534 167.765209 \nL 314.220376 167.441685 \nL 314.830323 167.848747 \nL 315.44027 167.484929 \nL 316.050217 166.867201 \nL 316.660165 166.762567 \nL 317.270112 166.404007 \nL 317.880059 166.554837 \nL 320.319848 166.145326 \nL 321.539742 166.443908 \nL 322.149689 166.092899 \nL 323.369583 165.892735 \nL 325.199425 166.336088 \nL 325.809372 166.236367 \nL 326.419319 166.628203 \nL 327.029266 166.773256 \nL 328.249161 166.573642 \nL 328.859108 166.23125 \nL 329.469055 166.133161 \nL 330.079002 166.277665 \nL 331.298897 166.082618 \nL 331.908844 166.466747 \nL 332.518791 166.369239 \nL 333.738685 166.653271 \nL 334.348632 166.31766 \nL 334.95858 166.221361 \nL 336.178474 165.556637 \nL 336.788421 165.462692 \nL 337.398368 164.662208 \nL 338.618263 164.479561 \nL 339.22821 164.857004 \nL 339.838157 164.765665 \nL 340.448104 164.907767 \nL 341.667998 165.654145 \nL 342.887893 165.931961 \nL 343.49784 166.300456 \nL 344.107787 166.437347 \nL 344.717734 166.803143 \nL 345.327681 166.938339 \nL 345.937629 166.61596 \nL 347.157523 167.340441 \nL 347.76747 167.246308 \nL 348.377417 166.926032 \nL 348.987365 167.285283 \nL 349.597312 167.191856 \nL 350.817206 167.455419 \nL 351.427153 167.138111 \nL 352.0371 167.045783 \nL 352.647048 166.730687 \nL 353.256995 166.194221 \nL 353.866942 166.326717 \nL 354.476889 165.793359 \nL 355.696783 166.05835 \nL 356.306731 166.410396 \nL 356.916678 165.661412 \nL 357.526625 165.793359 \nL 358.136572 165.486755 \nL 358.746519 165.618513 \nL 359.356466 165.095452 \nL 359.966414 165.227493 \nL 360.576361 165.141773 \nL 361.186308 165.27317 \nL 361.796255 165.187717 \nL 362.406202 165.318471 \nL 363.016149 165.233269 \nL 363.626097 165.578377 \nL 364.236044 165.493002 \nL 364.845991 164.765665 \nL 366.675832 165.154943 \nL 367.28578 165.071279 \nL 367.895727 164.775993 \nL 368.505674 164.904957 \nL 369.115621 164.822298 \nL 369.725568 164.318607 \nL 369.725568 164.318607 \n\" style=\"fill:none;stroke:#8c564b;stroke-linecap:square;stroke-width:1.5;\"/>\n   </g>\n   <g id=\"line2d_18\">\n    <path clip-path=\"url(#pd6c94cd9f6)\" d=\"M 50.14375 158.419642 \nL 384.94375 158.419642 \n\" style=\"fill:none;stroke:#000000;stroke-dasharray:5.55,2.4;stroke-dashoffset:0;stroke-width:1.5;\"/>\n   </g>\n   <g id=\"patch_3\">\n    <path d=\"M 50.14375 251.82 \nL 50.14375 7.2 \n\" style=\"fill:none;stroke:#000000;stroke-linecap:square;stroke-linejoin:miter;stroke-width:0.8;\"/>\n   </g>\n   <g id=\"patch_4\">\n    <path d=\"M 384.94375 251.82 \nL 384.94375 7.2 \n\" style=\"fill:none;stroke:#000000;stroke-linecap:square;stroke-linejoin:miter;stroke-width:0.8;\"/>\n   </g>\n   <g id=\"patch_5\">\n    <path d=\"M 50.14375 251.82 \nL 384.94375 251.82 \n\" style=\"fill:none;stroke:#000000;stroke-linecap:square;stroke-linejoin:miter;stroke-width:0.8;\"/>\n   </g>\n   <g id=\"patch_6\">\n    <path d=\"M 50.14375 7.2 \nL 384.94375 7.2 \n\" style=\"fill:none;stroke:#000000;stroke-linecap:square;stroke-linejoin:miter;stroke-width:0.8;\"/>\n   </g>\n   <g id=\"legend_1\">\n    <g id=\"patch_7\">\n     <path d=\"M 302.089063 103.26875 \nL 377.94375 103.26875 \nQ 379.94375 103.26875 379.94375 101.26875 \nL 379.94375 14.2 \nQ 379.94375 12.2 377.94375 12.2 \nL 302.089063 12.2 \nQ 300.089063 12.2 300.089063 14.2 \nL 300.089063 101.26875 \nQ 300.089063 103.26875 302.089063 103.26875 \nz\n\" style=\"fill:#ffffff;opacity:0.8;stroke:#cccccc;stroke-linejoin:miter;\"/>\n    </g>\n    <g id=\"line2d_19\">\n     <path d=\"M 304.089063 20.298437 \nL 324.089063 20.298437 \n\" style=\"fill:none;stroke:#1f77b4;stroke-linecap:square;stroke-width:1.5;\"/>\n    </g>\n    <g id=\"line2d_20\"/>\n    <g id=\"text_14\">\n     <!-- P(die=1) -->\n     <defs>\n      <path d=\"M 19.671875 64.796875 \nL 19.671875 37.40625 \nL 32.078125 37.40625 \nQ 38.96875 37.40625 42.71875 40.96875 \nQ 46.484375 44.53125 46.484375 51.125 \nQ 46.484375 57.671875 42.71875 61.234375 \nQ 38.96875 64.796875 32.078125 64.796875 \nz\nM 9.8125 72.90625 \nL 32.078125 72.90625 \nQ 44.34375 72.90625 50.609375 67.359375 \nQ 56.890625 61.8125 56.890625 51.125 \nQ 56.890625 40.328125 50.609375 34.8125 \nQ 44.34375 29.296875 32.078125 29.296875 \nL 19.671875 29.296875 \nL 19.671875 0 \nL 9.8125 0 \nz\n\" id=\"DejaVuSans-80\"/>\n      <path d=\"M 31 75.875 \nQ 24.46875 64.65625 21.28125 53.65625 \nQ 18.109375 42.671875 18.109375 31.390625 \nQ 18.109375 20.125 21.3125 9.0625 \nQ 24.515625 -2 31 -13.1875 \nL 23.1875 -13.1875 \nQ 15.875 -1.703125 12.234375 9.375 \nQ 8.59375 20.453125 8.59375 31.390625 \nQ 8.59375 42.28125 12.203125 53.3125 \nQ 15.828125 64.359375 23.1875 75.875 \nz\n\" id=\"DejaVuSans-40\"/>\n      <path d=\"M 10.59375 45.40625 \nL 73.1875 45.40625 \nL 73.1875 37.203125 \nL 10.59375 37.203125 \nz\nM 10.59375 25.484375 \nL 73.1875 25.484375 \nL 73.1875 17.1875 \nL 10.59375 17.1875 \nz\n\" id=\"DejaVuSans-61\"/>\n      <path d=\"M 8.015625 75.875 \nL 15.828125 75.875 \nQ 23.140625 64.359375 26.78125 53.3125 \nQ 30.421875 42.28125 30.421875 31.390625 \nQ 30.421875 20.453125 26.78125 9.375 \nQ 23.140625 -1.703125 15.828125 -13.1875 \nL 8.015625 -13.1875 \nQ 14.5 -2 17.703125 9.0625 \nQ 20.90625 20.125 20.90625 31.390625 \nQ 20.90625 42.671875 17.703125 53.65625 \nQ 14.5 64.65625 8.015625 75.875 \nz\n\" id=\"DejaVuSans-41\"/>\n     </defs>\n     <g transform=\"translate(332.089063 23.798437)scale(0.1 -0.1)\">\n      <use xlink:href=\"#DejaVuSans-80\"/>\n      <use x=\"60.302734\" xlink:href=\"#DejaVuSans-40\"/>\n      <use x=\"99.316406\" xlink:href=\"#DejaVuSans-100\"/>\n      <use x=\"162.792969\" xlink:href=\"#DejaVuSans-105\"/>\n      <use x=\"190.576172\" xlink:href=\"#DejaVuSans-101\"/>\n      <use x=\"252.099609\" xlink:href=\"#DejaVuSans-61\"/>\n      <use x=\"335.888672\" xlink:href=\"#DejaVuSans-49\"/>\n      <use x=\"399.511719\" xlink:href=\"#DejaVuSans-41\"/>\n     </g>\n    </g>\n    <g id=\"line2d_21\">\n     <path d=\"M 304.089063 34.976562 \nL 324.089063 34.976562 \n\" style=\"fill:none;stroke:#ff7f0e;stroke-linecap:square;stroke-width:1.5;\"/>\n    </g>\n    <g id=\"line2d_22\"/>\n    <g id=\"text_15\">\n     <!-- P(die=2) -->\n     <g transform=\"translate(332.089063 38.476562)scale(0.1 -0.1)\">\n      <use xlink:href=\"#DejaVuSans-80\"/>\n      <use x=\"60.302734\" xlink:href=\"#DejaVuSans-40\"/>\n      <use x=\"99.316406\" xlink:href=\"#DejaVuSans-100\"/>\n      <use x=\"162.792969\" xlink:href=\"#DejaVuSans-105\"/>\n      <use x=\"190.576172\" xlink:href=\"#DejaVuSans-101\"/>\n      <use x=\"252.099609\" xlink:href=\"#DejaVuSans-61\"/>\n      <use x=\"335.888672\" xlink:href=\"#DejaVuSans-50\"/>\n      <use x=\"399.511719\" xlink:href=\"#DejaVuSans-41\"/>\n     </g>\n    </g>\n    <g id=\"line2d_23\">\n     <path d=\"M 304.089063 49.654687 \nL 324.089063 49.654687 \n\" style=\"fill:none;stroke:#2ca02c;stroke-linecap:square;stroke-width:1.5;\"/>\n    </g>\n    <g id=\"line2d_24\"/>\n    <g id=\"text_16\">\n     <!-- P(die=3) -->\n     <g transform=\"translate(332.089063 53.154687)scale(0.1 -0.1)\">\n      <use xlink:href=\"#DejaVuSans-80\"/>\n      <use x=\"60.302734\" xlink:href=\"#DejaVuSans-40\"/>\n      <use x=\"99.316406\" xlink:href=\"#DejaVuSans-100\"/>\n      <use x=\"162.792969\" xlink:href=\"#DejaVuSans-105\"/>\n      <use x=\"190.576172\" xlink:href=\"#DejaVuSans-101\"/>\n      <use x=\"252.099609\" xlink:href=\"#DejaVuSans-61\"/>\n      <use x=\"335.888672\" xlink:href=\"#DejaVuSans-51\"/>\n      <use x=\"399.511719\" xlink:href=\"#DejaVuSans-41\"/>\n     </g>\n    </g>\n    <g id=\"line2d_25\">\n     <path d=\"M 304.089063 64.332812 \nL 324.089063 64.332812 \n\" style=\"fill:none;stroke:#d62728;stroke-linecap:square;stroke-width:1.5;\"/>\n    </g>\n    <g id=\"line2d_26\"/>\n    <g id=\"text_17\">\n     <!-- P(die=4) -->\n     <g transform=\"translate(332.089063 67.832812)scale(0.1 -0.1)\">\n      <use xlink:href=\"#DejaVuSans-80\"/>\n      <use x=\"60.302734\" xlink:href=\"#DejaVuSans-40\"/>\n      <use x=\"99.316406\" xlink:href=\"#DejaVuSans-100\"/>\n      <use x=\"162.792969\" xlink:href=\"#DejaVuSans-105\"/>\n      <use x=\"190.576172\" xlink:href=\"#DejaVuSans-101\"/>\n      <use x=\"252.099609\" xlink:href=\"#DejaVuSans-61\"/>\n      <use x=\"335.888672\" xlink:href=\"#DejaVuSans-52\"/>\n      <use x=\"399.511719\" xlink:href=\"#DejaVuSans-41\"/>\n     </g>\n    </g>\n    <g id=\"line2d_27\">\n     <path d=\"M 304.089063 79.010937 \nL 324.089063 79.010937 \n\" style=\"fill:none;stroke:#9467bd;stroke-linecap:square;stroke-width:1.5;\"/>\n    </g>\n    <g id=\"line2d_28\"/>\n    <g id=\"text_18\">\n     <!-- P(die=5) -->\n     <g transform=\"translate(332.089063 82.510937)scale(0.1 -0.1)\">\n      <use xlink:href=\"#DejaVuSans-80\"/>\n      <use x=\"60.302734\" xlink:href=\"#DejaVuSans-40\"/>\n      <use x=\"99.316406\" xlink:href=\"#DejaVuSans-100\"/>\n      <use x=\"162.792969\" xlink:href=\"#DejaVuSans-105\"/>\n      <use x=\"190.576172\" xlink:href=\"#DejaVuSans-101\"/>\n      <use x=\"252.099609\" xlink:href=\"#DejaVuSans-61\"/>\n      <use x=\"335.888672\" xlink:href=\"#DejaVuSans-53\"/>\n      <use x=\"399.511719\" xlink:href=\"#DejaVuSans-41\"/>\n     </g>\n    </g>\n    <g id=\"line2d_29\">\n     <path d=\"M 304.089063 93.689062 \nL 324.089063 93.689062 \n\" style=\"fill:none;stroke:#8c564b;stroke-linecap:square;stroke-width:1.5;\"/>\n    </g>\n    <g id=\"line2d_30\"/>\n    <g id=\"text_19\">\n     <!-- P(die=6) -->\n     <defs>\n      <path d=\"M 33.015625 40.375 \nQ 26.375 40.375 22.484375 35.828125 \nQ 18.609375 31.296875 18.609375 23.390625 \nQ 18.609375 15.53125 22.484375 10.953125 \nQ 26.375 6.390625 33.015625 6.390625 \nQ 39.65625 6.390625 43.53125 10.953125 \nQ 47.40625 15.53125 47.40625 23.390625 \nQ 47.40625 31.296875 43.53125 35.828125 \nQ 39.65625 40.375 33.015625 40.375 \nz\nM 52.59375 71.296875 \nL 52.59375 62.3125 \nQ 48.875 64.0625 45.09375 64.984375 \nQ 41.3125 65.921875 37.59375 65.921875 \nQ 27.828125 65.921875 22.671875 59.328125 \nQ 17.53125 52.734375 16.796875 39.40625 \nQ 19.671875 43.65625 24.015625 45.921875 \nQ 28.375 48.1875 33.59375 48.1875 \nQ 44.578125 48.1875 50.953125 41.515625 \nQ 57.328125 34.859375 57.328125 23.390625 \nQ 57.328125 12.15625 50.6875 5.359375 \nQ 44.046875 -1.421875 33.015625 -1.421875 \nQ 20.359375 -1.421875 13.671875 8.265625 \nQ 6.984375 17.96875 6.984375 36.375 \nQ 6.984375 53.65625 15.1875 63.9375 \nQ 23.390625 74.21875 37.203125 74.21875 \nQ 40.921875 74.21875 44.703125 73.484375 \nQ 48.484375 72.75 52.59375 71.296875 \nz\n\" id=\"DejaVuSans-54\"/>\n     </defs>\n     <g transform=\"translate(332.089063 97.189062)scale(0.1 -0.1)\">\n      <use xlink:href=\"#DejaVuSans-80\"/>\n      <use x=\"60.302734\" xlink:href=\"#DejaVuSans-40\"/>\n      <use x=\"99.316406\" xlink:href=\"#DejaVuSans-100\"/>\n      <use x=\"162.792969\" xlink:href=\"#DejaVuSans-105\"/>\n      <use x=\"190.576172\" xlink:href=\"#DejaVuSans-101\"/>\n      <use x=\"252.099609\" xlink:href=\"#DejaVuSans-61\"/>\n      <use x=\"335.888672\" xlink:href=\"#DejaVuSans-54\"/>\n      <use x=\"399.511719\" xlink:href=\"#DejaVuSans-41\"/>\n     </g>\n    </g>\n   </g>\n  </g>\n </g>\n <defs>\n  <clipPath id=\"pd6c94cd9f6\">\n   <rect height=\"244.62\" width=\"334.8\" x=\"50.14375\" y=\"7.2\"/>\n  </clipPath>\n </defs>\n</svg>\n"
          },
          "metadata": {
            "needs_background": "light"
          }
        }
      ]
    },
    {
      "cell_type": "code",
      "source": [
        "import torch\n",
        "\n",
        "print(dir(torch.distributions))"
      ],
      "metadata": {
        "colab": {
          "base_uri": "https://localhost:8080/"
        },
        "id": "q_bXYdFGMwm0",
        "outputId": "c2d698f7-aaa0-464d-a8a9-6ebf40e27387"
      },
      "execution_count": null,
      "outputs": [
        {
          "output_type": "stream",
          "name": "stdout",
          "text": [
            "['AbsTransform', 'AffineTransform', 'Bernoulli', 'Beta', 'Binomial', 'CatTransform', 'Categorical', 'Cauchy', 'Chi2', 'ComposeTransform', 'ContinuousBernoulli', 'CorrCholeskyTransform', 'Dirichlet', 'Distribution', 'ExpTransform', 'Exponential', 'ExponentialFamily', 'FisherSnedecor', 'Gamma', 'Geometric', 'Gumbel', 'HalfCauchy', 'HalfNormal', 'Independent', 'IndependentTransform', 'Kumaraswamy', 'LKJCholesky', 'Laplace', 'LogNormal', 'LogisticNormal', 'LowRankMultivariateNormal', 'LowerCholeskyTransform', 'MixtureSameFamily', 'Multinomial', 'MultivariateNormal', 'NegativeBinomial', 'Normal', 'OneHotCategorical', 'OneHotCategoricalStraightThrough', 'Pareto', 'Poisson', 'PowerTransform', 'RelaxedBernoulli', 'RelaxedOneHotCategorical', 'ReshapeTransform', 'SigmoidTransform', 'SoftmaxTransform', 'StackTransform', 'StickBreakingTransform', 'StudentT', 'TanhTransform', 'Transform', 'TransformedDistribution', 'Uniform', 'VonMises', 'Weibull', '__all__', '__builtins__', '__cached__', '__doc__', '__file__', '__loader__', '__name__', '__package__', '__path__', '__spec__', 'bernoulli', 'beta', 'biject_to', 'binomial', 'categorical', 'cauchy', 'chi2', 'constraint_registry', 'constraints', 'continuous_bernoulli', 'dirichlet', 'distribution', 'exp_family', 'exponential', 'fishersnedecor', 'gamma', 'geometric', 'gumbel', 'half_cauchy', 'half_normal', 'identity_transform', 'independent', 'kl', 'kl_divergence', 'kumaraswamy', 'laplace', 'lkj_cholesky', 'log_normal', 'logistic_normal', 'lowrank_multivariate_normal', 'mixture_same_family', 'multinomial', 'multivariate_normal', 'negative_binomial', 'normal', 'one_hot_categorical', 'pareto', 'poisson', 'register_kl', 'relaxed_bernoulli', 'relaxed_categorical', 'studentT', 'transform_to', 'transformed_distribution', 'transforms', 'uniform', 'utils', 'von_mises', 'weibull']\n"
          ]
        }
      ]
    },
    {
      "cell_type": "code",
      "source": [
        "help(torch.ones)"
      ],
      "metadata": {
        "colab": {
          "base_uri": "https://localhost:8080/"
        },
        "id": "zy0ga6HOM5RF",
        "outputId": "ed0e1a71-0d54-4e8b-ddfb-cfd0287a6d98"
      },
      "execution_count": null,
      "outputs": [
        {
          "output_type": "stream",
          "name": "stdout",
          "text": [
            "Help on built-in function ones:\n",
            "\n",
            "ones(...)\n",
            "    ones(*size, *, out=None, dtype=None, layout=torch.strided, device=None, requires_grad=False) -> Tensor\n",
            "    \n",
            "    Returns a tensor filled with the scalar value `1`, with the shape defined\n",
            "    by the variable argument :attr:`size`.\n",
            "    \n",
            "    Args:\n",
            "        size (int...): a sequence of integers defining the shape of the output tensor.\n",
            "            Can be a variable number of arguments or a collection like a list or tuple.\n",
            "    \n",
            "    Keyword arguments:\n",
            "        out (Tensor, optional): the output tensor.\n",
            "        dtype (:class:`torch.dtype`, optional): the desired data type of returned tensor.\n",
            "            Default: if ``None``, uses a global default (see :func:`torch.set_default_tensor_type`).\n",
            "        layout (:class:`torch.layout`, optional): the desired layout of returned Tensor.\n",
            "            Default: ``torch.strided``.\n",
            "        device (:class:`torch.device`, optional): the desired device of returned tensor.\n",
            "            Default: if ``None``, uses the current device for the default tensor type\n",
            "            (see :func:`torch.set_default_tensor_type`). :attr:`device` will be the CPU\n",
            "            for CPU tensor types and the current CUDA device for CUDA tensor types.\n",
            "        requires_grad (bool, optional): If autograd should record operations on the\n",
            "            returned tensor. Default: ``False``.\n",
            "    \n",
            "    Example::\n",
            "    \n",
            "        >>> torch.ones(2, 3)\n",
            "        tensor([[ 1.,  1.,  1.],\n",
            "                [ 1.,  1.,  1.]])\n",
            "    \n",
            "        >>> torch.ones(5)\n",
            "        tensor([ 1.,  1.,  1.,  1.,  1.])\n",
            "\n"
          ]
        }
      ]
    },
    {
      "cell_type": "code",
      "source": [
        "torch.ones(4)"
      ],
      "metadata": {
        "colab": {
          "base_uri": "https://localhost:8080/"
        },
        "id": "RWgZ2DKhNF14",
        "outputId": "c2d24569-d130-4f1f-8f87-c3bf5fedecfd"
      },
      "execution_count": null,
      "outputs": [
        {
          "output_type": "execute_result",
          "data": {
            "text/plain": [
              "tensor([1., 1., 1., 1.])"
            ]
          },
          "metadata": {},
          "execution_count": 34
        }
      ]
    }
  ]
}